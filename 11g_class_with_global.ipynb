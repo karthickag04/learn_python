{
 "cells": [
  {
   "cell_type": "code",
   "execution_count": 3,
   "id": "c40655e6",
   "metadata": {},
   "outputs": [
    {
     "name": "stdout",
     "output_type": "stream",
     "text": [
      "I am a global variable\n",
      "New value for global variable\n",
      "New value for global variable\n"
     ]
    }
   ],
   "source": [
    "# Example to demonstrate global variable usage\n",
    "\n",
    "global_var = \"I am a global variable\"\n",
    "\n",
    "class MyClass:\n",
    "    def __init__(self, name):\n",
    "        self.name = name\n",
    "\n",
    "    def print_global(self):\n",
    "        print(global_var)  # Accessing the global variable\n",
    "\n",
    "    def set_global(self, value):\n",
    "        global global_var\n",
    "        global_var = value  # Modifying the global variable\n",
    "\n",
    "if __name__ == \"__main__\":\n",
    "    obj = MyClass(\"Example\")\n",
    "    obj.print_global()      # Prints the initial global variable\n",
    "    obj.set_global(\"New value for global variable\")\n",
    "    obj.print_global()      # Prints the updated global variable\n",
    "    print(global_var)       # Accessing the global variable outside the class\n"
   ]
  }
 ],
 "metadata": {
  "kernelspec": {
   "display_name": "Python 3",
   "language": "python",
   "name": "python3"
  },
  "language_info": {
   "codemirror_mode": {
    "name": "ipython",
    "version": 3
   },
   "file_extension": ".py",
   "mimetype": "text/x-python",
   "name": "python",
   "nbconvert_exporter": "python",
   "pygments_lexer": "ipython3",
   "version": "3.13.5"
  }
 },
 "nbformat": 4,
 "nbformat_minor": 5
}
