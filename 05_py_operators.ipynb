{
 "cells": [
  {
   "cell_type": "markdown",
   "id": "817adbbd",
   "metadata": {},
   "source": [
    "# Python Operators\n",
    "\n",
    "This notebook provides explanations and examples for various types of Python operators including Arithmetic, Assignment, Comparison, Logical, and Bitwise operators."
   ]
  },
  {
   "cell_type": "code",
   "execution_count": null,
   "id": "0479df6c",
   "metadata": {},
   "outputs": [
    {
     "name": "stdout",
     "output_type": "stream",
     "text": [
      "Added values of value1 and value2 is   30\n"
     ]
    }
   ],
   "source": [
    "## Arithmetic Operators\n",
    "value1 = 10\n",
    "value2 = 20\n",
    "\n",
    "result = value1 + value2\n",
    "\n",
    "print(\"Added values of value1 and value2 is  \", result)\n",
    "print(f\"Added values of {value1} and {value2} is  \", result)\n",
    "print(\"Added values of\", value1, \"and\", value2, \"is\", result)\n",
    "\n",
    "result = value1 - value2\n",
    "print(\"Subtracted values of value1 and value2 is  \", result)\n",
    "print(f\"Subtracted values of {value1} and {value2} is  \", result)\n",
    "print(\"Subtracted values of\", value1, \"and\", value2, \"is\", result)\n",
    "\n",
    "result = value1 * value2\n",
    "print(\"Multiplied values of value1 and value2 is \", result)\n",
    "\n",
    "result = value1 / value2\n",
    "print(\"Divided values of value1 and value2 is \", result)\n",
    "\n",
    "result = value1 ** value2\n",
    "print(\"Exponentiated values of value1 and value2 is \", result)\n",
    "\n",
    "result = value1 % value2\n",
    "print(\"Modulus values of value1 and value2 is \", result)\n",
    "\n",
    "value11 = 10\n",
    "value22 = 3\n",
    "\n",
    "result = value11 // value22\n",
    "print(\"Floor divided values of value11 and value22 is \", result)\n",
    "\n",
    "# Explanation:\n",
    "# Arithmetic operators perform mathematical operations. \n",
    "# The '+' operator adds, \n",
    "# '-' subtracts, \n",
    "# '*' multiplies, \n",
    "# '/' divides, \n",
    "# '**' raises to a power, \n",
    "# and '//' performs floor division (returns the integer part of the division)."
   ]
  },
  {
   "cell_type": "code",
   "execution_count": null,
   "id": "fccd1423",
   "metadata": {},
   "outputs": [],
   "source": [
    "## Assignment Operators\n",
    "x = 10\n",
    "print(x)\n",
    "\n",
    "x += 2  # x = x + 2\n",
    "print(\"After addition assignment, x = \", x)\n",
    "\n",
    "x -= 2  # x = x - 2\n",
    "print(\"After subtraction assignment, x = \", x)\n",
    "\n",
    "x *= 2  # x = x * 2\n",
    "print(\"After multiplication assignment, x = \", x)\n",
    "\n",
    "x /= 2  # x = x / 2\n",
    "print(\"After division assignment, x = \", x)\n",
    "\n",
    "x **= 2  # x = x ** 2\n",
    "print(\"After exponentiation assignment, x = \", x)\n",
    "\n",
    "x //= 2  # x = x // 2\n",
    "print(\"After floor division assignment, x = \", x)\n",
    "\n",
    "# Explanation:\n",
    "# Assignment operators combine assignment with an operation. \n",
    "# For example, 'x += 2' adds 2 to x and assigns the result back to x. \n",
    "# Other operators include '-=', '*=', '/=', '**=', and '//='."
   ]
  },
  {
   "cell_type": "code",
   "execution_count": null,
   "id": "c993871a",
   "metadata": {},
   "outputs": [],
   "source": [
    "## Comparison Operators\n",
    "x = 11\n",
    "y = 10\n",
    "\n",
    "print(\"Equal to: \", x == y)\n",
    "print(\"Not equal to: \", x != y)\n",
    "print(\"Greater than: \", x > y)\n",
    "print(\"Less than: \", x < y)\n",
    "print(\"Greater than or equal to: \", x >= y)\n",
    "print(\"Less than or equal to: \", x <= y)\n",
    "print(\"Identity: \", x is y)\n",
    "print(\"Is not identity: \", x is not y)\n",
    "\n",
    "# Explanation:\n",
    "# Comparison operators compare values and return boolean results. \n",
    "# They include \n",
    "# '==' (equal to), \n",
    "# '!=' (not equal to), \n",
    "# '>' (greater than), \n",
    "# '<' (less than), \n",
    "# '>=' (greater than or equal to), \n",
    "# '<=' (less than or equal to), \n",
    "# 'is' (identity check), \n",
    "# 'is not' (negated identity check)."
   ]
  },
  {
   "cell_type": "code",
   "execution_count": null,
   "id": "8660ab73",
   "metadata": {},
   "outputs": [],
   "source": [
    "## Logical Operators\n",
    "print((11 == 10) and (10 == 10))  # False because 11 != 10\n",
    "print((11 == 10) or (101 == 10) or ('name' == 'name'))  # True because 'name' == 'name'\n",
    "print(not((11 == 10) or (101 == 10) or ('name' == 'name')))  # False because the inner expression is True\n",
    "\n",
    "# Explanation:\n",
    "# Logical operators are used to combine conditional statements. \n",
    "# 'and' returns True only if both conditions are True. \n",
    "# 'or' returns True if at least one condition is True. \n",
    "# 'not' inverts the boolean value of the condition."
   ]
  }
 ],
 "metadata": {
  "kernelspec": {
   "display_name": "base",
   "language": "python",
   "name": "python3"
  },
  "language_info": {
   "codemirror_mode": {
    "name": "ipython",
    "version": 3
   },
   "file_extension": ".py",
   "mimetype": "text/x-python",
   "name": "python",
   "nbconvert_exporter": "python",
   "pygments_lexer": "ipython3",
   "version": "3.11.7"
  }
 },
 "nbformat": 4,
 "nbformat_minor": 5
}
