{
 "cells": [
  {
   "cell_type": "markdown",
   "id": "817adbbd",
   "metadata": {},
   "source": [
    "# Python Operators\n",
    "\n",
    "This notebook provides explanations and examples for various types of Python operators including Arithmetic, Assignment, Comparison, Logical, and Bitwise operators."
   ]
  },
  {
   "cell_type": "code",
   "execution_count": 1,
   "id": "89af375d",
   "metadata": {},
   "outputs": [],
   "source": [
    "value1 = 10\n",
    "value2 = 20\n",
    "\n",
    "result = value1 + value2\n",
    "\n"
   ]
  },
  {
   "cell_type": "code",
   "execution_count": 2,
   "id": "5fc09f57",
   "metadata": {},
   "outputs": [
    {
     "name": "stdout",
     "output_type": "stream",
     "text": [
      "Added values of value1 and value2 is   30\n"
     ]
    }
   ],
   "source": [
    "print(\"Added values of value1 and value2 is  \", result)"
   ]
  },
  {
   "cell_type": "code",
   "execution_count": null,
   "id": "966d9089",
   "metadata": {},
   "outputs": [
    {
     "name": "stdout",
     "output_type": "stream",
     "text": [
      "Added value of  10 and 20  is ... 30\n"
     ]
    }
   ],
   "source": [
    "print(\"Added value of \",value1,\"and\",value2,\" is ...\", result)"
   ]
  },
  {
   "cell_type": "code",
   "execution_count": 4,
   "id": "71ac9bf6",
   "metadata": {},
   "outputs": [
    {
     "name": "stdout",
     "output_type": "stream",
     "text": [
      "Added value of 10 and 20 is ... 30\n"
     ]
    }
   ],
   "source": [
    "print(f\"Added value of {value1} and {value2} is ... {result}\")"
   ]
  },
  {
   "cell_type": "code",
   "execution_count": 5,
   "id": "0479df6c",
   "metadata": {},
   "outputs": [
    {
     "name": "stdout",
     "output_type": "stream",
     "text": [
      "Added values of value1 and value2 is   30\n",
      "Added values of 10 and 20 is   30\n",
      "Added values of 10 and 20 is 30\n",
      "Subtracted values of value1 and value2 is   -10\n",
      "Subtracted values of 10 and 20 is   -10\n",
      "Subtracted values of 10 and 20 is -10\n",
      "Multiplied values of value1 and value2 is  200\n",
      "Divided values of value1 and value2 is  0.5\n",
      "Exponentiated values of value1 and value2 is  100000000000000000000\n",
      "Modulus values of value1 and value2 is  10\n",
      "Floor divided values of value11 and value22 is  3\n"
     ]
    }
   ],
   "source": [
    "## Arithmetic Operators\n",
    "value1 = 10\n",
    "value2 = 20\n",
    "\n",
    "result = value1 + value2\n",
    "\n",
    "print(\"Added values of value1 and value2 is  \", result)\n",
    "print(f\"Added values of {value1} and {value2} is  \", result)\n",
    "print(\"Added values of\", value1, \"and\", value2, \"is\", result)\n",
    "\n",
    "result = value1 - value2\n",
    "print(\"Subtracted values of value1 and value2 is  \", result)\n",
    "print(f\"Subtracted values of {value1} and {value2} is  \", result)\n",
    "print(\"Subtracted values of\", value1, \"and\", value2, \"is\", result)\n",
    "\n",
    "result = value1 * value2\n",
    "print(\"Multiplied values of value1 and value2 is \", result)\n",
    "\n",
    "result = value1 / value2\n",
    "print(\"Divided values of value1 and value2 is \", result)\n",
    "\n",
    "result = value1 ** value2\n",
    "print(\"Exponentiated values of value1 and value2 is \", result)\n",
    "\n",
    "result = value1 % value2\n",
    "print(\"Modulus values of value1 and value2 is \", result)\n",
    "\n",
    "value11 = 10\n",
    "value22 = 3\n",
    "\n",
    "result = value11 // value22\n",
    "print(\"Floor divided values of value11 and value22 is \", result)\n",
    "\n",
    "# Explanation:\n",
    "# Arithmetic operators perform mathematical operations. \n",
    "# The '+' operator adds, \n",
    "# '-' subtracts, \n",
    "# '*' multiplies, \n",
    "# '/' divides, \n",
    "# '**' raises to a power, \n",
    "# and '//' performs floor division (returns the integer part of the division)."
   ]
  },
  {
   "cell_type": "code",
   "execution_count": null,
   "id": "fccd1423",
   "metadata": {},
   "outputs": [
    {
     "name": "stdout",
     "output_type": "stream",
     "text": [
      "10\n",
      "After addition assignment, x =  12\n",
      "After subtraction assignment, x =  10\n"
     ]
    }
   ],
   "source": [
    "## Assignment Operators\n",
    "x = 10\n",
    "print(x)\n",
    "\n",
    "x += 2  # x = x + 2\n",
    "print(\"After addition assignment, x = \", x)\n",
    "\n",
    "x -= 2  # x = x - 2\n",
    "print(\"After subtraction assignment, x = \", x)\n",
    "\n",
    "x *= 2  # x = x * 2\n",
    "print(\"After multiplication assignment, x = \", x)\n",
    "\n",
    "x /= 2  # x = x / 2\n",
    "print(\"After division assignment, x = \", x)\n",
    "\n",
    "# x **= 2  # x = x ** 2\n",
    "# print(\"After exponentiation assignment, x = \", x)\n",
    "\n",
    "# x //= 2  # x = x // 2\n",
    "# print(\"After floor division assignment, x = \", x)\n",
    "\n",
    "# Explanation:\n",
    "# Assignment operators combine assignment with an operation. \n",
    "# For example, 'x += 2' adds 2 to x and assigns the result back to x. \n",
    "# Other operators include '-=', '*=', '/=', '**=', and '//='."
   ]
  },
  {
   "cell_type": "code",
   "execution_count": 10,
   "id": "c993871a",
   "metadata": {},
   "outputs": [
    {
     "name": "stdout",
     "output_type": "stream",
     "text": [
      "Equal to:  True\n",
      "Not equal to:  True\n",
      "Greater than:  False\n",
      "Less than:  False\n",
      "Greater than or equal to:  True\n",
      "Less than or equal to:  True\n",
      "Identity:  True\n",
      "Is not identity:  True\n"
     ]
    }
   ],
   "source": [
    "## Comparison Operators\n",
    "x = 10\n",
    "y = 10\n",
    "z = 20\n",
    "\n",
    "print(\"Equal to: \", x == y)\n",
    "print(\"Not equal to: \", x != z)\n",
    "print(\"Greater than: \", x > y)\n",
    "print(\"Less than: \", x < y)\n",
    "print(\"Greater than or equal to: \", x >= y)\n",
    "print(\"Less than or equal to: \", x <= y)\n",
    "print(\"Identity: \", x is y)\n",
    "print(\"Is not identity: \", x is not z)\n",
    "\n",
    "# Explanation:\n",
    "# Comparison operators compare values and return boolean results. \n",
    "# They include \n",
    "# '==' (equal to), \n",
    "# '!=' (not equal to), \n",
    "# '>' (greater than), \n",
    "# '<' (less than), \n",
    "# '>=' (greater than or equal to), \n",
    "# '<=' (less than or equal to), \n",
    "# 'is' (identity check), \n",
    "# 'is not' (negated identity check)."
   ]
  },
  {
   "cell_type": "code",
   "execution_count": 11,
   "id": "8660ab73",
   "metadata": {},
   "outputs": [
    {
     "name": "stdout",
     "output_type": "stream",
     "text": [
      "False\n",
      "True\n",
      "False\n"
     ]
    }
   ],
   "source": [
    "## Logical Operators\n",
    "print((11 == 10) and (10 == 10) )  # False because 11 != 10\n",
    "print((11 == 10) or (101 == 10) or ('name' == 'name'))  # True because 'name' == 'name'\n",
    "print(not((11 == 10) or (101 == 10) or ('name' == 'name')))  # False because the inner expression is True\n",
    "\n",
    "# Explanation:\n",
    "# Logical operators are used to combine conditional statements. \n",
    "# 'and' returns True only if both conditions are True. \n",
    "# 'or' returns True if at least one condition is True. \n",
    "# 'not' inverts the boolean value of the condition."
   ]
  },
  {
   "cell_type": "code",
   "execution_count": 36,
   "id": "51e26796",
   "metadata": {},
   "outputs": [
    {
     "name": "stdout",
     "output_type": "stream",
     "text": [
      "False\n"
     ]
    }
   ],
   "source": [
    "my_mark = 400\n",
    "my_result = \"Pass\"\n",
    "print(not(my_mark > 300 or my_result == \"fail\"))  # True if both conditions are True\n"
   ]
  },
  {
   "cell_type": "code",
   "execution_count": 1,
   "id": "1a506d65",
   "metadata": {},
   "outputs": [
    {
     "name": "stdout",
     "output_type": "stream",
     "text": [
      "a = 2 -> 0010\n",
      "b = 3 -> 0011\n",
      "\n",
      "a & b = 2 -> 0010\n",
      "a | b = 3 -> 0011\n",
      "a ^ b = 1 -> 0001\n",
      "~a = -3 -> 1101  # in 4-bit two's complement\n",
      "a << 1 = 4 -> 0100\n",
      "a >> 1 = 1 -> 0001\n",
      "a >>> 1 = 1 -> 0001\n"
     ]
    }
   ],
   "source": [
    "def to_binary(n, bits=4):\n",
    "    \"\"\"Return binary representation with fixed number of bits.\"\"\"\n",
    "    return format(n & (2**bits - 1), f'0{bits}b')\n",
    "\n",
    "a = 2  # 0010\n",
    "b = 3  # 0011\n",
    "\n",
    "print(f\"a = {a} -> {to_binary(a)}\")\n",
    "print(f\"b = {b} -> {to_binary(b)}\\n\")\n",
    "\n",
    "# Bitwise AND\n",
    "and_result = a & b\n",
    "print(f\"a & b = {and_result} -> {to_binary(and_result)}\")\n",
    "\n",
    "# Bitwise OR\n",
    "or_result = a | b\n",
    "print(f\"a | b = {or_result} -> {to_binary(or_result)}\")\n",
    "\n",
    "# Bitwise XOR\n",
    "xor_result = a ^ b\n",
    "print(f\"a ^ b = {xor_result} -> {to_binary(xor_result)}\")\n",
    "\n",
    "# Bitwise NOT\n",
    "not_a = ~a\n",
    "print(f\"~a = {not_a} -> {to_binary(not_a)}  # in 4-bit two's complement\")\n",
    "\n",
    "# Left Shift\n",
    "left_shift = a << 1\n",
    "print(f\"a << 1 = {left_shift} -> {to_binary(left_shift)}\")\n",
    "\n",
    "# Right Shift (Arithmetic)\n",
    "right_shift = a >> 1\n",
    "print(f\"a >> 1 = {right_shift} -> {to_binary(right_shift)}\")\n",
    "\n",
    "# Unsigned Right Shift (simulate for 4-bit with masking)\n",
    "unsigned_right_shift = (a % 0x10) >> 1\n",
    "print(f\"a >>> 1 = {unsigned_right_shift} -> {to_binary(unsigned_right_shift)}\")\n"
   ]
  },
  {
   "cell_type": "code",
   "execution_count": 2,
   "id": "1f76b670",
   "metadata": {},
   "outputs": [
    {
     "name": "stdout",
     "output_type": "stream",
     "text": [
      "Tamil Character: அ\n",
      "Check Mark: ✓\n",
      "Emoji: 😀\n"
     ]
    }
   ],
   "source": [
    "# Tamil letter 'அ' (U+0B85)\n",
    "tamil_char = '\\u0B85'\n",
    "print(\"Tamil Character:\", tamil_char)\n",
    "\n",
    "# Check mark (U+2713)\n",
    "check_mark = '\\u2713'\n",
    "print(\"Check Mark:\", check_mark)\n",
    "\n",
    "# Emoji using 8-digit code point (U+1F600)\n",
    "emoji = '\\U0001F600'\n",
    "print(\"Emoji:\", emoji)\n"
   ]
  }
 ],
 "metadata": {
  "kernelspec": {
   "display_name": "Python 3",
   "language": "python",
   "name": "python3"
  },
  "language_info": {
   "codemirror_mode": {
    "name": "ipython",
    "version": 3
   },
   "file_extension": ".py",
   "mimetype": "text/x-python",
   "name": "python",
   "nbconvert_exporter": "python",
   "pygments_lexer": "ipython3",
   "version": "3.13.2"
  }
 },
 "nbformat": 4,
 "nbformat_minor": 5
}
