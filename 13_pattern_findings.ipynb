{
 "cells": [
  {
   "cell_type": "markdown",
   "id": "9f76e83a-6365-47d0-92e8-5570920fdf17",
   "metadata": {},
   "source": [
    "## what is Data ?"
   ]
  },
  {
   "cell_type": "code",
   "execution_count": 1,
   "id": "90461e66-ee5a-4757-bc5b-16199f3267df",
   "metadata": {},
   "outputs": [],
   "source": [
    "# informations\n",
    "    # numbers (0 - 9)\n",
    "        # int (whole numbers)\n",
    "        # decimal(pointing)\n",
    "            # float\n",
    "            # double \n",
    "        # date\n",
    "        # datatime\n",
    "        # time\n",
    "        # timestamp\n",
    "\n",
    "    # strings\n",
    "        # char (a -z )\n",
    "        # string (single word / group of words)\n",
    "        # object (list, array, tuple, dict, set, frozenset)\n"
   ]
  },
  {
   "cell_type": "code",
   "execution_count": null,
   "id": "e784c7da",
   "metadata": {},
   "outputs": [],
   "source": [
    "orderid:4434343 order-id:4434343 order_id:4434343 orderid4434343 order:4434343 orderid:4434343"
   ]
  },
  {
   "cell_type": "code",
   "execution_count": 1,
   "id": "f3fd6918-86a1-42bc-ad0b-a454a66e116e",
   "metadata": {},
   "outputs": [],
   "source": [
    "# Import the re module\n",
    "import re\n"
   ]
  },
  {
   "cell_type": "code",
   "execution_count": 2,
   "id": "3931770b",
   "metadata": {},
   "outputs": [
    {
     "name": "stdout",
     "output_type": "stream",
     "text": [
      "['abc', 'abc', 'abc', 'abc', 'abc', 'abc']\n"
     ]
    }
   ],
   "source": [
    "# Basic Patterns\n",
    "# Matches exactly those characters.\n",
    "pattern1 = re.compile(r'abc')\n",
    "\n",
    "print(pattern1.findall('abc abc ABC khkhl abc ffdfdkjabc abc abc'))\n"
   ]
  },
  {
   "cell_type": "code",
   "execution_count": 3,
   "id": "f1a45208-5a54-4509-b766-e2a687dd81db",
   "metadata": {},
   "outputs": [
    {
     "name": "stdout",
     "output_type": "stream",
     "text": [
      "['e', 'o', 'o']\n"
     ]
    }
   ],
   "source": [
    "# Character Classes\n",
    "# Matches any one of the specified characters.\n",
    "pattern2 = re.compile(r'[aeiou]')\n",
    "print(pattern2.findall('hello world'))\n",
    "\n",
    "\n",
    "# method 2\n",
    "# direct use of pattern inside findall method\n",
    "# print(re.findall(r'[aeiou]','hello world'))"
   ]
  },
  {
   "cell_type": "code",
   "execution_count": 9,
   "id": "5c4e2ca3-55b6-49ed-888f-060237b1e4e9",
   "metadata": {},
   "outputs": [
    {
     "name": "stdout",
     "output_type": "stream",
     "text": [
      "['h', 'l', 'l', ' ', 'w', 'r', 'l', 'd']\n",
      "['h', 'e', 'l', 'l', 'o', 'w', 'o', 'r', 'l', 'd', 'K', 'K']\n"
     ]
    }
   ],
   "source": [
    "# Negated Character Classes\n",
    "# Matches any character not in the specified class.\n",
    "pattern3 = re.compile(r'[^aeiou]')\n",
    "print(pattern3.findall('hello world'))\n",
    "\n",
    "# to find all letters\n",
    "pattern3a = re.compile(r'[a-zA-Z]')\n",
    "print(pattern3a.findall('hello worldKK'))\n"
   ]
  },
  {
   "cell_type": "code",
   "execution_count": 5,
   "id": "4c948875-75b8-45f8-931c-06140b8f6a6d",
   "metadata": {},
   "outputs": [
    {
     "name": "stdout",
     "output_type": "stream",
     "text": [
      "['1', '2', '3', '3', '3', '2', '3', '2', '3', '2', '3', '2', '9', '4', '5', '6']\n",
      "['123332323232', '9', '456']\n"
     ]
    }
   ],
   "source": [
    "# Predefined Character Classes\n",
    "# Matches any digit (equivalent to [0-9]).\n",
    "pattern4 = re.compile(r'\\d')\n",
    "print(pattern4.findall('order123332323232  9def456'))\n",
    "pattern4a = re.compile(r'\\d+')\n",
    "print(pattern4a.findall('order123332323232  9def456'))\n"
   ]
  },
  {
   "cell_type": "code",
   "execution_count": 18,
   "id": "09d1d6e1-919b-4bcf-846a-0d7b0608acbe",
   "metadata": {},
   "outputs": [
    {
     "name": "stdout",
     "output_type": "stream",
     "text": [
      "[]\n",
      "['1Hello']\n"
     ]
    }
   ],
   "source": [
    "# Anchors\n",
    "# Matches the start of the string from the sentence.\n",
    "pattern5 = re.compile(r'^1Hello')\n",
    "print(pattern5.findall('Hello world Hello')) # not working\n",
    "\n",
    "print(pattern5.findall('1Hello world Hello'))\n"
   ]
  },
  {
   "cell_type": "code",
   "execution_count": 19,
   "id": "37ad220e-1d81-4291-985a-589744bdabb9",
   "metadata": {},
   "outputs": [
    {
     "name": "stdout",
     "output_type": "stream",
     "text": [
      "[]\n",
      "['World']\n"
     ]
    }
   ],
   "source": [
    "# Matches the end of the string from the sentence.\n",
    "pattern6 = re.compile(r'World$')\n",
    "print(pattern6.findall('Hello World....')) # not working\n",
    "print(pattern6.findall('Hello World'))\n"
   ]
  },
  {
   "cell_type": "code",
   "execution_count": 21,
   "id": "30bdc630-f1c3-4e4b-96de-e97f6164d3ed",
   "metadata": {},
   "outputs": [
    {
     "name": "stdout",
     "output_type": "stream",
     "text": [
      "['123', '', '', '', '123', '', '', '12', '', '', '']\n"
     ]
    }
   ],
   "source": [
    "# Quantifiers\n",
    "# Matches 0 or more repetitions of the preceding element.\n",
    "pattern7 = re.compile(r'\\d*')\n",
    "print(pattern7.findall('123abc123ff12dd'))\n"
   ]
  },
  {
   "cell_type": "code",
   "execution_count": 22,
   "id": "9b0c268c-1cfb-4d23-b0d3-074bd4f37897",
   "metadata": {},
   "outputs": [
    {
     "name": "stdout",
     "output_type": "stream",
     "text": [
      "['123', '234']\n"
     ]
    }
   ],
   "source": [
    "# Matches 1 or more repetitions of the preceding element.\n",
    "pattern8 = re.compile(r'\\d+')\n",
    "print(pattern8.findall('123abcdfdfk234'))\n"
   ]
  },
  {
   "cell_type": "code",
   "execution_count": 24,
   "id": "14dcbd0c-d6c1-40c3-9f1b-2bb160e9b9bb",
   "metadata": {},
   "outputs": [
    {
     "name": "stdout",
     "output_type": "stream",
     "text": [
      "['color', 'colour', 'col-our']\n"
     ]
    }
   ],
   "source": [
    "# Matches 0 or 1 repetition of the preceding element.\n",
    "pattern9 = re.compile(r'col-?ou?r')\n",
    "print(pattern9.findall('color colour col-our'))\n"
   ]
  },
  {
   "cell_type": "code",
   "execution_count": 28,
   "id": "0e8fbdc0-f288-49a1-956a-e16951716bfd",
   "metadata": {},
   "outputs": [
    {
     "name": "stdout",
     "output_type": "stream",
     "text": [
      "['12', '345', '678', '9989890']\n",
      "['9989890']\n"
     ]
    }
   ],
   "source": [
    "# Matches exactly n repetitions of the preceding element.\n",
    "pattern10 = re.compile(r'\\d+')\n",
    "\n",
    "print(pattern10.findall('12fsfs345fdsf678fsdfds9989890'))\n",
    "pattern10 = re.compile(r'\\d{7}')\n",
    "print(pattern10.findall('12fsfs345fdsf678fsdfds9989890'))\n"
   ]
  },
  {
   "cell_type": "code",
   "execution_count": 29,
   "id": "ee8a915f-29ed-4b27-9355-5f72a794b067",
   "metadata": {},
   "outputs": [
    {
     "name": "stdout",
     "output_type": "stream",
     "text": [
      "['order1234', 'order3445', 'orderid1213', 'order-id2232', 'order-id:2232']\n"
     ]
    }
   ],
   "source": [
    "# Matches 0 or 1 repetition of the preceding element.\n",
    "pattern9 = re.compile(r'order-?i?d?:?\\d{4}')\n",
    "print(pattern9.findall('order123456ddad order3445 fdfs orderid121323232 order-id22323232 order-id:22323232'))\n"
   ]
  },
  {
   "cell_type": "code",
   "execution_count": 40,
   "id": "88df9914-6f33-4586-969b-f9e366c6bea3",
   "metadata": {},
   "outputs": [
    {
     "name": "stdout",
     "output_type": "stream",
     "text": [
      "['.', '.']\n"
     ]
    }
   ],
   "source": [
    "# Escaping Special Characters\n",
    "# Escape a special character to treat it as a literal.\n",
    "pattern18 = re.compile(r'\\.')\n",
    "print(pattern18.findall('a.b.c'))"
   ]
  },
  {
   "cell_type": "code",
   "execution_count": 30,
   "id": "1201c872-f612-437b-8ab6-921e417ce33e",
   "metadata": {},
   "outputs": [
    {
     "name": "stdout",
     "output_type": "stream",
     "text": [
      "['1', '2', '3', '4', 'd', 'f', '3', '4', 'D', 'D']\n",
      "['a-zA-Z0-9']\n"
     ]
    }
   ],
   "source": [
    "# find a pattern with number and string\n",
    "pattern3 = re.compile(r'[a-zA-Z0-9]')\n",
    "print(pattern3.findall('1234df34 DD'))\n",
    "\n",
    "pattern4 = re.compile(r'a-zA-Z0-9')\n",
    "print(pattern4.findall('abcDD353 DDfdf333 33ffDD a-zA-Z0-9'))\n"
   ]
  },
  {
   "cell_type": "code",
   "execution_count": 31,
   "id": "f9424acb-c7b0-46cb-bd23-ddf0839a409e",
   "metadata": {},
   "outputs": [
    {
     "name": "stdout",
     "output_type": "stream",
     "text": [
      "['1234ffdfdf34']\n"
     ]
    }
   ],
   "source": [
    "# Create a pattern to identify 1234ffdfdf34\n",
    "\n",
    "pattern5 = re.compile(r'\\d{4}[a-z]{6}\\d{2}')\n",
    "print(pattern5.findall('1234ffdfdf34 ffDDDD4424 343ffff444 ffdsdsdfsfrrr'))\n"
   ]
  }
 ],
 "metadata": {
  "kernelspec": {
   "display_name": "base",
   "language": "python",
   "name": "python3"
  },
  "language_info": {
   "codemirror_mode": {
    "name": "ipython",
    "version": 3
   },
   "file_extension": ".py",
   "mimetype": "text/x-python",
   "name": "python",
   "nbconvert_exporter": "python",
   "pygments_lexer": "ipython3",
   "version": "3.11.7"
  }
 },
 "nbformat": 4,
 "nbformat_minor": 5
}
