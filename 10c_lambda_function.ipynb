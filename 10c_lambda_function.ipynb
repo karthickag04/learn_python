{
 "cells": [
  {
   "cell_type": "code",
   "execution_count": 8,
   "id": "d9c7e233",
   "metadata": {},
   "outputs": [],
   "source": [
    "def add(x, y):\n",
    "    return x + y"
   ]
  },
  {
   "cell_type": "code",
   "execution_count": 2,
   "id": "b55f20b3",
   "metadata": {},
   "outputs": [
    {
     "data": {
      "text/plain": [
       "42"
      ]
     },
     "execution_count": 2,
     "metadata": {},
     "output_type": "execute_result"
    }
   ],
   "source": [
    "add(20,22)"
   ]
  },
  {
   "cell_type": "code",
   "execution_count": 9,
   "id": "cd794897",
   "metadata": {},
   "outputs": [],
   "source": [
    "# example of a lambda function\n",
    "addition = lambda x, y, z: x + y + z\n"
   ]
  },
  {
   "cell_type": "code",
   "execution_count": null,
   "id": "87d9aa78",
   "metadata": {},
   "outputs": [
    {
     "name": "stdout",
     "output_type": "stream",
     "text": [
      "42\n"
     ]
    }
   ],
   "source": [
    "print(addition(20,22))  # Output: 15"
   ]
  },
  {
   "cell_type": "code",
   "execution_count": 14,
   "id": "c8bbc89c",
   "metadata": {},
   "outputs": [
    {
     "name": "stdout",
     "output_type": "stream",
     "text": [
      "47\n"
     ]
    }
   ],
   "source": [
    "# complicated lambda function with conditional logic\n",
    "complicated_addition = lambda x, y, z: x + y + z if x > 0 else x - y - z\n",
    "\n",
    "print(complicated_addition(20, 22, 5))  # Output: 37\n",
    "\n",
    "\n",
    "\n"
   ]
  },
  {
   "cell_type": "code",
   "execution_count": null,
   "id": "b0fe16c6",
   "metadata": {},
   "outputs": [
    {
     "name": "stdout",
     "output_type": "stream",
     "text": [
      "20\n"
     ]
    }
   ],
   "source": [
    "# complicated lambda function with for loop\n",
    "# The range(20, 22, 5) generates [20] because it starts at 20, adds 5 to get 25 (which is greater than 22), so only 20 is included.\n",
    "# sum([20]) = 20\n",
    "complicated_addition_with_loop = lambda x, y, z: sum([i for i in range(x, y, z)])\n",
    "print(complicated_addition_with_loop(20, 22, 5))  # Output: 20"
   ]
  },
  {
   "cell_type": "code",
   "execution_count": null,
   "id": "84f2f856",
   "metadata": {},
   "outputs": [],
   "source": [
    "from functools import reduce\n",
    "from collections import Counter\n",
    "\n",
    "# 10 different lambda function based executions\n",
    "\n",
    "# 1. Multiply two numbers\n",
    "multiply = lambda x, y: x * y\n",
    "print(multiply(3, 4))  # Output: 12\n",
    "\n",
    "# 2. Check if a number is even\n",
    "is_even = lambda x: x % 2 == 0\n",
    "print(is_even(10))  # Output: True\n",
    "\n",
    "# 3. Get the length of a string\n",
    "str_length = lambda s: len(s)\n",
    "print(str_length(\"hello\"))  # Output: 5\n",
    "\n",
    "# 4. Square a number\n",
    "square = lambda x: x ** 2\n",
    "print(square(5))  # Output: 25\n",
    "\n",
    "# 5. Concatenate two strings\n",
    "concat = lambda a, b: a + b\n",
    "print(concat(\"foo\", \"bar\"))  # Output: \"foobar\"\n",
    "\n",
    "# 6. Find maximum of three numbers\n",
    "max_of_three = lambda x, y, z: max(x, y, z)\n",
    "print(max_of_three(1, 9, 3))  # Output: 9\n",
    "\n",
    "# 7. Reverse a list\n",
    "reverse_list = lambda lst: lst[::-1]\n",
    "print(reverse_list([1, 2, 3]))  # Output: [3, 2, 1]\n",
    "\n",
    "# 8. Convert Celsius to Fahrenheit\n",
    "c_to_f = lambda c: (c * 9/5) + 32\n",
    "print(c_to_f(0))  # Output: 32.0\n",
    "\n",
    "# 9. Filter odd numbers from a list\n",
    "filter_odds = lambda lst: list(filter(lambda x: x % 2 != 0, lst))\n",
    "print(filter_odds([1, 2, 3, 4, 5]))  # Output: [1, 3, 5]\n",
    "\n",
    "# 10. Sum all elements in a list\n",
    "sum_list = lambda lst: sum(lst)\n",
    "print(sum_list([1, 2, 3, 4]))  # Output: 10\n",
    "\n",
    "# 11. Check if a string is a palindrome\n",
    "is_palindrome = lambda s: s == s[::-1]\n",
    "print(is_palindrome(\"radar\"))  # Output: True\n",
    "\n",
    "# 12. Get unique elements from a list\n",
    "unique_elements = lambda lst: list(set(lst))\n",
    "print(unique_elements([1, 2, 2, 3, 4, 4]))  # Output: [1, 2, 3, 4]\n",
    "\n",
    "# 13. Find the factorial of a number (using recursion)\n",
    "factorial = lambda n: 1 if n == 0 else n * factorial(n-1)\n",
    "print(factorial(5))  # Output: 120\n",
    "\n",
    "# 14. Merge two dictionaries\n",
    "merge_dicts = lambda d1, d2: {**d1, **d2}\n",
    "print(merge_dicts({'a': 1}, {'b': 2}))  # Output: {'a': 1, 'b': 2}\n",
    "\n",
    "# 15. Get the intersection of two lists\n",
    "intersection = lambda l1, l2: list(set(l1) & set(l2))\n",
    "print(intersection([1, 2, 3], [2, 3, 4]))  # Output: [2, 3]\n",
    "\n",
    "# 16. Capitalize all words in a sentence\n",
    "capitalize_words = lambda s: ' '.join(word.capitalize() for word in s.split())\n",
    "print(capitalize_words(\"hello world\"))  # Output: \"Hello World\"\n",
    "\n",
    "# 17. Find the minimum value in a list\n",
    "min_in_list = lambda lst: min(lst)\n",
    "print(min_in_list([5, 2, 9, 1]))  # Output: 1\n",
    "\n",
    "# 18. Count vowels in a string\n",
    "count_vowels = lambda s: sum(1 for c in s.lower() if c in 'aeiou')\n",
    "print(count_vowels(\"Hello World\"))  # Output: 3\n",
    "\n",
    "# 19. Flatten a list of lists\n",
    "flatten = lambda lst: [item for sublist in lst for item in sublist]\n",
    "print(flatten([[1, 2], [3, 4]]))  # Output: [1, 2, 3, 4]\n",
    "\n",
    "# 20. Remove all None values from a list\n",
    "remove_none = lambda lst: [x for x in lst if x is not None]\n",
    "print(remove_none([1, None, 2, None, 3]))  # Output: [1, 2, 3]\n",
    "\n",
    "# 21. Get the first n elements of a list\n",
    "first_n = lambda lst, n: lst[:n]\n",
    "print(first_n([1, 2, 3, 4, 5], 3))  # Output: [1, 2, 3]\n",
    "\n",
    "# 22. Check if all elements in a list are positive\n",
    "all_positive = lambda lst: all(x > 0 for x in lst)\n",
    "print(all_positive([1, 2, 3]))  # Output: True\n",
    "\n",
    "# 23. Zip two lists into a dictionary\n",
    "zip_to_dict = lambda keys, values: dict(zip(keys, values))\n",
    "print(zip_to_dict(['a', 'b'], [1, 2]))  # Output: {'a': 1, 'b': 2}\n",
    "\n",
    "# 24. Sort a list of tuples by the second element\n",
    "sort_by_second = lambda lst: sorted(lst, key=lambda x: x[1])\n",
    "print(sort_by_second([(1, 3), (2, 2), (3, 1)]))  # Output: [(3, 1), (2, 2), (1, 3)]\n",
    "\n",
    "# 25. Remove duplicates from a string\n",
    "remove_duplicates = lambda s: ''.join(sorted(set(s), key=s.index))\n",
    "print(remove_duplicates(\"banana\"))  # Output: \"ban\"\n",
    "\n",
    "# 26. Get the product of all elements in a list\n",
    "product_list = lambda lst: reduce(lambda x, y: x * y, lst)\n",
    "print(product_list([1, 2, 3, 4]))  # Output: 24\n",
    "\n",
    "# 27. Find the index of the maximum element in a list\n",
    "index_of_max = lambda lst: lst.index(max(lst))\n",
    "print(index_of_max([1, 3, 2, 5, 4]))  # Output: 3\n",
    "\n",
    "# 28. Convert a list of integers to a single integer\n",
    "list_to_int = lambda lst: int(''.join(map(str, lst)))\n",
    "print(list_to_int([1, 2, 3, 4]))  # Output: 1234\n",
    "\n",
    "# 29. Filter strings longer than n characters\n",
    "filter_long_strings = lambda lst, n: [s for s in lst if len(s) > n]\n",
    "print(filter_long_strings([\"hi\", \"hello\", \"world\"], 2))  # Output: ['hello', 'world']\n",
    "\n",
    "# 30. Count the frequency of elements in a list\n",
    "count_frequency = lambda lst: dict(Counter(lst))\n",
    "print(count_frequency([1, 2, 2, 3, 3, 3]))  # Output: {1: 1, 2: 2, 3: 3}"
   ]
  },
  {
   "cell_type": "code",
   "execution_count": 2,
   "id": "3fb8cc76",
   "metadata": {},
   "outputs": [
    {
     "name": "stdout",
     "output_type": "stream",
     "text": [
      "[1, 3, 5, 7, 9, 2, 4, 6, 8, 10]\n",
      "[3, 7, 11, 15, 19]\n"
     ]
    }
   ],
   "source": [
    "list1 = [1,3,5,7,9]\n",
    "list2 = [2,4,6,8,10]\n",
    "\n",
    "print(list1 + list2)\n",
    "\n",
    "added_list = []\n",
    "for a, b in zip(list1, list2):\n",
    "    added_list.append(a + b)\n",
    "print(added_list)"
   ]
  },
  {
   "cell_type": "code",
   "execution_count": null,
   "id": "3d60bc33",
   "metadata": {},
   "outputs": [
    {
     "name": "stdout",
     "output_type": "stream",
     "text": [
      "[ 3  7 11 15 19]\n"
     ]
    }
   ],
   "source": [
    "import numpy as np\n",
    "\n",
    "print(np.array(list1)+np.array(list2))  # Using numpy to add two lists element-wise"
   ]
  },
  {
   "cell_type": "code",
   "execution_count": 5,
   "id": "4ddceeab",
   "metadata": {},
   "outputs": [
    {
     "name": "stdout",
     "output_type": "stream",
     "text": [
      "Defaulting to user installation because normal site-packages is not writeable\n",
      "Requirement already satisfied: numpy in c:\\users\\admin\\appdata\\roaming\\python\\python311\\site-packages (1.26.4)\n",
      "Note: you may need to restart the kernel to use updated packages.\n"
     ]
    }
   ],
   "source": [
    "%pip install numpy"
   ]
  }
 ],
 "metadata": {
  "kernelspec": {
   "display_name": "base",
   "language": "python",
   "name": "python3"
  },
  "language_info": {
   "codemirror_mode": {
    "name": "ipython",
    "version": 3
   },
   "file_extension": ".py",
   "mimetype": "text/x-python",
   "name": "python",
   "nbconvert_exporter": "python",
   "pygments_lexer": "ipython3",
   "version": "3.11.7"
  }
 },
 "nbformat": 4,
 "nbformat_minor": 5
}
