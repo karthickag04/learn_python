{
 "cells": [
  {
   "cell_type": "markdown",
   "metadata": {},
   "source": [
    "# STRING MANIPULATION PRACTICE\n",
    "This notebook covers:\n",
    "- Built-in string functions\n",
    "- Pattern Searching\n",
    "- Replacing and removing substrings\n",
    "- Working with Slice Operator\n",
    "- Applying Slice Operators in Lists and Tuples"
   ]
  },
  {
   "cell_type": "code",
   "execution_count": 11,
   "metadata": {},
   "outputs": [
    {
     "name": "stdout",
     "output_type": "stream",
     "text": [
      "Original string:  Hello, Python World! \n",
      "Uppercase:  HELLO, PYTHON WORLD! \n",
      "Lowercase:  hello, python world! \n",
      "Stripped: Hello, Python World!\n",
      "Title Case:  Hello, Python World! \n",
      "Starts with 'Hello': True\n",
      "Ends with 'World!': True\n",
      "Count of 'o': 3\n",
      "Index of 'Python': 8\n"
     ]
    }
   ],
   "source": [
    "# 1. Built-in string functions\n",
    "s = \" Hello, Python World! \"\n",
    "print(\"Original string:\", s)\n",
    "print(\"Uppercase:\", s.upper())\n",
    "print(\"Lowercase:\", s.lower())\n",
    "print(\"Stripped:\", s.strip())\n",
    "print(\"Title Case:\", s.title())\n",
    "print(\"Starts with 'Hello':\", s.startswith(\" Hello\"))\n",
    "print(\"Ends with 'World!':\", s.endswith(\"World! \"))\n",
    "print(\"Count of 'o':\", s.count(\"o\"))\n",
    "print(\"Index of 'Python':\", s.find(\"Python\"))"
   ]
  },
  {
   "cell_type": "code",
   "execution_count": 16,
   "metadata": {},
   "outputs": [
    {
     "name": "stdout",
     "output_type": "stream",
     "text": [
      "Is 'data' in text (case-sensitive)? True\n",
      "Is 'data' in text (case-insensitive)? True\n"
     ]
    }
   ],
   "source": [
    "# 2. Pattern Searching using 'in'\n",
    "text = \"Data science and data analysis\"\n",
    "pattern = \"data\"\n",
    "print(f\"Is '{pattern}' in text (case-sensitive)?\", pattern in text)\n",
    "print(f\"Is '{pattern}' in text (case-insensitive)?\", pattern.lower() in text.lower())"
   ]
  },
  {
   "cell_type": "code",
   "execution_count": 19,
   "metadata": {},
   "outputs": [
    {
     "name": "stdout",
     "output_type": "stream",
     "text": [
      "Original: Machine learning is fun. Learning is continuous.\n",
      "Replace 'Learning' with 'Growth': Machine learning is fun. Growth is continuous.\n",
      "Remove 'learning': Machine  is fun. Learning is continuous.\n"
     ]
    }
   ],
   "source": [
    "# 3. Replacing and removing substrings\n",
    "sentence = \"Machine learning is fun. Learning is continuous.\"\n",
    "print(\"Original:\", sentence)\n",
    "print(\"Replace 'Learning' with 'Growth':\", sentence.replace(\"Learning\", \"Growth\"))\n",
    "print(\"Remove 'learning':\", sentence.replace(\"learning\", \"\"))"
   ]
  },
  {
   "cell_type": "code",
   "execution_count": null,
   "metadata": {},
   "outputs": [],
   "source": [
    "# 3. Replacing and removing substrings\n",
    "sentence = \"Machine learning is fun. Learning is continuous.\"\n",
    "print(\"Original:\", sentence)\n",
    "print(\"Replace 'Learning' with 'Growth':\", sentence.replace(\"Learning\", \"Growth\"))\n",
    "print(\"Remove 'learning':\", sentence.replace(\"learning\", \"\"))"
   ]
  },
  {
   "cell_type": "code",
   "execution_count": 1,
   "metadata": {},
   "outputs": [
    {
     "name": "stdout",
     "output_type": "stream",
     "text": [
      "Original String: DataStructures\n",
      "First 4 chars: Data\n",
      "Last 4 chars: ures\n",
      "Middle part (4 to 10): Struct\n",
      "Reverse string: serutcurtSataD\n"
     ]
    }
   ],
   "source": [
    "# 4. Working with Slice Operator on strings\n",
    "s = \"DataStructures\"\n",
    "print(\"Original String:\", s)\n",
    "print(\"First 4 chars:\", s[:4])\n",
    "print(\"Last 4 chars:\", s[-4:])\n",
    "print(\"Middle part (4 to 10):\", s[4:10])\n",
    "print(\"Reverse string:\", s[::-1])"
   ]
  },
  {
   "cell_type": "code",
   "execution_count": 2,
   "metadata": {},
   "outputs": [
    {
     "name": "stdout",
     "output_type": "stream",
     "text": [
      "List slice [1:5]: [20, 30, 40, 50]\n",
      "Tuple slice [2:]: ('c', 'd', 'e', 'f')\n",
      "Reversed list: [70, 60, 50, 40, 30, 20, 10]\n",
      "Alternate elements in tuple: ('a', 'c', 'e')\n"
     ]
    }
   ],
   "source": [
    "# 5. Applying Slice Operators in Lists and Tuples\n",
    "my_list = [10, 20, 30, 40, 50, 60, 70]\n",
    "my_tuple = ('a', 'b', 'c', 'd', 'e', 'f')\n",
    "print(\"List slice [1:5]:\", my_list[1:5])\n",
    "print(\"Tuple slice [2:]:\", my_tuple[2:])\n",
    "print(\"Reversed list:\", my_list[::-1])\n",
    "print(\"Alternate elements in tuple:\", my_tuple[::2])"
   ]
  },
  {
   "cell_type": "code",
   "execution_count": null,
   "metadata": {},
   "outputs": [],
   "source": [
    "# String Handling Methods in Python\n",
    "\n",
    "# Case Conversion\n",
    "# s.upper()\n",
    "# s.lower()\n",
    "# s.title()\n",
    "# s.capitalize()\n",
    "# s.swapcase()\n",
    "# s.casefold()\n",
    "\n",
    "# Search & Find\n",
    "# s.find(sub)\n",
    "# s.rfind(sub)\n",
    "# s.index(sub)\n",
    "# s.rindex(sub)\n",
    "# s.count(sub)\n",
    "# sub in s\n",
    "\n",
    "# Modification / Replacement\n",
    "# s.replace(old, new)\n",
    "# s.strip()\n",
    "# s.lstrip()\n",
    "# s.rstrip()\n",
    "# s.removeprefix(prefix)\n",
    "# s.removesuffix(suffix)\n",
    "\n",
    "# Split & Join\n",
    "# s.split()\n",
    "# s.rsplit()\n",
    "# s.splitlines()\n",
    "# s.join(iterable)\n",
    "# s.partition(sep)\n",
    "# s.rpartition(sep)\n",
    "\n",
    "# Alignment & Padding\n",
    "# s.center(width)\n",
    "# s.ljust(width)\n",
    "# s.rjust(width)\n",
    "# s.zfill(width)\n",
    "\n",
    "# Validation / Checks\n",
    "# s.isalpha()\n",
    "# s.isdigit()\n",
    "# s.isalnum()\n",
    "# s.isspace()\n",
    "# s.islower()\n",
    "# s.isupper()\n",
    "# s.istitle()\n",
    "# s.startswith(sub)\n",
    "# s.endswith(sub)\n",
    "\n",
    "# Encoding / Decoding\n",
    "# s.encode()\n",
    "# s.expandtabs()\n"
   ]
  }
 ],
 "metadata": {
  "kernelspec": {
   "display_name": "base",
   "language": "python",
   "name": "python3"
  },
  "language_info": {
   "codemirror_mode": {
    "name": "ipython",
    "version": 3
   },
   "file_extension": ".py",
   "mimetype": "text/x-python",
   "name": "python",
   "nbconvert_exporter": "python",
   "pygments_lexer": "ipython3",
   "version": "3.11.7"
  }
 },
 "nbformat": 4,
 "nbformat_minor": 2
}
