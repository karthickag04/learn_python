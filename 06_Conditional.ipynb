{
 "cells": [
  {
   "cell_type": "code",
   "execution_count": 12,
   "id": "c5546219",
   "metadata": {},
   "outputs": [],
   "source": [
    "x = 31\n",
    "y = 20\n"
   ]
  },
  {
   "cell_type": "code",
   "execution_count": 5,
   "id": "9af862e8",
   "metadata": {},
   "outputs": [
    {
     "name": "stdout",
     "output_type": "stream",
     "text": [
      "x is less than y\n"
     ]
    }
   ],
   "source": [
    "if x < y:\n",
    " print(\"x is less than y\")"
   ]
  },
  {
   "cell_type": "code",
   "execution_count": 13,
   "id": "d3e6e649",
   "metadata": {},
   "outputs": [
    {
     "name": "stdout",
     "output_type": "stream",
     "text": [
      "x is equal to y\n",
      "y is not greater than 20\n"
     ]
    }
   ],
   "source": [
    "if x == y or y > 20:\n",
    " print(\"x not eaqual to y \")\n",
    " print(\"y is greater than 20\")\n",
    "else:\n",
    " print(\"x is equal to y\")\n",
    " print(\"y is not greater than 20\")"
   ]
  },
  {
   "cell_type": "code",
   "execution_count": null,
   "id": "f96c9940",
   "metadata": {},
   "outputs": [
    {
     "name": "stdout",
     "output_type": "stream",
     "text": [
      "x is equal to y\n"
     ]
    }
   ],
   "source": [
    "x = 30\n",
    "y = 30\n",
    "\n",
    "if y > 20:\n",
    "\n",
    "    if x < y and y > 20:\n",
    "        print(\"x is less than y\")\n",
    "    elif x > y:\n",
    "        print(\"x is greater than y\")\n",
    "    else:\n",
    "        print(\"x is equal to y\")\n",
    "\n",
    "elif x == y:\n",
    "    print(\"x is equal to y\")\n",
    "    print(\"y is not greater than 20\")\n",
    "else:\n",
    "    print(\"x is not equal to y\")\n",
    "    print(\"y is not greater than 20\")"
   ]
  },
  {
   "cell_type": "code",
   "execution_count": 24,
   "id": "2662f1a0",
   "metadata": {},
   "outputs": [
    {
     "name": "stdout",
     "output_type": "stream",
     "text": [
      "20 * 0 = 0\n"
     ]
    }
   ],
   "source": [
    "x = '*'\n",
    "y = 20\n",
    "z = 0\n",
    "# operators = ['+', '-', '*', '/'] using match statement\n",
    "match x:\n",
    "    case 1:\n",
    "        print(f\"{y} + {z} = {y + z}\")\n",
    "    case 2:\n",
    "        print(f\"{y} - {z} = {y - z}\")\n",
    "    case '*':\n",
    "        print(f\"{y} * {z} = {y * z}\")\n",
    "    case '/':\n",
    "        if z != 0:\n",
    "            print(f\"{y} / {z} = {y / z}\")\n",
    "        else:\n",
    "            print(\"Cannot divide by zero\")\n",
    "    case _:\n",
    "        print(\"Unknown operator\")"
   ]
  },
  {
   "cell_type": "code",
   "execution_count": null,
   "id": "23c2aa7b",
   "metadata": {},
   "outputs": [],
   "source": []
  }
 ],
 "metadata": {
  "kernelspec": {
   "display_name": "Python 3",
   "language": "python",
   "name": "python3"
  },
  "language_info": {
   "codemirror_mode": {
    "name": "ipython",
    "version": 3
   },
   "file_extension": ".py",
   "mimetype": "text/x-python",
   "name": "python",
   "nbconvert_exporter": "python",
   "pygments_lexer": "ipython3",
   "version": "3.11.6"
  }
 },
 "nbformat": 4,
 "nbformat_minor": 5
}
