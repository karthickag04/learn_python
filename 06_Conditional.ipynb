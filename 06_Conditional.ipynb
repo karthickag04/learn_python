{
 "cells": [
  {
   "cell_type": "code",
   "execution_count": 1,
   "id": "78b5f84e",
   "metadata": {},
   "outputs": [],
   "source": [
    "username_in_db =\"Ragu\"\n",
    "pass_in_db=\"Ragu@123\""
   ]
  },
  {
   "cell_type": "code",
   "execution_count": 8,
   "id": "8fe98ec5",
   "metadata": {},
   "outputs": [
    {
     "name": "stdout",
     "output_type": "stream",
     "text": [
      "your password is  not matched\n",
      "Successfully Logged in. \n",
      " Welcome to Dashboard\n"
     ]
    }
   ],
   "source": [
    "user_entered_name = (input(\"Enter your username\"))\n",
    "\n",
    "user_entered_pass = (input(\"Enter your password\"))\n",
    "\n",
    "\n",
    "if username_in_db == user_entered_name  and pass_in_db == user_entered_pass:\n",
    "    print(\"Successfully Logged in. \\n Welcome to Dashboard\")\n",
    "else:\n",
    "    if username_in_db == user_entered_name:\n",
    "       print(\"your password is  not matched\")\n",
    "       user_entered_name = (input(\"Enter your username\"))\n",
    "       user_entered_pass = (input(\"Enter your password\"))\n",
    "       if username_in_db == user_entered_name  and pass_in_db == user_entered_pass:\n",
    "            print(\"Successfully Logged in. \\n Welcome to Dashboard\")\n",
    "    \n",
    "    \n",
    "    elif pass_in_db == user_entered_pass:\n",
    "        print(\"your username  is not matched\")\n",
    "        user_entered_name = (input(\"Enter your username\"))\n",
    "        user_entered_pass = (input(\"Enter your password\"))\n",
    "        if username_in_db == user_entered_name  and pass_in_db == user_entered_pass:\n",
    "            print(\"Successfully Logged in. \\n Welcome to Dashboard\")\n"
   ]
  },
  {
   "cell_type": "code",
   "execution_count": 12,
   "id": "c5546219",
   "metadata": {},
   "outputs": [],
   "source": [
    "x = 31\n",
    "y = 20\n"
   ]
  },
  {
   "cell_type": "code",
   "execution_count": 6,
   "id": "9af862e8",
   "metadata": {},
   "outputs": [
    {
     "name": "stdout",
     "output_type": "stream",
     "text": [
      "x is less than y........\n"
     ]
    }
   ],
   "source": [
    "if False:\n",
    " print(\"x is less than y\")\n",
    "elif True:\n",
    " print(\"x is less than y........\")\n",
    "else:\n",
    " print(\"x is greater than or equal to y\")"
   ]
  },
  {
   "cell_type": "code",
   "execution_count": 13,
   "id": "d3e6e649",
   "metadata": {},
   "outputs": [
    {
     "name": "stdout",
     "output_type": "stream",
     "text": [
      "x is equal to y\n",
      "y is not greater than 20\n"
     ]
    }
   ],
   "source": [
    "if x == y or y > 20:\n",
    " print(\"x not eaqual to y \")\n",
    " print(\"y is greater than 20\")\n",
    "else:\n",
    " print(\"x is equal to y\")\n",
    " print(\"y is not greater than 20\")"
   ]
  },
  {
   "cell_type": "code",
   "execution_count": null,
   "id": "f96c9940",
   "metadata": {},
   "outputs": [
    {
     "name": "stdout",
     "output_type": "stream",
     "text": [
      "x is equal to y\n"
     ]
    }
   ],
   "source": [
    "x = 30\n",
    "y = 30\n",
    "\n",
    "if y > 20:\n",
    "\n",
    "    if x < y and y > 20:\n",
    "        print(\"x is less than y\")\n",
    "    elif x > y:\n",
    "        print(\"x is greater than y\")\n",
    "    else:\n",
    "        print(\"x is equal to y\")\n",
    "\n",
    "elif x == y:\n",
    "    print(\"x is equal to y\")\n",
    "    print(\"y is not greater than 20\")\n",
    "else:\n",
    "    print(\"x is not equal to y\")\n",
    "    print(\"y is not greater than 20\")"
   ]
  },
  {
   "cell_type": "code",
   "execution_count": 24,
   "id": "2662f1a0",
   "metadata": {},
   "outputs": [
    {
     "name": "stdout",
     "output_type": "stream",
     "text": [
      "20 * 0 = 0\n"
     ]
    }
   ],
   "source": [
    "x = '*'\n",
    "y = 20\n",
    "z = 0\n",
    "# operators = ['+', '-', '*', '/'] using match statement\n",
    "match x:\n",
    "    case 1:\n",
    "        print(f\"{y} + {z} = {y + z}\")\n",
    "    case 2:\n",
    "        print(f\"{y} - {z} = {y - z}\")\n",
    "    case '*':\n",
    "        print(f\"{y} * {z} = {y * z}\")\n",
    "    case '/':\n",
    "        if z != 0:\n",
    "            print(f\"{y} / {z} = {y / z}\")\n",
    "        else:\n",
    "            print(\"Cannot divide by zero\")\n",
    "    case _:\n",
    "        print(\"Unknown operator\")"
   ]
  },
  {
   "cell_type": "code",
   "execution_count": 9,
   "id": "dd44e18c",
   "metadata": {},
   "outputs": [
    {
     "name": "stdout",
     "output_type": "stream",
     "text": [
      "Choose an operator from the following: + - * /\n",
      "22.0 - 10.0 = 12.0\n"
     ]
    }
   ],
   "source": [
    "# Available operators\n",
    "operators = ['+', '-', '*', '/']\n",
    "print(\"Choose an operator from the following:\", ' '.join(operators))\n",
    "\n",
    "# Get numbers as input\n",
    "y = float(input(\"Enter the first number (y): \"))\n",
    "z = float(input(\"Enter the second number (z): \"))\n",
    "\n",
    "# Get operator as input\n",
    "op = input(\"Enter your operator: \")\n",
    "\n",
    "# Match and perform operation\n",
    "match op:\n",
    "    case '+':\n",
    "        print(f\"{y} + {z} = {y + z}\")\n",
    "    case '-':\n",
    "        print(f\"{y} - {z} = {y - z}\")\n",
    "    case '*':\n",
    "        print(f\"{y} * {z} = {y * z}\")\n",
    "    case '/':\n",
    "        if z != 0:\n",
    "            print(f\"{y} / {z} = {y / z}\")\n",
    "        else:\n",
    "            print(\"Cannot divide by zero\")\n",
    "    case _:\n",
    "        print(\"Unknown operator\")\n"
   ]
  },
  {
   "cell_type": "code",
   "execution_count": 10,
   "id": "23c2aa7b",
   "metadata": {},
   "outputs": [],
   "source": [
    "import tkinter as tk\n",
    "from tkinter import ttk\n",
    "from tkinter import messagebox\n",
    "\n",
    "def calculate():\n",
    "    try:\n",
    "        y = float(entry1.get())\n",
    "        z = float(entry2.get())\n",
    "        op = operator_var.get()\n",
    "\n",
    "        match op:\n",
    "            case '+':\n",
    "                result = y + z\n",
    "            case '-':\n",
    "                result = y - z\n",
    "            case '*':\n",
    "                result = y * z\n",
    "            case '/':\n",
    "                if z != 0:\n",
    "                    result = y / z\n",
    "                else:\n",
    "                    result_label.config(text=\"Error: Cannot divide by zero\")\n",
    "                    return\n",
    "            case _:\n",
    "                result_label.config(text=\"Unknown operator\")\n",
    "                return\n",
    "\n",
    "        result_label.config(text=f\"Result: {y} {op} {z} = {result}\")\n",
    "    except ValueError:\n",
    "        messagebox.showerror(\"Invalid Input\", \"Please enter valid numbers.\")\n",
    "\n",
    "# Create main window\n",
    "root = tk.Tk()\n",
    "root.title(\"Simple Calculator\")\n",
    "root.geometry(\"350x250\")\n",
    "\n",
    "# Number 1 input\n",
    "tk.Label(root, text=\"Enter first number (y):\").pack(pady=5)\n",
    "entry1 = tk.Entry(root)\n",
    "entry1.pack()\n",
    "\n",
    "# Number 2 input\n",
    "tk.Label(root, text=\"Enter second number (z):\").pack(pady=5)\n",
    "entry2 = tk.Entry(root)\n",
    "entry2.pack()\n",
    "\n",
    "# Operator dropdown\n",
    "tk.Label(root, text=\"Select Operator:\").pack(pady=5)\n",
    "operator_var = tk.StringVar(value='+')\n",
    "operator_menu = ttk.Combobox(root, textvariable=operator_var, values=['+', '-', '*', '/'], state='readonly')\n",
    "operator_menu.pack()\n",
    "\n",
    "# Calculate button\n",
    "tk.Button(root, text=\"Calculate\", command=calculate).pack(pady=10)\n",
    "\n",
    "# Result display\n",
    "result_label = tk.Label(root, text=\"Result will appear here\", font=('Arial', 12, 'bold'))\n",
    "result_label.pack(pady=10)\n",
    "\n",
    "# Run the app\n",
    "root.mainloop()\n"
   ]
  }
 ],
 "metadata": {
  "kernelspec": {
   "display_name": "Python 3",
   "language": "python",
   "name": "python3"
  },
  "language_info": {
   "codemirror_mode": {
    "name": "ipython",
    "version": 3
   },
   "file_extension": ".py",
   "mimetype": "text/x-python",
   "name": "python",
   "nbconvert_exporter": "python",
   "pygments_lexer": "ipython3",
   "version": "3.11.6"
  }
 },
 "nbformat": 4,
 "nbformat_minor": 5
}
