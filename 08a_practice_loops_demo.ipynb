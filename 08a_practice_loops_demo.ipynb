{
 "cells": [
  {
   "cell_type": "code",
   "execution_count": null,
   "metadata": {},
   "outputs": [
    {
     "name": "stdout",
     "output_type": "stream",
     "text": [
      "we have stock  apple\n",
      "this is letter a\n",
      "this is letter p\n",
      "this is letter p\n",
      "this is letter l\n",
      "this is letter e\n",
      "we do not have stock banana\n",
      "b\n",
      "a\n",
      "n\n",
      "a\n",
      "n\n",
      "a\n",
      "we have stock cherry\n",
      "c\n",
      "h\n",
      "e\n",
      "r\n",
      "r\n",
      "y\n"
     ]
    }
   ],
   "source": [
    "fruits = [\"apple\", \"banana\", \"cherry\"]\n",
    "\n",
    "\n",
    "\n",
    "for fruit in fruits:\n",
    "    # print(fruit)\n",
    "    if(fruit=='apple'):\n",
    "        print(\"we have stock \", fruit)\n",
    "        for f in fruit:\n",
    "            if(f==\"a\"):\n",
    "                print(\"this is letter a\")\n",
    "            elif(f==\"l\"):\n",
    "                print(\"this is letter l\")\n",
    "            elif(f==\"p\"):\n",
    "                print(\"this is letter p\")\n",
    "            elif(f==\"e\"):\n",
    "                print(\"this is letter e\")\n",
    "    elif(fruit==\"banana\"):\n",
    "        print(\"we do not have stock\", fruit)\n",
    "        for f in fruit:\n",
    "            print(f)\n",
    "    elif(fruit==\"cherry\"):\n",
    "        print(\"we have stock\", fruit)\n",
    "        for f in fruit:\n",
    "            print(f)\n"
   ]
  },
  {
   "cell_type": "code",
   "execution_count": 8,
   "metadata": {},
   "outputs": [
    {
     "name": "stdout",
     "output_type": "stream",
     "text": [
      "Iteration: 0\n",
      "Iteration: 1\n",
      "Iteration: 2\n",
      "Iteration: 3\n",
      "Iteration: 4\n"
     ]
    }
   ],
   "source": [
    "# Example of a for loop with a range\n",
    "for i in range(5):\n",
    "    print(\"Iteration:\", i)\n"
   ]
  },
  {
   "cell_type": "code",
   "execution_count": 12,
   "metadata": {},
   "outputs": [
    {
     "name": "stdout",
     "output_type": "stream",
     "text": [
      "Count: 0\n",
      "Count: 1\n",
      "Count: 2\n",
      "Count: 3\n",
      "Count: 4\n"
     ]
    }
   ],
   "source": [
    "# Example of a while loop\n",
    "count = 0\n",
    "while count < 5:    \n",
    "    print(\"Count:\", count)\n",
    "    count += 1\n"
   ]
  },
  {
   "cell_type": "code",
   "execution_count": 13,
   "metadata": {},
   "outputs": [],
   "source": [
    "# while 0<5: # true\n",
    "#     count = 0 + 1=1\n",
    "# while 1<5: # true\n",
    "#     count = 1 + 1=2\n",
    "# while 2<5: # true\n",
    "#     count = 2 + 1=3\n",
    "# while 3<5: # true\n",
    "#     count = 3 + 1=4\n",
    "# while 4<5: # true\n",
    "#     count = 4 + 1=5\n",
    "# while 5<5: # false - stops\n"
   ]
  },
  {
   "cell_type": "code",
   "execution_count": 14,
   "metadata": {},
   "outputs": [
    {
     "name": "stdout",
     "output_type": "stream",
     "text": [
      "i: 0 j: 0\n",
      "i: 0 j: 1\n",
      "i: 1 j: 0\n",
      "i: 1 j: 1\n",
      "i: 2 j: 0\n",
      "i: 2 j: 1\n"
     ]
    }
   ],
   "source": [
    "for i in range(3):\n",
    "    for j in range(2):\n",
    "        print(\"i:\", i, \"j:\", j)\n"
   ]
  },
  {
   "cell_type": "code",
   "execution_count": 16,
   "metadata": {},
   "outputs": [
    {
     "name": "stdout",
     "output_type": "stream",
     "text": [
      "Break Example: 0\n",
      "Break Example: 1\n",
      "Break Example: 2\n",
      "Break Example: 3\n",
      "Break Example: 4\n"
     ]
    }
   ],
   "source": [
    "# Example of break statement\n",
    "for i in range(10):\n",
    "    if i == 5:\n",
    "        break\n",
    "    print(\"Break Example:\", i)\n",
    "\n",
    "\n"
   ]
  },
  {
   "cell_type": "code",
   "execution_count": 17,
   "metadata": {},
   "outputs": [
    {
     "name": "stdout",
     "output_type": "stream",
     "text": [
      "Continue Example: 0\n",
      "Continue Example: 1\n",
      "Continue Example: 2\n",
      "Continue Example: 3\n",
      "Continue Example: 4\n",
      "Continue Example: 6\n",
      "Continue Example: 7\n",
      "Continue Example: 8\n",
      "Continue Example: 9\n"
     ]
    }
   ],
   "source": [
    "# Example of continue statement\n",
    "for i in range(10):\n",
    "    if i == 5:\n",
    "        continue\n",
    "    print(\"Continue Example:\", i)"
   ]
  },
  {
   "cell_type": "code",
   "execution_count": 18,
   "metadata": {},
   "outputs": [
    {
     "name": "stdout",
     "output_type": "stream",
     "text": [
      "For Loop with Else: 0\n",
      "For Loop with Else: 1\n",
      "For Loop with Else: 2\n",
      "For Loop with Else: 3\n",
      "For Loop with Else: 4\n",
      "Loop finished\n"
     ]
    }
   ],
   "source": [
    "# Example of for loop with else\n",
    "for i in range(5):\n",
    "    print(\"For Loop with Else:\", i)\n",
    "else:\n",
    "    print(\"Loop finished\")\n"
   ]
  },
  {
   "cell_type": "code",
   "execution_count": 19,
   "metadata": {},
   "outputs": [
    {
     "name": "stdout",
     "output_type": "stream",
     "text": [
      "While Loop with Else: 0\n",
      "While Loop with Else: 1\n",
      "While Loop with Else: 2\n",
      "While Loop with Else: 3\n",
      "While Loop with Else: 4\n",
      "Loop finished\n"
     ]
    }
   ],
   "source": [
    "count = 0\n",
    "while count < 5:\n",
    "    print(\"While Loop with Else:\", count)\n",
    "    count += 1\n",
    "else:\n",
    "    print(\"Loop finished\")\n"
   ]
  },
  {
   "cell_type": "code",
   "execution_count": 5,
   "metadata": {},
   "outputs": [
    {
     "name": "stdout",
     "output_type": "stream",
     "text": [
      "{'name': 'John', 'age': 21, 'course': 'Data Science'}\n",
      "John has not John  paid the fee\n"
     ]
    }
   ],
   "source": [
    "# Example of iterating over dictionary keys\n",
    "student = {\"name\": \"John\", \"age\": 21, \"course\": \"Data Science\"}\n",
    "print(student)\n",
    "for key in student:\n",
    "    # print(\"Key:\", key, \"Value:\", student[key])\n",
    "    if(student[key]==\"John\"):\n",
    "        print(student[key],\"has not\",student[key],\" paid the fee\")\n",
    "\n"
   ]
  },
  {
   "cell_type": "code",
   "execution_count": 28,
   "metadata": {},
   "outputs": [
    {
     "name": "stdout",
     "output_type": "stream",
     "text": [
      "he has paid the fees\n"
     ]
    }
   ],
   "source": [
    "# Example of iterating over dictionary items\n",
    "for key, value in student.items():\n",
    "    # print(\"Key:\", key, \"Value:\", value)\n",
    "    if(value==\"John\"):\n",
    "        print(\"he has paid the fees\")"
   ]
  },
  {
   "cell_type": "code",
   "execution_count": 3,
   "metadata": {},
   "outputs": [
    {
     "name": "stdout",
     "output_type": "stream",
     "text": [
      "Concatenated String: 1,2,3,4,5,\n"
     ]
    }
   ],
   "source": [
    "listnew = [1, 2, 3, 4, 5]\n",
    "# Example of iterating over a list\n",
    "x = \"\"\n",
    "for i in listnew:\n",
    "    x += str(i) + \",\"\n",
    "print(\"Concatenated String:\", x)\n"
   ]
  }
 ],
 "metadata": {
  "kernelspec": {
   "display_name": "base",
   "language": "python",
   "name": "python3"
  },
  "language_info": {
   "codemirror_mode": {
    "name": "ipython",
    "version": 3
   },
   "file_extension": ".py",
   "mimetype": "text/x-python",
   "name": "python",
   "nbconvert_exporter": "python",
   "pygments_lexer": "ipython3",
   "version": "3.11.7"
  }
 },
 "nbformat": 4,
 "nbformat_minor": 2
}
