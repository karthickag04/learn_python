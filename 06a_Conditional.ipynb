{
 "cells": [
  {
   "cell_type": "markdown",
   "id": "6ed00380",
   "metadata": {},
   "source": [
    "## Python - **Conditional Statements**\n",
    "\n",
    "    this below is given as example for IF else and if elif else under python\n"
   ]
  },
  {
   "cell_type": "code",
   "execution_count": 20,
   "id": "c5546219",
   "metadata": {},
   "outputs": [],
   "source": [
    "x = 1\n",
    "y = 20"
   ]
  },
  {
   "cell_type": "code",
   "execution_count": 22,
   "id": "b217f1d7",
   "metadata": {},
   "outputs": [
    {
     "name": "stdout",
     "output_type": "stream",
     "text": [
      " x is not greater than y \n"
     ]
    }
   ],
   "source": [
    "if x > y:\n",
    "    print(\"x is greater than y\")\n",
    "else:\n",
    "    print(\" x is not greater than y \")"
   ]
  },
  {
   "cell_type": "code",
   "execution_count": null,
   "id": "e5c73d60",
   "metadata": {},
   "outputs": [],
   "source": [
    "if x > y:\n",
    "    print(\"x is greater than y\")\n",
    "elif x == y:\n",
    "    print(\"x is equal to y\")\n",
    "else:\n",
    "    print(\" x is not greater than y \")"
   ]
  },
  {
   "cell_type": "code",
   "execution_count": null,
   "id": "6b08453e",
   "metadata": {},
   "outputs": [],
   "source": [
    "# apply for marks as 400 and result as pass or fail\n",
    "marks = 400\n",
    "if marks >= 400:\n",
    "    print(\"Result: Pass\")\n",
    "else:\n",
    "    print(\"Result: Fail\")\n",
    "\n",
    "\n",
    "    "
   ]
  },
  {
   "cell_type": "code",
   "execution_count": null,
   "id": "33d81bfc",
   "metadata": {},
   "outputs": [],
   "source": [
    "marks = 300\n",
    "result = \"pass\"\n",
    "\n",
    "# apply for marks as 400 and also check result as pass or fail with with logical operator under  elif\n",
    "\n",
    "if marks >= 400 and result == \"pass\":\n",
    "    print(\"you can join our course\")\n",
    "elif marks < 400 and result == \"fail\":\n",
    "    print(\"you cannot join our course\")\n",
    "elif marks < 400 and result == \"pass\":\n",
    "    print(\"you are on our waiting list\")\n",
    "else:\n",
    "    print(\"you are not eligible to join our course\")\n"
   ]
  },
  {
   "cell_type": "code",
   "execution_count": null,
   "id": "f3dd9276",
   "metadata": {},
   "outputs": [
    {
     "name": "stdout",
     "output_type": "stream",
     "text": [
      "you are on our waiting list\n"
     ]
    }
   ],
   "source": [
    "marks = 300\n",
    "result = \"pass\"\n",
    "\n",
    "# apply for marks as 400 and also check result as pass or fail with nested if\n",
    "if marks >= 400:\n",
    "    if result == \"pass\":\n",
    "        print(\"you can join our course\")\n",
    "        \n",
    "    else:\n",
    "        print(\"you are on our waiting list\")\n",
    "else:\n",
    "    if result == \"fail\":\n",
    "        print(\"you cannot join our course\")\n",
    "    elif result == \"pass\":\n",
    "        print(\"you are on our waiting list\")\n",
    "    else:\n",
    "        print(\"you are not eligible to join our course\")\n"
   ]
  },
  {
   "cell_type": "code",
   "execution_count": 25,
   "id": "2d1ba50d",
   "metadata": {},
   "outputs": [],
   "source": [
    "x = 1\n",
    "y = 20"
   ]
  },
  {
   "cell_type": "code",
   "execution_count": 5,
   "id": "9af862e8",
   "metadata": {},
   "outputs": [
    {
     "name": "stdout",
     "output_type": "stream",
     "text": [
      "x is less than y\n"
     ]
    }
   ],
   "source": [
    "if x < y:\n",
    " print(\"x is less than y\")"
   ]
  },
  {
   "cell_type": "code",
   "execution_count": 13,
   "id": "d3e6e649",
   "metadata": {},
   "outputs": [
    {
     "name": "stdout",
     "output_type": "stream",
     "text": [
      "x is equal to y\n",
      "y is not greater than 20\n"
     ]
    }
   ],
   "source": [
    "if x == y or y > 20:\n",
    " print(\"x not eaqual to y \")\n",
    " print(\"y is greater than 20\")\n",
    "else:\n",
    " print(\"x is equal to y\")\n",
    " print(\"y is not greater than 20\")"
   ]
  },
  {
   "cell_type": "code",
   "execution_count": null,
   "id": "f96c9940",
   "metadata": {},
   "outputs": [
    {
     "name": "stdout",
     "output_type": "stream",
     "text": [
      "x is equal to y\n"
     ]
    }
   ],
   "source": [
    "x = 30\n",
    "y = 30\n",
    "\n",
    "if y > 20:\n",
    "\n",
    "    if x < y and y > 20:\n",
    "        print(\"x is less than y\")\n",
    "    elif x > y:\n",
    "        print(\"x is greater than y\")\n",
    "    else:\n",
    "        print(\"x is equal to y\")\n",
    "\n",
    "elif x == y:\n",
    "    print(\"x is equal to y\")\n",
    "    print(\"y is not greater than 20\")\n",
    "else:\n",
    "    print(\"x is not equal to y\")\n",
    "    print(\"y is not greater than 20\")"
   ]
  },
  {
   "cell_type": "markdown",
   "id": "e665c32b",
   "metadata": {},
   "source": [
    "## Python - Match"
   ]
  },
  {
   "cell_type": "code",
   "execution_count": 26,
   "id": "2662f1a0",
   "metadata": {},
   "outputs": [
    {
     "name": "stdout",
     "output_type": "stream",
     "text": [
      "20 * 0 = 0\n"
     ]
    }
   ],
   "source": [
    "x = '*'\n",
    "y = 20\n",
    "z = 0\n",
    "# operators = ['+', '-', '*', '/'] using match statement\n",
    "\n",
    "match x:\n",
    "    case '+':\n",
    "        print(f\"{y} + {z} = {y + z}\")\n",
    "    case '-':\n",
    "        print(f\"{y} - {z} = {y - z}\")\n",
    "    case '*':\n",
    "        print(f\"{y} * {z} = {y * z}\")\n",
    "    case '/':\n",
    "        if z != 0:\n",
    "            print(f\"{y} / {z} = {y / z}\")\n",
    "        else:\n",
    "            print(\"Cannot divide by zero\")\n",
    "    case _:\n",
    "        print(\"Unknown operator\")"
   ]
  },
  {
   "cell_type": "code",
   "execution_count": null,
   "id": "789e1ae4",
   "metadata": {},
   "outputs": [],
   "source": []
  },
  {
   "cell_type": "code",
   "execution_count": null,
   "id": "23c2aa7b",
   "metadata": {},
   "outputs": [],
   "source": [
    "x = '*'\n",
    "y = 20\n",
    "z = 0\n",
    "# operators = ['+', '-', '*', '/'] using match statement\n",
    "\n",
    "match x:\n",
    "    case '+':\n",
    "        print(f\"{y} + {z} = {y + z}\")\n",
    "    case '-':\n",
    "        print(f\"{y} - {z} = {y - z}\")\n",
    "    case '*':\n",
    "        print(f\"{y} * {z} = {y * z}\")\n",
    "    case '/':\n",
    "        if z != 0:\n",
    "            print(f\"{y} / {z} = {y / z}\")\n",
    "        else:\n",
    "            print(\"Cannot divide by zero\")\n",
    "    case _:\n",
    "        print(\"Unknown operator\")\n",
    "\n"
   ]
  },
  {
   "cell_type": "code",
   "execution_count": null,
   "id": "09957e2b",
   "metadata": {},
   "outputs": [
    {
     "name": "stdout",
     "output_type": "stream",
     "text": [
      "You are on our waiting list\n"
     ]
    }
   ],
   "source": [
    "\n",
    "# change the above logic under match statement to use mark and result logic\n",
    "marks = 300\n",
    "result = \"pass\"\n",
    "\n",
    "match (marks, result):\n",
    "    case (marks, \"pass\") if marks >= 400:\n",
    "        print(\"You can join our course\")\n",
    "    case (marks, \"fail\") if marks < 400:\n",
    "        print(\"You cannot join our course\")\n",
    "    case (marks, \"pass\") if marks < 400:\n",
    "        print(\"You are on our waiting list\")\n",
    "    case _:\n",
    "        print(\"You are not eligible to join our course\")\n"
   ]
  }
 ],
 "metadata": {
  "kernelspec": {
   "display_name": "Python 3",
   "language": "python",
   "name": "python3"
  },
  "language_info": {
   "codemirror_mode": {
    "name": "ipython",
    "version": 3
   },
   "file_extension": ".py",
   "mimetype": "text/x-python",
   "name": "python",
   "nbconvert_exporter": "python",
   "pygments_lexer": "ipython3",
   "version": "3.11.6"
  }
 },
 "nbformat": 4,
 "nbformat_minor": 5
}
