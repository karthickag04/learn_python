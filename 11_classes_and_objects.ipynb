{
 "cells": [
  {
   "cell_type": "markdown",
   "id": "5a43691b",
   "metadata": {},
   "source": [
    "# Class and Objects under python"
   ]
  },
  {
   "cell_type": "code",
   "execution_count": 2,
   "id": "88c77e3b",
   "metadata": {},
   "outputs": [],
   "source": [
    "# Class declaration must start with \"class\" keyword and followed by you can name the class and followed by \":\" colon as like other functions under python"
   ]
  },
  {
   "cell_type": "code",
   "execution_count": 1,
   "id": "af9bd29a",
   "metadata": {},
   "outputs": [],
   "source": [
    "class OperatorDemo:\n",
    "    def addition(self,value1, value2):\n",
    "        return value1 + value2\n",
    "    def subtract(self,value1, value2):\n",
    "        return value1 - value2\n",
    "    def multiply(self,value1, value2):\n",
    "        return value1 * value2\n",
    "    def division(self,value1, value2):\n",
    "        return value1 / value2\n",
    "    def modulus(self,value1, value2):\n",
    "        return value1 % value2\n"
   ]
  },
  {
   "cell_type": "code",
   "execution_count": null,
   "id": "4abbf4b5",
   "metadata": {},
   "outputs": [
    {
     "name": "stdout",
     "output_type": "stream",
     "text": [
      "3\n",
      "-1\n",
      "2\n",
      "0.5\n",
      "1\n",
      "*****************\n",
      "22\n",
      "-20\n",
      "21\n",
      "0.047619047619047616\n",
      "1\n",
      "*****************\n",
      "3\n",
      "3\n",
      "-1\n",
      "2\n",
      "0.5\n",
      "1\n"
     ]
    }
   ],
   "source": [
    "# verify that each method inside class \"OperatorDemo\" has argument as \"self\" because when you use class through object it (self) must present\n",
    "\n",
    "oDemo = OperatorDemo() \n",
    "print(oDemo.addition(1,2))\n",
    "print(oDemo.subtract(1,2))\n",
    "print(oDemo.multiply(1,2))\n",
    "print(oDemo.division(1,2))\n",
    "print(oDemo.modulus(1,2))\n",
    "\n",
    "print(\"*****************\")\n",
    "oDem = OperatorDemo() \n",
    "print(oDem.addition(1,21))\n",
    "print(oDem.subtract(1,21))\n",
    "print(oDem.multiply(1,21))\n",
    "print(oDem.division(1,21))\n",
    "print(oDem.modulus(1,21))\n",
    "\n",
    "\n",
    "print(\"*****************\")\n",
    "oDe = OperatorDemo() \n",
    "print(oDe.addition(1,2))\n",
    "print(oDe.addition(1,2))\n",
    "print(oDe.subtract(1,2))\n",
    "print(oDe.multiply(1,2))\n",
    "print(oDe.division(1,2))\n",
    "print(oDe.modulus(1,2))"
   ]
  },
  {
   "cell_type": "markdown",
   "id": "0ea57318",
   "metadata": {},
   "source": [
    "## class with static methods"
   ]
  },
  {
   "cell_type": "code",
   "execution_count": 2,
   "id": "27df6297",
   "metadata": {},
   "outputs": [],
   "source": [
    "class OperatorDemoWithStatic:\n",
    "        \n",
    "    @staticmethod\n",
    "    def subtract(value1, value2):\n",
    "        return value1 - value2\n",
    "   \n",
    "    @staticmethod\n",
    "    def addition(value1, value2):\n",
    "        return value1 + value2\n",
    "    \n",
    "    @staticmethod\n",
    "    def multiply(value1, value2):\n",
    "        return value1 * value2\n",
    "    \n",
    "    @staticmethod\n",
    "    def division(value1, value2):\n",
    "        return value1 / value2\n",
    "    \n",
    "    @staticmethod\n",
    "    def modulus(value1, value2):\n",
    "        return value1 % value2"
   ]
  },
  {
   "cell_type": "code",
   "execution_count": 3,
   "id": "6ccb7951",
   "metadata": {},
   "outputs": [
    {
     "name": "stdout",
     "output_type": "stream",
     "text": [
      "3\n",
      "-1\n",
      "2\n",
      "0.5\n",
      "1\n"
     ]
    }
   ],
   "source": [
    "# make sure that you removed or not given \"self\" argument/parameter under each method under the class name \"OperatorDemoWithStatic\" when using \"@staticmethod\" above each method because static method doesn't need object creation and keeping \"self\" as parameter.\n",
    "\n",
    "print(OperatorDemoWithStatic.addition(1,2))\n",
    "print(OperatorDemoWithStatic.subtract(1,2))\n",
    "print(OperatorDemoWithStatic.multiply(1,2))\n",
    "print(OperatorDemoWithStatic.division(1,2))\n",
    "print(OperatorDemoWithStatic.modulus(1,2))"
   ]
  },
  {
   "cell_type": "markdown",
   "id": "c9d6378f",
   "metadata": {},
   "source": [
    "## Using Constructor in python\n",
    "\n",
    "    def __init__():\n",
    "        pass\n",
    "\n",
    "\n",
    "whatever difined inside the \"__init__\" method will be execute when object has been created for that particular class"
   ]
  },
  {
   "cell_type": "code",
   "execution_count": 3,
   "id": "7de8c653",
   "metadata": {},
   "outputs": [],
   "source": [
    "class OperatorDemowithDefaultConstructor:\n",
    "    \n",
    "\n",
    "\n",
    "    def __init__(self):\n",
    "\n",
    "        self.value1=10\n",
    "        self.value2=10\n",
    "\n",
    "        print(self.addition())\n",
    "        print(self.subtract())\n",
    "        print(self.multiply())\n",
    "        print(self.division())\n",
    "        print(self.modulus())\n",
    "        print(\"*******\")\n",
    "\n",
    "  \n",
    "    def addition(self):\n",
    "        return self.value1 + self.value2\n",
    "    \n",
    "    def subtract(self):\n",
    "        return self.value1 - self.value2\n",
    "    \n",
    "    def multiply(self):\n",
    "        return self.value1 * self.value2\n",
    "    \n",
    "    def division(self):\n",
    "        return self.value1 / self.value2\n",
    "    def modulus(self):\n",
    "        return self.value1 % self.value2"
   ]
  },
  {
   "cell_type": "code",
   "execution_count": 4,
   "id": "995decfb",
   "metadata": {},
   "outputs": [
    {
     "name": "stdout",
     "output_type": "stream",
     "text": [
      "20\n",
      "0\n",
      "100\n",
      "1.0\n",
      "0\n",
      "*******\n"
     ]
    }
   ],
   "source": [
    "opdemo = OperatorDemowithDefaultConstructor()"
   ]
  },
  {
   "cell_type": "markdown",
   "id": "fd90ec0e",
   "metadata": {},
   "source": [
    "## class with constructor which can have parameter \n",
    "\n",
    "    if constructor has parameter then it needs to be passed with class itself while creating objects for the class.. example given below"
   ]
  },
  {
   "cell_type": "code",
   "execution_count": 5,
   "id": "48202c29",
   "metadata": {},
   "outputs": [],
   "source": [
    "class OperatorDemowithParameterizedConstructor:\n",
    "\n",
    "\n",
    "    def __init__(self, x , y):\n",
    "        self.value1=x\n",
    "        self.value2=y\n",
    "        print(\"-------\")\n",
    "        print(self.addition())\n",
    "        print(self.subtract())\n",
    "        print(self.multiply())\n",
    "        print(self.division())\n",
    "        print(self.modulus())\n",
    "\n",
    "    def addition(self):\n",
    "        return self.value1 + self.value2\n",
    "    \n",
    "    def subtract(self):\n",
    "        return self.value1 - self.value2\n",
    "    \n",
    "    def multiply(self):\n",
    "        return self.value1 * self.value2\n",
    "    \n",
    "    def division(self):\n",
    "        return self.value1 / self.value2\n",
    "    def modulus(self):\n",
    "        return self.value1 % self.value2"
   ]
  },
  {
   "cell_type": "code",
   "execution_count": 6,
   "id": "743d507a",
   "metadata": {},
   "outputs": [
    {
     "name": "stdout",
     "output_type": "stream",
     "text": [
      "-------\n",
      "50\n",
      "-10\n",
      "600\n",
      "0.6666666666666666\n",
      "20\n"
     ]
    }
   ],
   "source": [
    "opdemo =OperatorDemowithParameterizedConstructor(20,30)\n"
   ]
  }
 ],
 "metadata": {
  "kernelspec": {
   "display_name": "Python 3",
   "language": "python",
   "name": "python3"
  },
  "language_info": {
   "codemirror_mode": {
    "name": "ipython",
    "version": 3
   },
   "file_extension": ".py",
   "mimetype": "text/x-python",
   "name": "python",
   "nbconvert_exporter": "python",
   "pygments_lexer": "ipython3",
   "version": "3.13.5"
  }
 },
 "nbformat": 4,
 "nbformat_minor": 5
}
