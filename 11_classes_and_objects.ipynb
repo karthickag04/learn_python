{
 "cells": [
  {
   "cell_type": "markdown",
   "id": "5a43691b",
   "metadata": {},
   "source": [
    "# Class and Objects under python"
   ]
  },
  {
   "cell_type": "code",
   "execution_count": 2,
   "id": "88c77e3b",
   "metadata": {},
   "outputs": [],
   "source": [
    "# Class declaration must start with \"class\" keyword and followed by you can name the class and followed by \":\" colon as like other functions under python"
   ]
  },
  {
   "cell_type": "code",
   "execution_count": 6,
   "id": "d693696d",
   "metadata": {},
   "outputs": [],
   "source": [
    "class OperatorDemo:\n",
    "\n",
    "    def add(self):\n",
    "        value1 = 0\n",
    "        value2 = 1\n",
    "        result = value1 + value2\n",
    "        print(result)\n",
    "\n",
    "    def subtract(self):\n",
    "        value1 = 0\n",
    "        value2 = 1\n",
    "        result = value1 - value2\n",
    "        print(result)"
   ]
  },
  {
   "cell_type": "code",
   "execution_count": 12,
   "id": "961e69ca",
   "metadata": {},
   "outputs": [
    {
     "name": "stdout",
     "output_type": "stream",
     "text": [
      "1\n",
      "1\n",
      "-1\n"
     ]
    }
   ],
   "source": [
    "opDemo = OperatorDemo()\n",
    "opDemo1 = OperatorDemo()\n",
    "opDemo.add()\n",
    "opDemo1.add()\n",
    "opDemo.subtract()"
   ]
  },
  {
   "cell_type": "code",
   "execution_count": null,
   "id": "f981de7e",
   "metadata": {},
   "outputs": [],
   "source": [
    "\n",
    "# to use this below method you need to create a class named as \"classes_and_objects.py\" with two different classes named as \"OperatorDemoFromPyFile\" and \"OperatorDemoFromPyFile2\" its already under the \"learn_python\", so create the file then use the  below import logic to implement the methods saved under different file to your current file\n",
    "\n",
    "from classes_and_objects import *"
   ]
  },
  {
   "cell_type": "code",
   "execution_count": 7,
   "id": "1afd17da",
   "metadata": {},
   "outputs": [
    {
     "name": "stdout",
     "output_type": "stream",
     "text": [
      "1\n",
      "0\n"
     ]
    }
   ],
   "source": [
    "opDemo02 = OperatorDemoFromPyFile()\n",
    "opDemo02.add()\n",
    "opDemo2 = OperatorDemoFromPyFile2()\n",
    "opDemo2.Multiply()"
   ]
  },
  {
   "cell_type": "code",
   "execution_count": 8,
   "id": "7103eb78",
   "metadata": {},
   "outputs": [
    {
     "name": "stdout",
     "output_type": "stream",
     "text": [
      "0\n"
     ]
    }
   ],
   "source": [
    "opDemo2 = OperatorDemoFromPyFile2()\n",
    "opDemo2.Multiply()"
   ]
  },
  {
   "cell_type": "markdown",
   "id": "8a4967b4",
   "metadata": {},
   "source": [
    "# classes with argument under method"
   ]
  },
  {
   "cell_type": "code",
   "execution_count": 9,
   "id": "7461d36b",
   "metadata": {},
   "outputs": [],
   "source": [
    "class OperatorDemoWithArguments:\n",
    "\n",
    "    def add(self, value1, value2):\n",
    "        result = value1 + value2\n",
    "        print(result)\n",
    "\n",
    "    def subtract(self, value1, value2):\n",
    "        result = value1 - value2\n",
    "        print(result)"
   ]
  },
  {
   "cell_type": "code",
   "execution_count": 10,
   "id": "fbd25727",
   "metadata": {},
   "outputs": [
    {
     "name": "stdout",
     "output_type": "stream",
     "text": [
      "30\n",
      "0\n"
     ]
    }
   ],
   "source": [
    "opDemoWitArgs = OperatorDemoWithArguments()\n",
    "opDemoWitArgs.add(10, 20)\n",
    "opDemoWitArgs.subtract(20,20)"
   ]
  },
  {
   "cell_type": "markdown",
   "id": "ca7865f4",
   "metadata": {},
   "source": [
    "# classes with Arguments on Contructor"
   ]
  },
  {
   "cell_type": "code",
   "execution_count": 22,
   "id": "a2484ab1",
   "metadata": {},
   "outputs": [],
   "source": [
    "class OperatorDemoWithArgumentsOnConstructor:\n",
    "\n",
    "\n",
    "    def __init__(self, a, b):\n",
    "        self.value1 = a\n",
    "        self.value2 = b\n",
    "\n",
    "    def add(self):\n",
    "        result = self.value1 + self.value2\n",
    "        print(result)\n",
    "\n",
    "    def subtract(self):\n",
    "        result = self.value1 - self.value2\n",
    "        print(result)\n",
    "    "
   ]
  },
  {
   "cell_type": "code",
   "execution_count": 23,
   "id": "d626c950",
   "metadata": {},
   "outputs": [
    {
     "name": "stdout",
     "output_type": "stream",
     "text": [
      "50\n",
      "-10\n"
     ]
    }
   ],
   "source": [
    "opDemoWitArgsOnConstruct = OperatorDemoWithArgumentsOnConstructor(20, 30)\n",
    "opDemoWitArgsOnConstruct.add()\n",
    "opDemoWitArgsOnConstruct.subtract()"
   ]
  },
  {
   "cell_type": "markdown",
   "id": "04c71df3",
   "metadata": {},
   "source": [
    "# Calling all the funcitons under constructor\n",
    "\n",
    "    -- might execute all the function when you define object with class name"
   ]
  },
  {
   "cell_type": "code",
   "execution_count": null,
   "id": "7bac4c46",
   "metadata": {},
   "outputs": [],
   "source": [
    "\n",
    "class OperatorDemoWithArgumentsOnConstructor1:\n",
    "\n",
    "\n",
    "    def __init__(self, a, b):\n",
    "        self.value1 = a\n",
    "        self.value2 = b\n",
    "        print(\"Welcome to constructor with Arguemnts\")\n",
    "        self.add()\n",
    "        self.subtract()\n",
    "\n",
    "    def add(self):\n",
    "        result = self.value1 + self.value2\n",
    "        print(result)\n",
    "\n",
    "    def subtract(self):\n",
    "        result = self.value1 - self.value2\n",
    "        print(result)\n",
    "    "
   ]
  },
  {
   "cell_type": "code",
   "execution_count": 25,
   "id": "c8405540",
   "metadata": {},
   "outputs": [
    {
     "name": "stdout",
     "output_type": "stream",
     "text": [
      "Welcome to constructor with Arguemnts\n",
      "50\n",
      "-10\n"
     ]
    }
   ],
   "source": [
    "opDemoWitArgsOnConstruct = OperatorDemoWithArgumentsOnConstructor1(20, 30)\n"
   ]
  }
 ],
 "metadata": {
  "kernelspec": {
   "display_name": "Python 3",
   "language": "python",
   "name": "python3"
  },
  "language_info": {
   "codemirror_mode": {
    "name": "ipython",
    "version": 3
   },
   "file_extension": ".py",
   "mimetype": "text/x-python",
   "name": "python",
   "nbconvert_exporter": "python",
   "pygments_lexer": "ipython3",
   "version": "3.13.2"
  }
 },
 "nbformat": 4,
 "nbformat_minor": 5
}
