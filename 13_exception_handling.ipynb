{
 "cells": [
  {
   "cell_type": "markdown",
   "metadata": {},
   "source": [
    "## ***Exception handling***\n",
    "\n",
    "    # Exception handling in Python allows us to handle errors and unexpected events gracefully,\n",
    "    # preventing our programs from crashing. Key components of Python's exception handling include\n",
    "    # try, except, finally, else and raise statements.\n",
    "\n",
    "    # Try and Except:\n",
    "    # The try block is used to wrap the code that might throw an exception, and the except block\n",
    "    # is used to handle the exception if it occurs. \n",
    "\n",
    "\n",
    "\n",
    "# List of possible exceptions that can be handled if needed:\n",
    "    # - ArithmeticError\n",
    "    # - AssertionError\n",
    "    # - AttributeError\n",
    "    # - EOFError\n",
    "    # - EnvironmentError\n",
    "    # - FileNotFoundError\n",
    "    # - FloatingPointError\n",
    "    # - ImportError\n",
    "    # - IndexError\n",
    "    # - KeyError\n",
    "    # - KeyboardInterrupt\n",
    "    # - MemoryError\n",
    "    # - NameError\n",
    "    # - NotImplementedError\n",
    "    # - OSError\n",
    "    # - OverflowError\n",
    "    # - RecursionError\n",
    "    # - ReferenceError\n",
    "    # - RuntimeError\n",
    "    # - StopIteration\n",
    "    # - SyntaxError\n",
    "    # - SystemError\n",
    "    # - TabError\n",
    "    # - TimeoutError\n",
    "    # - TypeError\n",
    "    # - UnboundLocalError\n",
    "    # - UnicodeError\n",
    "    # - ValueError\n",
    "    # - ZeroDivisionError\n",
    "\n"
   ]
  },
  {
   "cell_type": "code",
   "execution_count": 2,
   "metadata": {},
   "outputs": [
    {
     "name": "stdout",
     "output_type": "stream",
     "text": [
      "division by zero\n"
     ]
    }
   ],
   "source": [
    "try:\n",
    "    22/0\n",
    "except Exception as e:\n",
    "    print(e)\n"
   ]
  },
  {
   "cell_type": "code",
   "execution_count": 4,
   "metadata": {},
   "outputs": [
    {
     "name": "stdout",
     "output_type": "stream",
     "text": [
      "division by zero\n"
     ]
    }
   ],
   "source": [
    "try:\n",
    "    print(22/0)\n",
    "except Exception as e:\n",
    "    print(e)\n",
    "    # print(\"give value for y\")"
   ]
  },
  {
   "cell_type": "code",
   "execution_count": 6,
   "metadata": {},
   "outputs": [
    {
     "name": "stdout",
     "output_type": "stream",
     "text": [
      "divided after conversion 11.0\n",
      "work completed\n"
     ]
    }
   ],
   "source": [
    "try:\n",
    "    yy = 22/'2'   \n",
    "except TypeError:\n",
    "    x = 22/int(\"2\")\n",
    "    print(\"divided after conversion\",x)\n",
    "except Exception as e:\n",
    "    print(e)\n",
    "else:\n",
    "    print(\"divided\", yy)\n",
    "finally:\n",
    "    print(\"work completed\")    \n",
    "\n"
   ]
  },
  {
   "cell_type": "code",
   "execution_count": null,
   "metadata": {},
   "outputs": [
    {
     "name": "stdout",
     "output_type": "stream",
     "text": [
      "Result of division: 5.0\n",
      "Division operation complete.\n",
      "\n",
      "\n",
      "\n",
      "Error: Division by zero is not allowed.\n",
      "Division operation complete.\n",
      "\n",
      "\n",
      "Error: Invalid types provided for division.\n",
      "Division operation complete.\n"
     ]
    }
   ],
   "source": [
    "\n",
    "# Define a function to demonstrate exception handling\n",
    "def division_example(dividend, divisor):\n",
    "    try:\n",
    "        result = dividend / divisor  # Attempt division\n",
    "    except ZeroDivisionError:\n",
    "        # Handle division by zero error\n",
    "        print(\"Error: Division by zero is not allowed.\")\n",
    "    except TypeError:\n",
    "        # Handle type error (e.g., if non-numeric values are provided)\n",
    "        print(\"Error: Invalid types provided for division.\")\n",
    "    except Exception as e:\n",
    "        # Catch any other exceptions not explicitly handled\n",
    "        print(f\"An unexpected error occurred: {e}\")\n",
    "    else:\n",
    "        # Code in else block runs only if no exceptions were raised\n",
    "        print(f\"Result of division: {result}\")\n",
    "    finally:\n",
    "        # Optional cleanup or finalization code\n",
    "        print(\"Division operation complete.\")\n",
    "\n",
    "\n",
    "# Examples of using the function with different inputs\n",
    "if __name__ == \"__main__\":\n",
    "    # Example 1: Valid division\n",
    "    division_example(10, 2)\n",
    "    # Output:\n",
    "    # Result of division: 5.0\n",
    "    # Division operation complete.\n",
    "    print(\"\")\n",
    "    print(\"\")\n",
    "    print(\"\")\n",
    "    # Example 2: Division by zero\n",
    "    division_example(5, 0)\n",
    "    # Output:\n",
    "    # Error: Division by zero is not allowed.\n",
    "    # Division operation complete.\n",
    "    print(\"\")\n",
    "    print(\"\")\n",
    "    # Example 3: Type error\n",
    "    division_example('abc', 2)\n",
    "    # Output:\n",
    "    # Error: Invalid types provided for division.\n",
    "    # Division operation complete.\n"
   ]
  },
  {
   "cell_type": "code",
   "execution_count": 1,
   "metadata": {},
   "outputs": [],
   "source": [
    "def divide_numbers(numerator, denominator):\n",
    "    try:\n",
    "        # Attempt to perform the division\n",
    "        result = numerator / denominator\n",
    "    except ZeroDivisionError:\n",
    "        # Handle the case where denominator is zero\n",
    "        print(\"Error: Cannot divide by zero.\")\n",
    "        # Raising an exception to notify the caller of the error\n",
    "        raise\n",
    "    except TypeError:\n",
    "        # Handle the case where the input types are incorrect\n",
    "        print(\"Error: Both arguments must be numbers.\")\n",
    "        # Raising an exception to notify the caller of the error\n",
    "        raise\n",
    "    else:\n",
    "        # If no exception was raised, this block executes\n",
    "        print(\"Division successful.\")\n",
    "        return result\n",
    "    finally:\n",
    "        # This block always executes, regardless of whether an exception occurred\n",
    "        print(\"Execution of divide_numbers() completed.\")"
   ]
  },
  {
   "cell_type": "code",
   "execution_count": 2,
   "metadata": {},
   "outputs": [
    {
     "name": "stdout",
     "output_type": "stream",
     "text": [
      "Division successful.\n",
      "Execution of divide_numbers() completed.\n",
      "Result: 5.0\n"
     ]
    }
   ],
   "source": [
    "# Test cases\n",
    "try:\n",
    "    # Case 1: Valid division\n",
    "    print(\"Result:\", divide_numbers(10, 2))\n",
    "except Exception as e:\n",
    "    print(f\"Exception occurred: {e}\")\n"
   ]
  },
  {
   "cell_type": "code",
   "execution_count": 3,
   "metadata": {},
   "outputs": [
    {
     "name": "stdout",
     "output_type": "stream",
     "text": [
      "Error: Cannot divide by zero.\n",
      "Execution of divide_numbers() completed.\n",
      "Exception occurred: division by zero\n"
     ]
    }
   ],
   "source": [
    "\n",
    "try:\n",
    "    # Case 2: Division by zero\n",
    "    print(\"Result:\", divide_numbers(10, 0))\n",
    "except Exception as e:\n",
    "    print(f\"Exception occurred: {e}\")\n"
   ]
  },
  {
   "cell_type": "code",
   "execution_count": 4,
   "metadata": {},
   "outputs": [
    {
     "name": "stdout",
     "output_type": "stream",
     "text": [
      "Error: Both arguments must be numbers.\n",
      "Execution of divide_numbers() completed.\n",
      "Exception occurred: unsupported operand type(s) for /: 'int' and 'str'\n"
     ]
    }
   ],
   "source": [
    "\n",
    "try:\n",
    "    # Case 3: Incorrect input types\n",
    "    print(\"Result:\", divide_numbers(10, 'a'))\n",
    "except Exception as e:\n",
    "    print(f\"Exception occurred: {e}\")"
   ]
  }
 ],
 "metadata": {
  "kernelspec": {
   "display_name": "Python 3",
   "language": "python",
   "name": "python3"
  },
  "language_info": {
   "codemirror_mode": {
    "name": "ipython",
    "version": 3
   },
   "file_extension": ".py",
   "mimetype": "text/x-python",
   "name": "python",
   "nbconvert_exporter": "python",
   "pygments_lexer": "ipython3",
   "version": "3.13.2"
  }
 },
 "nbformat": 4,
 "nbformat_minor": 2
}
