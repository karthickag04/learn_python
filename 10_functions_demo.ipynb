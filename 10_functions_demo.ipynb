{
 "cells": [
  {
   "cell_type": "markdown",
   "metadata": {},
   "source": [
    "## void methods under python"
   ]
  },
  {
   "cell_type": "code",
   "execution_count": 16,
   "metadata": {},
   "outputs": [
    {
     "name": "stdout",
     "output_type": "stream",
     "text": [
      "30\n"
     ]
    }
   ],
   "source": [
    "x = 10\n",
    "y = 20\n",
    "sum = x + y\n",
    "print(sum)"
   ]
  },
  {
   "cell_type": "code",
   "execution_count": 14,
   "metadata": {},
   "outputs": [],
   "source": [
    "def addition_program():\n",
    "    x = 10\n",
    "    y = 20\n",
    "    sum = x + y\n",
    "    print(sum)\n",
    "def subtraction_program():\n",
    "    x = 10\n",
    "    y = 20\n",
    "    sum = x - y\n",
    "    print(sum)"
   ]
  },
  {
   "cell_type": "code",
   "execution_count": 15,
   "metadata": {},
   "outputs": [
    {
     "name": "stdout",
     "output_type": "stream",
     "text": [
      "30\n",
      "-10\n"
     ]
    }
   ],
   "source": [
    "addition_program()\n",
    "subtraction_program()"
   ]
  },
  {
   "cell_type": "code",
   "execution_count": 9,
   "metadata": {},
   "outputs": [],
   "source": [
    "def additionwithargs(x,y):\n",
    "    sum = x + y\n",
    "    print(sum)"
   ]
  },
  {
   "cell_type": "code",
   "execution_count": 11,
   "metadata": {},
   "outputs": [
    {
     "name": "stdout",
     "output_type": "stream",
     "text": [
      "30\n",
      "40\n",
      "50\n"
     ]
    }
   ],
   "source": [
    "additionwithargs(10, 20)\n",
    "additionwithargs(10, 30)\n",
    "additionwithargs(10, 40)"
   ]
  },
  {
   "cell_type": "code",
   "execution_count": 12,
   "metadata": {},
   "outputs": [],
   "source": [
    "def printlistofnumbers(numbers):\n",
    "    for number in numbers:\n",
    "        print(number)"
   ]
  },
  {
   "cell_type": "code",
   "execution_count": 13,
   "metadata": {},
   "outputs": [
    {
     "name": "stdout",
     "output_type": "stream",
     "text": [
      "1\n",
      "2\n",
      "3\n",
      "4\n",
      "5\n"
     ]
    }
   ],
   "source": [
    "printlistofnumbers([1, 2, 3, 4, 5])"
   ]
  },
  {
   "cell_type": "code",
   "execution_count": 17,
   "metadata": {},
   "outputs": [],
   "source": [
    "def additionwith_fstring():\n",
    "    a = 20\n",
    "    b = 30\n",
    "    c = a + b\n",
    "    print(f\"The sum of {a} and {b} is {c}\")"
   ]
  },
  {
   "cell_type": "code",
   "execution_count": null,
   "metadata": {},
   "outputs": [
    {
     "name": "stdout",
     "output_type": "stream",
     "text": [
      "The sum of 20 and 30 is 50\n"
     ]
    }
   ],
   "source": [
    "# calling the function\n",
    "additionwith_fstring()"
   ]
  },
  {
   "cell_type": "code",
   "execution_count": 19,
   "metadata": {},
   "outputs": [],
   "source": [
    "# function/method without arguments\n",
    "\n",
    "def addition_with_user_input():\n",
    "    # num1 = input(\"Enter the first number: \")\n",
    "    # num2 = input(\"Enter the second number: \")\n",
    "    num1 = int(input(\"Enter the first number: \"))\n",
    "    num2 = int(input(\"Enter the second number: \"))\n",
    "    print(\"The sum of the two numbers is: \", num1 + num2)"
   ]
  },
  {
   "cell_type": "code",
   "execution_count": 20,
   "metadata": {},
   "outputs": [
    {
     "name": "stdout",
     "output_type": "stream",
     "text": [
      "The sum of the two numbers is:  44\n"
     ]
    }
   ],
   "source": [
    "addition_with_user_input()"
   ]
  },
  {
   "cell_type": "code",
   "execution_count": 3,
   "metadata": {},
   "outputs": [],
   "source": [
    "# function/method with arguments\n",
    "\n",
    "def addition1(a,b,op):\n",
    "    num1 = int(a)\n",
    "    num2 = int(b)\n",
    "    if(op==\"+\"):\n",
    "        print(\"The sum of the two numbers is: \", num1 + num2)\n",
    "    elif(op==\"-\"):\n",
    "        print(\"the subtracted value of a and b is ..\", num1-num2)\n",
    "        "
   ]
  },
  {
   "cell_type": "code",
   "execution_count": 5,
   "metadata": {},
   "outputs": [
    {
     "name": "stdout",
     "output_type": "stream",
     "text": [
      "the subtracted value of a and b is .. -1\n",
      "The sum of the two numbers is:  21\n"
     ]
    }
   ],
   "source": [
    "addition1(10,11,'-')\n",
    "addition1(10,11,'+')"
   ]
  }
 ],
 "metadata": {
  "kernelspec": {
   "display_name": "Python 3",
   "language": "python",
   "name": "python3"
  },
  "language_info": {
   "codemirror_mode": {
    "name": "ipython",
    "version": 3
   },
   "file_extension": ".py",
   "mimetype": "text/x-python",
   "name": "python",
   "nbconvert_exporter": "python",
   "pygments_lexer": "ipython3",
   "version": "3.13.5"
  }
 },
 "nbformat": 4,
 "nbformat_minor": 2
}
