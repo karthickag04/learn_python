{
 "cells": [
  {
   "cell_type": "code",
   "execution_count": null,
   "metadata": {},
   "outputs": [],
   "source": [
    "# function Declaration\n",
    "def add():\n",
    "    x = 10\n",
    "    y = 20\n",
    "    result = x + y\n",
    "    print(result)"
   ]
  },
  {
   "cell_type": "code",
   "execution_count": 10,
   "metadata": {},
   "outputs": [
    {
     "name": "stdout",
     "output_type": "stream",
     "text": [
      "30\n"
     ]
    }
   ],
   "source": [
    "# calling the function\n",
    "add()\n"
   ]
  },
  {
   "cell_type": "code",
   "execution_count": null,
   "metadata": {},
   "outputs": [],
   "source": [
    "# function Declaration\n",
    "def add(x , y,e):\n",
    "    result = x + y\n",
    "    print(result)"
   ]
  },
  {
   "cell_type": "code",
   "execution_count": 13,
   "metadata": {},
   "outputs": [
    {
     "name": "stdout",
     "output_type": "stream",
     "text": [
      "30\n",
      "40\n"
     ]
    }
   ],
   "source": [
    "add(10,20)\n",
    "add(10,30)"
   ]
  },
  {
   "cell_type": "code",
   "execution_count": 18,
   "metadata": {},
   "outputs": [],
   "source": [
    "# function/method without arguments\n",
    "\n",
    "def addition():\n",
    "    # num1 = input(\"Enter the first number: \")\n",
    "    # num2 = input(\"Enter the second number: \")\n",
    "    num1 = int(input(\"Enter the first number: \"))\n",
    "    num2 = int(input(\"Enter the second number: \"))\n",
    "    print(\"The sum of the two numbers is: \", num1 + num2)"
   ]
  },
  {
   "cell_type": "code",
   "execution_count": 19,
   "metadata": {},
   "outputs": [
    {
     "name": "stdout",
     "output_type": "stream",
     "text": [
      "The sum of the two numbers is:  5\n"
     ]
    }
   ],
   "source": [
    "addition()"
   ]
  },
  {
   "cell_type": "code",
   "execution_count": 3,
   "metadata": {},
   "outputs": [],
   "source": [
    "# function/method with arguments\n",
    "\n",
    "def addition1(a,b,op):\n",
    "    num1 = int(a)\n",
    "    num2 = int(b)\n",
    "    if(op==\"+\"):\n",
    "        print(\"The sum of the two numbers is: \", num1 + num2)\n",
    "    elif(op==\"-\"):\n",
    "        print(\"the subtracted value of a and b is ..\", num1-num2)\n",
    "        "
   ]
  },
  {
   "cell_type": "code",
   "execution_count": 5,
   "metadata": {},
   "outputs": [
    {
     "name": "stdout",
     "output_type": "stream",
     "text": [
      "the subtracted value of a and b is .. -1\n",
      "The sum of the two numbers is:  21\n"
     ]
    }
   ],
   "source": [
    "addition1(10,11,'-')\n",
    "addition1(10,11,'+')"
   ]
  }
 ],
 "metadata": {
  "kernelspec": {
   "display_name": "base",
   "language": "python",
   "name": "python3"
  },
  "language_info": {
   "codemirror_mode": {
    "name": "ipython",
    "version": 3
   },
   "file_extension": ".py",
   "mimetype": "text/x-python",
   "name": "python",
   "nbconvert_exporter": "python",
   "pygments_lexer": "ipython3",
   "version": "3.11.7"
  }
 },
 "nbformat": 4,
 "nbformat_minor": 2
}
