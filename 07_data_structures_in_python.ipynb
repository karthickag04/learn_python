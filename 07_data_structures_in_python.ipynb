{
 "cells": [
  {
   "cell_type": "markdown",
   "id": "1e8e19b3",
   "metadata": {},
   "source": [
    "## Data Structures in Python"
   ]
  },
  {
   "cell_type": "code",
   "execution_count": null,
   "id": "f0811bab",
   "metadata": {},
   "outputs": [],
   "source": [
    "# list all the data structures in python (names)\n",
    "# List of data structures:\n",
    "\n",
    "    # \"list\"\n",
    "    # \"tuple\"\n",
    "    # \"set\"\n",
    "    # \"dict\"\n",
    "    \n"
   ]
  },
  {
   "cell_type": "code",
   "execution_count": 19,
   "id": "49cea90b",
   "metadata": {},
   "outputs": [],
   "source": [
    "# List\n",
    "\n",
    "\n",
    "first_list = [1, 2, 3, 4, 5]\n",
    "second_list = [\"a\", \"b\", \"c\"]\n",
    "third_list = [1, \"a\", 3.14, True]\n",
    "fourth_list =[[11,22,33,44], 2, 3, 4, [55, 66, 77, 88]]\n",
    "fifth_list = [[11,22,33,[\"ravi\",\"raju\",\"ramesh\"]], 2, 3, 4, [55, 66, 77, 88]]\n"
   ]
  },
  {
   "cell_type": "code",
   "execution_count": 12,
   "id": "e2d9ad2b",
   "metadata": {},
   "outputs": [
    {
     "name": "stdout",
     "output_type": "stream",
     "text": [
      "List examples:\n",
      "[1, 2, 3, 4, 5]\n",
      "1\n",
      "2\n",
      "first_list[2]: 3\n",
      "first_list[3]: 4\n",
      "first_list[4]: 5\n"
     ]
    }
   ],
   "source": [
    "print(\"List examples:\")\n",
    "print(first_list)\n",
    "print(first_list[0])\n",
    "print(first_list[1])\n",
    "print(\"first_list[2]:\", first_list[2])\n",
    "print(\"first_list[3]:\", first_list[3])\n",
    "print(\"first_list[4]:\", first_list[4])"
   ]
  },
  {
   "cell_type": "code",
   "execution_count": 13,
   "id": "da067680",
   "metadata": {},
   "outputs": [
    {
     "name": "stdout",
     "output_type": "stream",
     "text": [
      "List examples:\n",
      "[[11, 22, 33, 44], 2, 3, 4, [55, 66, 77, 88]]\n",
      "fourth_list[0]: [11, 22, 33, 44]\n",
      "fourth_list[0][0]: 11\n"
     ]
    }
   ],
   "source": [
    "print(\"List examples:\")\n",
    "print(fourth_list)\n",
    "print(\"fourth_list[0]:\", fourth_list[0])\n",
    "print(\"fourth_list[0][0]:\", fourth_list[0][0])"
   ]
  },
  {
   "cell_type": "code",
   "execution_count": 16,
   "id": "7fcd204f",
   "metadata": {},
   "outputs": [
    {
     "name": "stdout",
     "output_type": "stream",
     "text": [
      "List examples:\n",
      "[[11, 22, 33, ['ravi', 'raju', 'ramesh']], 2, 3, 4, [55, 66, 77, 88]]\n",
      "fifth_list[0]: [11, 22, 33, ['ravi', 'raju', 'ramesh']]\n",
      "fifth_list[0][3]: ['ravi', 'raju', 'ramesh']\n",
      "fifth_list[0][3][2]: ramesh\n"
     ]
    }
   ],
   "source": [
    "print(\"List examples:\")\n",
    "print(fifth_list)\n",
    "print(\"fifth_list[0]:\", fifth_list[0])\n",
    "print(\"fifth_list[0][3]:\", fifth_list[0][3])\n",
    "print(\"fifth_list[0][3][2]:\", fifth_list[0][3][2])"
   ]
  },
  {
   "cell_type": "code",
   "execution_count": 20,
   "id": "09f92cf2",
   "metadata": {},
   "outputs": [
    {
     "name": "stdout",
     "output_type": "stream",
     "text": [
      "[1, 2, 3, 4, 5]\n"
     ]
    }
   ],
   "source": [
    "# replace an element in a list\n",
    "print(first_list)\n",
    "first_list[0] = 100\n"
   ]
  },
  {
   "cell_type": "code",
   "execution_count": 21,
   "id": "d4f17d82",
   "metadata": {},
   "outputs": [
    {
     "name": "stdout",
     "output_type": "stream",
     "text": [
      "After replacing first element:\n",
      "[100, 2, 3, 4, 5]\n"
     ]
    }
   ],
   "source": [
    "print(\"After replacing first element:\")\n",
    "print(first_list)"
   ]
  },
  {
   "cell_type": "code",
   "execution_count": 22,
   "id": "5fe61919",
   "metadata": {},
   "outputs": [
    {
     "name": "stdout",
     "output_type": "stream",
     "text": [
      "Methods of list:\n",
      "first_list.append(6): None\n",
      "first_list: [100, 2, 3, 4, 5, 6]\n"
     ]
    }
   ],
   "source": [
    "# methods of list\n",
    "print(\"Methods of list:\")\n",
    "print(\"first_list.append(6):\", first_list.append(6))\n",
    "print(\"first_list:\", first_list)"
   ]
  },
  {
   "cell_type": "code",
   "execution_count": 23,
   "id": "07c62c73",
   "metadata": {},
   "outputs": [],
   "source": [
    "# this is the list of methods of list\n",
    "# practice that with the help of simple examples\n",
    "\n",
    "# append(x): Adds an item x to the end of the list.\n",
    "# extend(iterable): Extends the list by appending all the items from the iterable.\n",
    "# insert(i, x): Inserts an item x at a given position i.\n",
    "# remove(x): Removes the first item from the list whose value is x.\n",
    "# pop([i]): Removes and returns the item at the given position i (default is the last item).\n",
    "# clear(): Removes all items from the list.\n",
    "# index(x[, start[, end]]): Returns the index of the first item whose value is x (raises a ValueError if not found).\n",
    "# count(x): Returns the number of times x appears in the list.\n",
    "# sort(key=None, reverse=False): Sorts the items of the list in place.\n",
    "# reverse(): Reverses the elements of the list in place.\n",
    "# copy(): Returns a shallow copy of the list."
   ]
  },
  {
   "cell_type": "code",
   "execution_count": 26,
   "id": "76a7d741",
   "metadata": {},
   "outputs": [],
   "source": [
    "# tuple\n",
    "first_tuple = (1, 2, 3, 4, 5)\n",
    "second_tuple = (\"a\", \"b\", \"c\")\n",
    "third_tuple = (1, \"a\", 3.14, True)\n",
    "fourth_tuple = ((11, 22, 33, 44), 2, 3, 4, (55, 66, 77, 88))\n",
    "fifth_tuple = ((11, 22, 33, (\"ravi\", \"raju\", \"ramesh\")), 2, 3, 4, (55, 66, 77, 88))\n"
   ]
  },
  {
   "cell_type": "code",
   "execution_count": 27,
   "id": "f7c60582",
   "metadata": {},
   "outputs": [
    {
     "name": "stdout",
     "output_type": "stream",
     "text": [
      "\n",
      "Tuple examples:\n",
      "(1, 2, 3, 4, 5)\n",
      "first_tuple[0]: 1\n",
      "first_tuple[1]: 2\n",
      "first_tuple[2]: 3\n",
      "first_tuple[3]: 4\n",
      "first_tuple[4]: 5\n",
      "Tuple examples:\n",
      "((11, 22, 33, 44), 2, 3, 4, (55, 66, 77, 88))\n",
      "fourth_tuple[0]: (11, 22, 33, 44)\n",
      "fourth_tuple[0][0]: 11\n",
      "Tuple examples:\n",
      "((11, 22, 33, ('ravi', 'raju', 'ramesh')), 2, 3, 4, (55, 66, 77, 88))\n",
      "fifth_tuple[0]: (11, 22, 33, ('ravi', 'raju', 'ramesh'))\n",
      "fifth_tuple[0][3]: ('ravi', 'raju', 'ramesh')\n",
      "fifth_tuple[0][3][2]: ramesh\n"
     ]
    }
   ],
   "source": [
    "print(\"\\nTuple examples:\")\n",
    "print(first_tuple)\n",
    "print(\"first_tuple[0]:\", first_tuple[0])\n",
    "print(\"first_tuple[1]:\", first_tuple[1])\n",
    "print(\"first_tuple[2]:\", first_tuple[2])\n",
    "print(\"first_tuple[3]:\", first_tuple[3])\n",
    "print(\"first_tuple[4]:\", first_tuple[4])\n",
    "print(\"Tuple examples:\")\n",
    "print(fourth_tuple)\n",
    "print(\"fourth_tuple[0]:\", fourth_tuple[0])\n",
    "print(\"fourth_tuple[0][0]:\", fourth_tuple[0][0])\n",
    "print(\"Tuple examples:\")\n",
    "print(fifth_tuple)\n",
    "print(\"fifth_tuple[0]:\", fifth_tuple[0])\n",
    "print(\"fifth_tuple[0][3]:\", fifth_tuple[0][3])\n",
    "print(\"fifth_tuple[0][3][2]:\", fifth_tuple[0][3][2])\n"
   ]
  },
  {
   "cell_type": "code",
   "execution_count": null,
   "id": "78929942",
   "metadata": {},
   "outputs": [],
   "source": [
    "# list of methods of tuple\n",
    "# count(x): Returns the number of times x appears in the tuple.\n",
    "# index(x[, start[, end]]): Returns the index of the first item whose value is x (raises a ValueError if not found).\n",
    "# Note: Tuples are immutable, so they do not have methods like append, extend, insert, remove, pop, clear, sort, reverse, or copy."
   ]
  },
  {
   "cell_type": "code",
   "execution_count": 28,
   "id": "87865ebf",
   "metadata": {},
   "outputs": [
    {
     "name": "stdout",
     "output_type": "stream",
     "text": [
      "Converting tuple to list, modifying, and converting back to tuple:\n",
      "Modified list: [100, 2, 3, 4, 5]\n",
      "New tuple after modification: (100, 2, 3, 4, 5)\n"
     ]
    }
   ],
   "source": [
    "# tuple cannot be modified, so we cannot replace an element in a tuple\n",
    "# but we can convert it to a list, modify it, and convert it back to a tuple\n",
    "print(\"Converting tuple to list, modifying, and converting back to tuple:\")\n",
    "temp_list = list(first_tuple)\n",
    "temp_list[0] = 100\n",
    "print(\"Modified list:\", temp_list)\n",
    "new_tuple = tuple(temp_list)\n",
    "print(\"New tuple after modification:\", new_tuple)"
   ]
  },
  {
   "cell_type": "code",
   "execution_count": 30,
   "id": "f5457542",
   "metadata": {},
   "outputs": [],
   "source": [
    "# dict under python\n",
    "first_dict = {\"name\": \"Alice\", \"age\": 30, \"city\": \"New York\"}\n"
   ]
  },
  {
   "cell_type": "code",
   "execution_count": 32,
   "id": "3de779c3",
   "metadata": {},
   "outputs": [
    {
     "name": "stdout",
     "output_type": "stream",
     "text": [
      "Dictionary examples:\n",
      "{'name': 'Alice', 'age': 30, 'city': 'New York'}\n",
      "first_dict['name']: Alice\n",
      "first_dict['age']: 30\n",
      "first_dict['city']: New York\n"
     ]
    }
   ],
   "source": [
    "# print(\"\\nDictionary examples:\")\n",
    "print(\"Dictionary examples:\")\n",
    "print(first_dict)\n",
    "print(\"first_dict['name']:\", first_dict[\"name\"])\n",
    "print(\"first_dict['age']:\", first_dict[\"age\"])\n",
    "print(\"first_dict['city']:\", first_dict[\"city\"])\n"
   ]
  },
  {
   "cell_type": "code",
   "execution_count": 33,
   "id": "39894e6d",
   "metadata": {},
   "outputs": [
    {
     "name": "stdout",
     "output_type": "stream",
     "text": [
      "After changing age:\n",
      "{'name': 'Alice', 'age': 31, 'city': 'New York'}\n"
     ]
    }
   ],
   "source": [
    "# changing a value in a dictionary\n",
    "first_dict[\"age\"] = 31\n",
    "print(\"After changing age:\")\n",
    "print(first_dict)"
   ]
  },
  {
   "cell_type": "code",
   "execution_count": 34,
   "id": "f14ba138",
   "metadata": {},
   "outputs": [
    {
     "name": "stdout",
     "output_type": "stream",
     "text": [
      "After adding country:\n",
      "{'name': 'Alice', 'age': 31, 'city': 'New York', 'country': 'USA'}\n"
     ]
    }
   ],
   "source": [
    "# adding new key-value pair\n",
    "first_dict[\"country\"] = \"USA\"\n",
    "print(\"After adding country:\")\n",
    "print(first_dict)"
   ]
  },
  {
   "cell_type": "code",
   "execution_count": null,
   "id": "409c9b15",
   "metadata": {},
   "outputs": [],
   "source": [
    "# list of methods of dict\n",
    "\n",
    "# clear(): Removes all items from the dictionary.\n",
    "# copy(): Returns a shallow copy of the dictionary.\n",
    "# fromkeys(seq[, value]): Creates a new dictionary with keys from seq and values set to value (default is None).\n",
    "# get(key[, default]): Returns the value for key if key is in the dictionary, else default (default is None).\n",
    "# items(): Returns a view object that displays a list of a dictionary's key-value tuple pairs.\n",
    "# keys(): Returns a view object that displays a list of all the keys in the dictionary.\n",
    "# pop(key[, default]): Removes the specified key and returns its value. If key is not found, default is returned if provided.\n",
    "# popitem(): Removes and returns an arbitrary (key, value) pair from the dictionary.\n"
   ]
  },
  {
   "cell_type": "code",
   "execution_count": 46,
   "id": "d13a9da2",
   "metadata": {},
   "outputs": [],
   "source": [
    "# sets in python\n",
    "first_set = {1, 2, 3, 4, 5}\n",
    "second_set = {3, 4, 5, 6, 7}"
   ]
  },
  {
   "cell_type": "code",
   "execution_count": 45,
   "id": "f61a828d",
   "metadata": {},
   "outputs": [
    {
     "name": "stdout",
     "output_type": "stream",
     "text": [
      "\n",
      "Set examples:\n",
      "first_set: {1, 2}\n",
      "second_set: {3, 4, 5, 6, 7}\n"
     ]
    }
   ],
   "source": [
    "print(\"\\nSet examples:\")\n",
    "print(\"first_set:\", first_set)\n",
    "print(\"second_set:\", second_set)\n"
   ]
  },
  {
   "cell_type": "code",
   "execution_count": 38,
   "id": "2337d83e",
   "metadata": {},
   "outputs": [
    {
     "ename": "TypeError",
     "evalue": "'set' object is not subscriptable",
     "output_type": "error",
     "traceback": [
      "\u001b[31m---------------------------------------------------------------------------\u001b[39m",
      "\u001b[31mTypeError\u001b[39m                                 Traceback (most recent call last)",
      "\u001b[36mCell\u001b[39m\u001b[36m \u001b[39m\u001b[32mIn[38]\u001b[39m\u001b[32m, line 1\u001b[39m\n\u001b[32m----> \u001b[39m\u001b[32m1\u001b[39m \u001b[38;5;28mprint\u001b[39m(\u001b[43mfirst_set\u001b[49m\u001b[43m[\u001b[49m\u001b[32;43m0\u001b[39;49m\u001b[43m]\u001b[49m)\n\u001b[32m      2\u001b[39m \u001b[38;5;66;03m# Note: Sets are unordered collections, so they do not support indexing like lists or tuples.\u001b[39;00m\n",
      "\u001b[31mTypeError\u001b[39m: 'set' object is not subscriptable"
     ]
    }
   ],
   "source": [
    "print(first_set[0])\n",
    "# Note: Sets are unordered collections, so they do not support indexing like lists or tuples."
   ]
  },
  {
   "cell_type": "code",
   "execution_count": 48,
   "id": "cb18e6ff",
   "metadata": {},
   "outputs": [
    {
     "name": "stdout",
     "output_type": "stream",
     "text": [
      "Union of first_set and second_set: {1, 2, 3, 4, 5, 6, 7}\n",
      "Intersection of first_set and second_set: {3, 4, 5}\n",
      "Difference of first_set and second_set: {1, 2}\n",
      "Difference of second_set and first_set: {6, 7}\n",
      "Symmetric difference of first_set and second_set: {1, 2, 6, 7}\n"
     ]
    }
   ],
   "source": [
    "# union of two sets\n",
    "print(\"Union of first_set and second_set:\", first_set.union(second_set))\n",
    "# intersection of two sets\n",
    "print(\"Intersection of first_set and second_set:\", first_set.intersection(second_set))\n",
    "# difference of two sets\n",
    "print(\"Difference of first_set and second_set:\", first_set.difference(second_set))\n",
    "# difference update of two sets\n",
    "print(\"Difference of second_set and first_set:\", second_set.difference(first_set))\n",
    "# symmetric difference of two sets\n",
    "print(\"Symmetric difference of first_set and second_set:\", first_set.symmetric_difference(second_set))\n",
    "\n"
   ]
  },
  {
   "cell_type": "code",
   "execution_count": 51,
   "id": "2d037dd7",
   "metadata": {},
   "outputs": [
    {
     "name": "stdout",
     "output_type": "stream",
     "text": [
      "before adding 6 to first_set: {1, 2, 3, 4, 5, 6, 67}\n",
      "Adding 6 to first_set:\n",
      "After adding 6 to first_set: {1, 2, 3, 4, 5, 6, 67, 'date'}\n"
     ]
    }
   ],
   "source": [
    "# add a new value to a set\n",
    "print(\"before adding 6 to first_set:\", first_set)\n",
    "print(\"Adding 6 to first_set:\")\n",
    "first_set.add(\"date\")\n",
    "print(\"After adding 6 to first_set:\", first_set)"
   ]
  },
  {
   "cell_type": "code",
   "execution_count": null,
   "id": "818c04a6",
   "metadata": {},
   "outputs": [],
   "source": [
    "# list of methods of set\n",
    "# add(elem): Adds an element elem to the set.\n",
    "# clear(): Removes all elements from the set.\n",
    "# copy(): Returns a shallow copy of the set.\n",
    "# difference(*others): Returns a new set with elements in the set that are not in the others.\n",
    "# difference_update(*others): Removes elements found in others from the set.\n",
    "# discard(elem): Removes elem from the set if it is a member. If elem is not a member, do nothing.\n",
    "# intersection(*others): Returns a new set with elements common to the set and all others.\n",
    "# intersection_update(*others): Updates the set, keeping only elements found in it and all others.\n",
    "# isdisjoint(other): Returns True if the set has no elements in common with other.\n",
    "# issubset(other): Returns True if the set is a subset of other.\n",
    "# issuperset(other): Returns True if the set is a superset of other.\n",
    "# pop(): Removes and returns an arbitrary element from the set. Raises KeyError if the set is empty.\n",
    "# remove(elem): Removes elem from the set. Raises KeyError if elem is not a member.\n",
    "# symmetric_difference(other): Returns a new set with elements in either the set or other but not both.\n",
    "# symmetric_difference_update(other): Updates the set, keeping only elements found in either the set or other but not both.\n",
    "# union(*others): Returns a new set with elements from the set and all others.\n",
    "# update(*others): Updates the set, adding elements from all others."
   ]
  }
 ],
 "metadata": {
  "kernelspec": {
   "display_name": "Python 3",
   "language": "python",
   "name": "python3"
  },
  "language_info": {
   "codemirror_mode": {
    "name": "ipython",
    "version": 3
   },
   "file_extension": ".py",
   "mimetype": "text/x-python",
   "name": "python",
   "nbconvert_exporter": "python",
   "pygments_lexer": "ipython3",
   "version": "3.11.6"
  }
 },
 "nbformat": 4,
 "nbformat_minor": 5
}
