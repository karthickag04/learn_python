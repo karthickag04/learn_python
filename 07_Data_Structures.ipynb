{
 "cells": [
  {
   "cell_type": "markdown",
   "id": "b59a77cd",
   "metadata": {},
   "source": [
    "## Data Structures in Python"
   ]
  },
  {
   "cell_type": "code",
   "execution_count": null,
   "id": "1adfe9ed",
   "metadata": {},
   "outputs": [],
   "source": [
    "# types of datastructures under python\n",
    "# list, tuple, set, dict"
   ]
  },
  {
   "cell_type": "code",
   "execution_count": 2,
   "id": "9031ab9a",
   "metadata": {},
   "outputs": [],
   "source": [
    "# data structure in python\n",
    "# https://docs.python.org/3/tutorial/datastructures.html\n",
    "# https://docs.python.org/3/tutorial/datastructures.html#dictionaries\n",
    "# https://docs.python.org/3/tutorial/datastructures.html#sets\n",
    "# https://docs.python.org/3/tutorial/datastructures.html#list-comprehensions\n",
    "# https://docs.python.org/3/tutorial/datastructures.html#tuples-and-sequences\n",
    "# https://docs.python.org/3/tutorial/datastructures.html#more-on-lists\n",
    "# https://docs.python.org/3/tutorial/datastructures.html#nested-list-comprehensions\n",
    "# https://docs.python.org/3/tutorial/datastructures.html#dictionaries-and-sets\n",
    "# https://docs.python.org/3/tutorial/datastructures.html#using-lists-as-queues\n",
    "# https://docs.python.org/3/tutorial/datastructures.html#using-sets-to-remove-duplicates\n",
    "# https://docs.python.org/3/tutorial/datastructures.html#dictionaries-and-sets\n",
    "\n",
    "\n",
    "# list in python    \n",
    "first_list = [1, 2, 3, 4, 5]\n",
    "second_name_list = [\"Alice\", \"Bob\", \"Charlie\", \"David\"]\n",
    "# list can contain different data types\n",
    "mixed_list = [1, \"Alice\", 3.14, True]\n",
    "# list can be nested\n",
    "nested_list = [[1, 2, 3], [\"Alice\", \"Bob\"], [True, False]]\n",
    "# list can be empty\n",
    "empty_list = []\n",
    "# list can be created using list() constructor\n",
    "another_empty_list = list()\n",
    "# list can be created using range() function\n",
    "range_list = list(range(10))  # creates a list of numbers from 0 to 9\n",
    "# list can be created using list comprehension\n",
    "comprehension_list = [x * 2 for x in range(10)]  # creates a list of even numbers from 0 to 18\n",
    "\n"
   ]
  },
  {
   "cell_type": "code",
   "execution_count": 20,
   "id": "2112968c",
   "metadata": {},
   "outputs": [
    {
     "name": "stdout",
     "output_type": "stream",
     "text": [
      "List with list key: [1, [1, 2, 3]]\n",
      "List with list key after appending another list: [1, [1, 2, 3], 10]\n"
     ]
    }
   ],
   "source": [
    "listwithlistkey = list()\n",
    "listwithlistkey.append(1)\n",
    "listwithlistkey.append([1, 2, 3])\n",
    "print(\"List with list key:\", listwithlistkey)\n",
    "listwithlistkey.append(10)\n",
    "print(\"List with list key after appending another list:\", listwithlistkey)"
   ]
  },
  {
   "cell_type": "code",
   "execution_count": null,
   "id": "5a28f3f8",
   "metadata": {},
   "outputs": [],
   "source": [
    "# list of functions under list\n",
    "# append(x): Adds an item x to the end of the list.\n",
    "# extend(iterable): Extends the list by appending all the items from the iterable.\n",
    "# insert(i, x): Inserts an item x at a given position i.\n",
    "# remove(x): Removes the first item from the list whose value is x.\n",
    "# pop([i]): Removes and returns the item at the given position i (default is the last item).\n",
    "# clear(): Removes all items from the list.\n",
    "# index(x[, start[, end]]): Returns the index of the first item whose value is x (raises a ValueError if not found).\n",
    "# count(x): Returns the number of times x appears in the list.\n",
    "# sort(key=None, reverse=False): Sorts the items of the list in place.\n",
    "# reverse(): Reverses the elements of the list in place.\n",
    "# copy(): Returns a shallow copy of the list."
   ]
  },
  {
   "cell_type": "code",
   "execution_count": null,
   "id": "297d0429",
   "metadata": {},
   "outputs": [
    {
     "name": "stdout",
     "output_type": "stream",
     "text": [
      "nested_list: [[1, 2, 3], ['Alice', 'Bob'], [True, False]]\n",
      "nested_list[0]: [1, 2, 3]\n",
      "nested_list[0]: 1\n"
     ]
    }
   ],
   "source": [
    "print(\"nested_list:\", nested_list)\n",
    "print(\"nested_list[0]:\", nested_list[0])  # Accessing the first element of the nested list\n",
    "print(\"nested_list[0][0]:\", nested_list[0][0])  # Accessing the first element of the nested list"
   ]
  },
  {
   "cell_type": "code",
   "execution_count": 10,
   "id": "d9b7e6c6",
   "metadata": {},
   "outputs": [
    {
     "name": "stdout",
     "output_type": "stream",
     "text": [
      "nested_list1: [[123, [2, 1]], [789, 101112], [131415, 161718]]\n",
      "nested_list1[0]: [123, [2, 1]]\n",
      "nested_list1[0][0]: 123\n",
      "nested_list1[0][1]: [2, 1]\n",
      "nested_list1[0][1][0]: 2\n"
     ]
    }
   ],
   "source": [
    "nested_list1=[[123, [2,1]], [789, 101112], [131415, 161718]]\n",
    "print(\"nested_list1:\", nested_list1)\n",
    "print(\"nested_list1[0]:\", nested_list1[0])  # Accessing the first element of the nested list\n",
    "print(\"nested_list1[0][0]:\", nested_list1[0][0])  # Accessing the first element of the nested list\n",
    "print(\"nested_list1[0][1]:\", nested_list1[0][1])  # Accessing the second element of the first element of the nested list\n",
    "# Accessing elements in a nested list\n",
    "print(\"nested_list1[0][1][0]:\", nested_list1[0][1][0])  # Accessing the first element of the second element of the first element of the nested list\n"
   ]
  },
  {
   "cell_type": "code",
   "execution_count": 4,
   "id": "19c5e855",
   "metadata": {},
   "outputs": [
    {
     "name": "stdout",
     "output_type": "stream",
     "text": [
      "First List: [1, 2, 3, 4, 5]\n",
      "first_list[0]: 1\n",
      "first_list[1]: 2\n",
      "first_list[2]: 3\n"
     ]
    }
   ],
   "source": [
    "print(\"First List:\", first_list)\n",
    "print(\"first_list[0]:\", first_list[0])  # Accessing the first element\n",
    "print(\"first_list[1]:\", first_list[1])  # Accessing the second element\n",
    "print(\"first_list[2]:\", first_list[2])  # Accessing the third element\n"
   ]
  },
  {
   "cell_type": "code",
   "execution_count": 21,
   "id": "a614fa68",
   "metadata": {},
   "outputs": [
    {
     "name": "stdout",
     "output_type": "stream",
     "text": [
      "first_list : [1, 2, 3, 4, 5]\n",
      "Modified first_list: [1, 20, 3, 4, 5]\n"
     ]
    }
   ],
   "source": [
    "print(\"first_list :\", first_list)\n",
    "first_list[1]= 20  # Modifying the second element\n",
    "print(\"Modified first_list:\", first_list)  "
   ]
  }
 ],
 "metadata": {
  "kernelspec": {
   "display_name": "Python 3",
   "language": "python",
   "name": "python3"
  },
  "language_info": {
   "codemirror_mode": {
    "name": "ipython",
    "version": 3
   },
   "file_extension": ".py",
   "mimetype": "text/x-python",
   "name": "python",
   "nbconvert_exporter": "python",
   "pygments_lexer": "ipython3",
   "version": "3.11.6"
  }
 },
 "nbformat": 4,
 "nbformat_minor": 5
}
