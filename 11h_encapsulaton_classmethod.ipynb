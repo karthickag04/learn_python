{
 "cells": [
  {
   "cell_type": "code",
   "execution_count": 3,
   "id": "f76c85b0",
   "metadata": {},
   "outputs": [
    {
     "name": "stdout",
     "output_type": "stream",
     "text": [
      "Alice 25\n"
     ]
    }
   ],
   "source": [
    "class Person:\n",
    "\n",
    "    def __init__(self, name, age):\n",
    "        self.__name = name      # Private instance variable\n",
    "        self.__age = age       # Private instance variable\n",
    "        print(self.__name, self.__age)\n",
    "\n",
    "\n",
    "\n",
    "# Example usage:\n",
    "person = Person(\"Alice\", 25)"
   ]
  },
  {
   "cell_type": "code",
   "execution_count": 9,
   "id": "0f9c40c0",
   "metadata": {},
   "outputs": [
    {
     "name": "stdout",
     "output_type": "stream",
     "text": [
      " \n"
     ]
    },
    {
     "data": {
      "text/plain": [
       "'Bob'"
      ]
     },
     "execution_count": 9,
     "metadata": {},
     "output_type": "execute_result"
    }
   ],
   "source": [
    "class Person:\n",
    "\n",
    "    def __init__(self):\n",
    "        self.__name = \"\"      # Private instance variable\n",
    "        self.__age = \"\"     # Private instance variable\n",
    "        print(self.__name, self.__age)\n",
    "\n",
    "    def setName(self, name):\n",
    "        self.__name = name\n",
    "\n",
    "\n",
    "    def getName(self):\n",
    "        return self.__name\n",
    "    \n",
    "    \n",
    "    def setAge(self, age):\n",
    "        self.__age = age\n",
    "\n",
    "    def getAge(self):\n",
    "        return self.__age\n",
    "\n",
    "# Example usage:\n",
    "person = Person()\n",
    "person.setName(\"Bob\")  # Attempt to modify private variable (will not work)\n",
    "person.getName()  # This will return the original private name, which is an empty string\n"
   ]
  },
  {
   "cell_type": "code",
   "execution_count": 8,
   "id": "55ca16df",
   "metadata": {},
   "outputs": [
    {
     "name": "stdout",
     "output_type": "stream",
     "text": [
      "Alice\n",
      "25\n",
      "Bob\n",
      "30\n",
      "Age cannot be negative.\n"
     ]
    }
   ],
   "source": [
    "class Person:\n",
    "    \n",
    "    def __init__(self, name, age):\n",
    "        self.__name = name      # Private instance variable\n",
    "        self.__age = age        # Private instance variable\n",
    "\n",
    "    # Getter for name\n",
    "    def get_name(self):\n",
    "        return self.__name\n",
    "\n",
    "    # Setter for name\n",
    "    def set_name(self, name):\n",
    "        self.__name = name\n",
    "\n",
    "    # Getter for age\n",
    "    def get_age(self):\n",
    "        return self.__age\n",
    "\n",
    "    # Setter for age\n",
    "    def set_age(self, age):\n",
    "        if age >= 0:\n",
    "            self.__age = age\n",
    "        else:\n",
    "            print(\"Age cannot be negative.\")\n",
    "\n",
    "# Example usage:\n",
    "person = Person(\"Alice\", 25)\n",
    "print(person.get_name())  # Output: Alice\n",
    "print(person.get_age())   # Output: 25\n",
    "\n",
    "person.set_name(\"Bob\")\n",
    "person.set_age(30)\n",
    "print(person.get_name())  # Output: Bob\n",
    "print(person.get_age())   # Output: 30\n",
    "\n",
    "person.set_age(-5)        # Output: Age cannot be negative.\n"
   ]
  },
  {
   "cell_type": "code",
   "execution_count": null,
   "id": "4c5e5c27",
   "metadata": {},
   "outputs": [],
   "source": [
    "class Person:\n",
    "    __name = None      # Private class variable\n",
    "    __age = None       # Private class variable\n",
    "\n",
    "    @staticmethod\n",
    "    def set_name(name):\n",
    "        Person.__name = name\n",
    "\n",
    "    @staticmethod\n",
    "    def get_name():\n",
    "        return Person.__name\n",
    "\n",
    "    @staticmethod\n",
    "    def set_age(age):\n",
    "        if age >= 0:\n",
    "            Person.__age = age\n",
    "        else:\n",
    "            print(\"Age cannot be negative.\")\n",
    "\n",
    "    @staticmethod\n",
    "    def get_age():\n",
    "        return Person.__age\n",
    "\n",
    "# Example usage:\n",
    "Person.set_name(\"Alice\")\n",
    "Person.set_age(25)\n",
    "print(Person.get_name())  # Output: Alice\n",
    "print(Person.get_age())   # Output: 25\n",
    "\n",
    "Person.set_name(\"Bob\")\n",
    "Person.set_age(30)\n",
    "print(Person.get_name())  # Output: Bob\n",
    "print(Person.get_age())   # Output: 30\n",
    "\n",
    "Person.set_age(-5)        # Output: Age cannot be negative.\n"
   ]
  },
  {
   "cell_type": "code",
   "execution_count": null,
   "id": "48809fb7",
   "metadata": {},
   "outputs": [
    {
     "name": "stdout",
     "output_type": "stream",
     "text": [
      "42\n"
     ]
    }
   ],
   "source": [
    "class MyClass:\n",
    "    __private_var = None  # Private class variable\n",
    "\n",
    "    @classmethod\n",
    "    def set_private_var(cls, value):\n",
    "        cls.private_var = value\n",
    "\n",
    "    @classmethod\n",
    "    def get_private_var(cls):\n",
    "        return cls.__private_var\n",
    "\n",
    "# Example usage:\n",
    "MyClass.set_private_var(42)\n",
    "print(MyClass.get_private_var())  # Output: 42\n",
    "\n",
    "# --- Explanation ---\n",
    "\n",
    "# What is the use of classmethod?\n",
    "# A class method receives the class as the first argument (cls) and can modify class state that applies across all instances.\n",
    "# It is commonly used for factory methods, or to modify class-level variables.\n",
    "\n",
    "# Comparison: classmethod vs staticmethod vs instance method\n",
    "\n",
    "# 1. classmethod:\n",
    "#    - First parameter is 'cls' (the class itself).\n",
    "#    - Can access/modify class state.\n",
    "#    - Defined with @classmethod decorator.\n",
    "\n",
    "# 2. staticmethod:\n",
    "#    - No automatic first parameter (neither self nor cls).\n",
    "#    - Cannot access or modify class or instance state.\n",
    "#    - Used for utility functions related to the class.\n",
    "#    - Defined with @staticmethod decorator.\n",
    "\n",
    "# 3. instance method:\n",
    "#    - First parameter is 'self' (the instance).\n",
    "#    - Can access/modify instance state and class state.\n",
    "#    - Most common method type in classes."
   ]
  },
  {
   "cell_type": "code",
   "execution_count": null,
   "id": "73b93f68",
   "metadata": {},
   "outputs": [],
   "source": []
  },
  {
   "cell_type": "code",
   "execution_count": 7,
   "id": "bf7279a0",
   "metadata": {},
   "outputs": [
    {
     "name": "stdout",
     "output_type": "stream",
     "text": [
      "admin\n",
      "True\n",
      "False\n",
      "************\n",
      "newuser\n"
     ]
    }
   ],
   "source": [
    "class MyClass:\n",
    "    username = None  # public class variable for username\n",
    "    password = None  # public class variable for password\n",
    "\n",
    "    @classmethod\n",
    "    def set_credentials(cls, username, password):\n",
    "        cls.username = username\n",
    "        cls.password = password\n",
    "\n",
    "    @classmethod\n",
    "    def authenticate(cls, username, password):\n",
    "        return cls.username == username and cls.password == password\n",
    "    \n",
    "    @classmethod\n",
    "    def get_username(cls):\n",
    "        return cls.username\n",
    "    \n",
    "# Example usage:\n",
    "MyClass.set_credentials(\"admin\", \"secret123\")\n",
    "print(MyClass.get_username())\n",
    "print(MyClass.authenticate(\"admin\", \"secret123\"))  # Output: True\n",
    "print(MyClass.authenticate(\"admin\", \"wrongpass\"))  # Output: False\n",
    "\n",
    "print(\"************\")\n",
    "MyClass.username=\"newuser\"\n",
    "print(MyClass.get_username())  # Output: admin (still returns the original value, as username is public)\n"
   ]
  },
  {
   "cell_type": "code",
   "execution_count": 8,
   "id": "b9508795",
   "metadata": {},
   "outputs": [
    {
     "name": "stdout",
     "output_type": "stream",
     "text": [
      "admin\n",
      "True\n",
      "False\n",
      "************\n",
      "admin\n"
     ]
    }
   ],
   "source": [
    "class MyClass:\n",
    "    __username = None  # Private class variable for username\n",
    "    __password = None  # Private class variable for password\n",
    "\n",
    "    @classmethod\n",
    "    def set_credentials(cls, username, password):\n",
    "        cls.__username = username\n",
    "        cls.__password = password\n",
    "\n",
    "    @classmethod\n",
    "    def authenticate(cls, username, password):\n",
    "        return cls.__username == username and cls.__password == password\n",
    "    \n",
    "    @classmethod\n",
    "    def get_username(cls):\n",
    "        return cls.__username\n",
    "    \n",
    "# Example usage:\n",
    "MyClass.set_credentials(\"admin\", \"secret123\")\n",
    "print(MyClass.get_username())\n",
    "print(MyClass.authenticate(\"admin\", \"secret123\"))  # Output: True\n",
    "print(MyClass.authenticate(\"admin\", \"wrongpass\"))  # Output: False\n",
    "\n",
    "print(\"************\")\n",
    "MyClass.__username=\"newuser\"\n",
    "print(MyClass.get_username())  # Output: admin (still returns the original value, as __username is private)\n"
   ]
  }
 ],
 "metadata": {
  "kernelspec": {
   "display_name": "Python 3",
   "language": "python",
   "name": "python3"
  },
  "language_info": {
   "codemirror_mode": {
    "name": "ipython",
    "version": 3
   },
   "file_extension": ".py",
   "mimetype": "text/x-python",
   "name": "python",
   "nbconvert_exporter": "python",
   "pygments_lexer": "ipython3",
   "version": "3.13.5"
  }
 },
 "nbformat": 4,
 "nbformat_minor": 5
}
