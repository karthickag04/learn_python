{
 "cells": [
  {
   "cell_type": "code",
   "execution_count": null,
   "id": "48809fb7",
   "metadata": {},
   "outputs": [
    {
     "name": "stdout",
     "output_type": "stream",
     "text": [
      "42\n"
     ]
    }
   ],
   "source": [
    "class MyClass:\n",
    "    __private_var = None  # Private class variable\n",
    "\n",
    "    @classmethod\n",
    "    def set_private_var(cls, value):\n",
    "        cls.private_var = value\n",
    "\n",
    "    @classmethod\n",
    "    def get_private_var(cls):\n",
    "        return cls.__private_var\n",
    "\n",
    "# Example usage:\n",
    "MyClass.set_private_var(42)\n",
    "print(MyClass.get_private_var())  # Output: 42\n",
    "\n",
    "# --- Explanation ---\n",
    "\n",
    "# What is the use of classmethod?\n",
    "# A class method receives the class as the first argument (cls) and can modify class state that applies across all instances.\n",
    "# It is commonly used for factory methods, or to modify class-level variables.\n",
    "\n",
    "# Comparison: classmethod vs staticmethod vs instance method\n",
    "\n",
    "# 1. classmethod:\n",
    "#    - First parameter is 'cls' (the class itself).\n",
    "#    - Can access/modify class state.\n",
    "#    - Defined with @classmethod decorator.\n",
    "\n",
    "# 2. staticmethod:\n",
    "#    - No automatic first parameter (neither self nor cls).\n",
    "#    - Cannot access or modify class or instance state.\n",
    "#    - Used for utility functions related to the class.\n",
    "#    - Defined with @staticmethod decorator.\n",
    "\n",
    "# 3. instance method:\n",
    "#    - First parameter is 'self' (the instance).\n",
    "#    - Can access/modify instance state and class state.\n",
    "#    - Most common method type in classes."
   ]
  },
  {
   "cell_type": "code",
   "execution_count": 7,
   "id": "bf7279a0",
   "metadata": {},
   "outputs": [
    {
     "name": "stdout",
     "output_type": "stream",
     "text": [
      "admin\n",
      "True\n",
      "False\n",
      "************\n",
      "newuser\n"
     ]
    }
   ],
   "source": [
    "class MyClass:\n",
    "    username = None  # public class variable for username\n",
    "    password = None  # public class variable for password\n",
    "\n",
    "    @classmethod\n",
    "    def set_credentials(cls, username, password):\n",
    "        cls.username = username\n",
    "        cls.password = password\n",
    "\n",
    "    @classmethod\n",
    "    def authenticate(cls, username, password):\n",
    "        return cls.username == username and cls.password == password\n",
    "    \n",
    "    @classmethod\n",
    "    def get_username(cls):\n",
    "        return cls.username\n",
    "    \n",
    "# Example usage:\n",
    "MyClass.set_credentials(\"admin\", \"secret123\")\n",
    "print(MyClass.get_username())\n",
    "print(MyClass.authenticate(\"admin\", \"secret123\"))  # Output: True\n",
    "print(MyClass.authenticate(\"admin\", \"wrongpass\"))  # Output: False\n",
    "\n",
    "print(\"************\")\n",
    "MyClass.username=\"newuser\"\n",
    "print(MyClass.get_username())  # Output: admin (still returns the original value, as username is public)\n"
   ]
  },
  {
   "cell_type": "code",
   "execution_count": 8,
   "id": "b9508795",
   "metadata": {},
   "outputs": [
    {
     "name": "stdout",
     "output_type": "stream",
     "text": [
      "admin\n",
      "True\n",
      "False\n",
      "************\n",
      "admin\n"
     ]
    }
   ],
   "source": [
    "class MyClass:\n",
    "    __username = None  # Private class variable for username\n",
    "    __password = None  # Private class variable for password\n",
    "\n",
    "    @classmethod\n",
    "    def set_credentials(cls, username, password):\n",
    "        cls.__username = username\n",
    "        cls.__password = password\n",
    "\n",
    "    @classmethod\n",
    "    def authenticate(cls, username, password):\n",
    "        return cls.__username == username and cls.__password == password\n",
    "    \n",
    "    @classmethod\n",
    "    def get_username(cls):\n",
    "        return cls.__username\n",
    "    \n",
    "# Example usage:\n",
    "MyClass.set_credentials(\"admin\", \"secret123\")\n",
    "print(MyClass.get_username())\n",
    "print(MyClass.authenticate(\"admin\", \"secret123\"))  # Output: True\n",
    "print(MyClass.authenticate(\"admin\", \"wrongpass\"))  # Output: False\n",
    "\n",
    "print(\"************\")\n",
    "MyClass.__username=\"newuser\"\n",
    "print(MyClass.get_username())  # Output: admin (still returns the original value, as __username is private)\n"
   ]
  }
 ],
 "metadata": {
  "kernelspec": {
   "display_name": "Python 3",
   "language": "python",
   "name": "python3"
  },
  "language_info": {
   "codemirror_mode": {
    "name": "ipython",
    "version": 3
   },
   "file_extension": ".py",
   "mimetype": "text/x-python",
   "name": "python",
   "nbconvert_exporter": "python",
   "pygments_lexer": "ipython3",
   "version": "3.13.5"
  }
 },
 "nbformat": 4,
 "nbformat_minor": 5
}
