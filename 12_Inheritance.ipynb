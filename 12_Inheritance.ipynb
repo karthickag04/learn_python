{
 "cells": [
  {
   "cell_type": "code",
   "execution_count": null,
   "id": "7c28162b",
   "metadata": {},
   "outputs": [],
   "source": [
    "# inheritance under python\n",
    "# Inheritance is a powerful feature in object-oriented programming that allows a class to inherit attributes and\n",
    "# methods from another class. This promotes code reuse and establishes a natural hierarchy between classes.\n",
    "\n",
    "# list of inheritance types:\n",
    "# 1. Single Inheritance: A class inherits from one parent class.\n",
    "# 2. Multiple Inheritance: A class inherits from multiple parent classes.\n",
    "# 3. Multilevel Inheritance: A class inherits from a parent class, which in turn inherits from another class.\n",
    "# 4. Hierarchical Inheritance: Multiple classes inherit from a single parent class.\n",
    "# 5. Hybrid Inheritance: A combination of two or more types of inheritance.\n"
   ]
  },
  {
   "cell_type": "code",
   "execution_count": null,
   "id": "343dca4e",
   "metadata": {},
   "outputs": [],
   "source": [
    "class Gtec:\n",
    "    \n",
    "    def __init__(self):\n",
    "        self.name = \"Gtec Trichy\"\n",
    "        # print(self.greet())\n",
    "        print(\"Welcome to Gtec Trichy\")        \n",
    "\n",
    "    def greet(self):\n",
    "        x = self.courses()\n",
    "        return f\"Hello from {self.name}, 'Available courses:', ', '.join(gtec.courses())\"\n",
    "    \n",
    "\n",
    "    def courses(self):\n",
    "        return [\"Python Programming\", \"Data Science\", \"Machine Learning\"]\n",
    "    \n",
    "\n",
    "class Student(Gtec):\n",
    "    def classinfo(self):\n",
    "        return \"attended 20 classes\"\n",
    "\n",
    "\n",
    "class Parent(Student):\n",
    "    pass\n",
    "\n",
    "\n",
    "class Trainer(Student):\n",
    "\n",
    "    \n",
    "    def classinfo1(self):\n",
    "        return \"attended 30 classes\"\n",
    "    \n",
    "    def greet(self):\n",
    "        return \"Hello from Teacher\"\n"
   ]
  },
  {
   "cell_type": "code",
   "execution_count": 23,
   "id": "00fa5344",
   "metadata": {},
   "outputs": [
    {
     "name": "stdout",
     "output_type": "stream",
     "text": [
      "Welcome to Gtec Trichy\n"
     ]
    }
   ],
   "source": [
    "\n",
    "gtec=Gtec()\n",
    "# print(gtec.greet())\n",
    "# print(\"Available courses:\", \", \".join(gtec.courses()))\n"
   ]
  },
  {
   "cell_type": "code",
   "execution_count": 26,
   "id": "91ed2c98",
   "metadata": {},
   "outputs": [
    {
     "name": "stdout",
     "output_type": "stream",
     "text": [
      "Welcome to Gtec Trichy\n",
      "Hello from Gtec Trichy, 'Available courses:', ', '.join(gtec.courses())\n",
      "Available courses: Python Programming, Data Science, Machine Learning\n"
     ]
    }
   ],
   "source": [
    "\n",
    "stdent1 = Student()\n",
    "print(stdent1.greet())\n",
    "print(\"Available courses:\", \", \".join(stdent1.courses()))\n"
   ]
  },
  {
   "cell_type": "code",
   "execution_count": 29,
   "id": "82996422",
   "metadata": {},
   "outputs": [
    {
     "name": "stdout",
     "output_type": "stream",
     "text": [
      "Welcome to Gtec Trichy\n",
      "Hello from Gtec Trichy, 'Available courses:', ', '.join(gtec.courses())\n",
      "Available courses: Python Programming, Data Science, Machine Learning\n",
      "attended 20 classes\n"
     ]
    }
   ],
   "source": [
    "parent1 = Parent()\n",
    "print(parent1.greet())\n",
    "print(\"Available courses:\", \", \".join(parent1.courses()))\n",
    "print(parent1.classinfo())"
   ]
  }
 ],
 "metadata": {
  "kernelspec": {
   "display_name": "Python 3",
   "language": "python",
   "name": "python3"
  },
  "language_info": {
   "codemirror_mode": {
    "name": "ipython",
    "version": 3
   },
   "file_extension": ".py",
   "mimetype": "text/x-python",
   "name": "python",
   "nbconvert_exporter": "python",
   "pygments_lexer": "ipython3",
   "version": "3.13.5"
  }
 },
 "nbformat": 4,
 "nbformat_minor": 5
}
