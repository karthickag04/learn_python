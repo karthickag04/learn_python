{
 "cells": [
  {
   "cell_type": "markdown",
   "metadata": {},
   "source": [
    "\"\"\"\n",
    "Dictionary:\n",
    "-----------\n",
    "- Dictionaries are unordered, mutable collections of key-value pairs.\n",
    "- They are defined using curly braces {}.\n",
    "\n",
    "\n",
    "\"\"\"\n",
    "\n",
    "Examples:"
   ]
  },
  {
   "cell_type": "code",
   "execution_count": 2,
   "metadata": {},
   "outputs": [
    {
     "name": "stdout",
     "output_type": "stream",
     "text": [
      "Dictionary: {'name': 'John', 'age': 20, 'course': 'Data Science'}\n",
      "Updated Dictionary: {'name': 'John', 'age': 21, 'course': 'Data Science'}\n"
     ]
    }
   ],
   "source": [
    "\n",
    "# Dictionary example\n",
    "student = {\"name\": \"John\", \"age\": 20, \"course\": \"Data Science\"}\n",
    "\n",
    "\n",
    "print(\"Dictionary:\", student)\n",
    "student[\"age\"] = 21\n",
    "print(\"Updated Dictionary:\", student)\n"
   ]
  },
  {
   "cell_type": "code",
   "execution_count": 5,
   "metadata": {},
   "outputs": [
    {
     "name": "stdout",
     "output_type": "stream",
     "text": [
      "Student Name: John\n",
      "Student Age: 21\n",
      "Student Course: Data Science\n"
     ]
    }
   ],
   "source": [
    "print(\"Student Name:\", student[\"name\"])\n",
    "print(\"Student Age:\", student[\"age\"])\n",
    "print(\"Student Course:\", student[\"course\"])\n"
   ]
  },
  {
   "cell_type": "code",
   "execution_count": 7,
   "metadata": {},
   "outputs": [
    {
     "name": "stdout",
     "output_type": "stream",
     "text": [
      "Dictionary after deleting 'course': {'name': 'John', 'age': 21}\n"
     ]
    }
   ],
   "source": [
    "del student[\"course\"]\n",
    "print(\"Dictionary after deleting 'course':\", student)"
   ]
  },
  {
   "cell_type": "code",
   "execution_count": 4,
   "metadata": {},
   "outputs": [
    {
     "name": "stdout",
     "output_type": "stream",
     "text": [
      "Dictionary after adding element: {'name': 'John', 'age': 21, 'grade': 'A'}\n"
     ]
    }
   ],
   "source": [
    "student[\"grade\"] = \"A\"\n",
    "print(\"Dictionary after adding element:\", student)"
   ]
  },
  {
   "cell_type": "code",
   "execution_count": 6,
   "metadata": {},
   "outputs": [],
   "source": [
    "# function under dict\n",
    "\n",
    "# Adding Items\n",
    "\n",
    "# dict[key] = value: Add a key-value pair to the dictionary.\n",
    "# Removing Items\n",
    "\n",
    "# pop(key): Remove the item with the specified key.\n",
    "# popitem(): Remove and return the last inserted key-value pair.\n",
    "# del dict[key]: Delete the item with the specified key.\n",
    "# clear(): Remove all items from the dictionary.\n",
    "# Accessing Items\n",
    "\n",
    "# get(key, default): Return the value for the specified key if key is in dictionary, else default.\n",
    "# dict[key]: Access the value associated with the specified key.\n",
    "# Updating Items\n",
    "\n",
    "# update([other]): Update the dictionary with the key-value pairs from other, overwriting existing keys.\n",
    "# Iterating\n",
    "\n",
    "# keys(): Return a new view of the dictionary’s keys.\n",
    "# values(): Return a new view of the dictionary’s values.\n",
    "# items(): Return a new view of the dictionary’s key-value pairs.\n",
    "# Dictionary Comprehensions\n",
    "\n",
    "# {k: v for k, v in iterable}: Create a new dictionary from an iterable.\n",
    "# Copying\n",
    "\n",
    "# copy(): Return a shallow copy of the dictionary.\n",
    "# deepcopy(): Return a deep copy of the dictionary (requires import copy).\n",
    "# Default Values\n",
    "\n",
    "# setdefault(key, default): If key is in the dictionary, return its value. If not, insert key with a value of default and return default.\n",
    "# Checking for Keys\n",
    "\n",
    "# in operator: Check if a key is in the dictionary.\n",
    "# not in operator: Check if a key is not in the dictionary.\n",
    "# Length\n",
    "\n",
    "# len(dict): Return the number of items in the dictionary.\n",
    "# Merging\n",
    "\n",
    "# {**dict1, **dict2}: Merge two dictionaries (Python 3.5+).\n",
    "# These methods and operations allow you to perform a wide range of manipulations on dictionaries in Python.\n"
   ]
  }
 ],
 "metadata": {
  "kernelspec": {
   "display_name": "Python 3",
   "language": "python",
   "name": "python3"
  },
  "language_info": {
   "codemirror_mode": {
    "name": "ipython",
    "version": 3
   },
   "file_extension": ".py",
   "mimetype": "text/x-python",
   "name": "python",
   "nbconvert_exporter": "python",
   "pygments_lexer": "ipython3",
   "version": "3.13.2"
  }
 },
 "nbformat": 4,
 "nbformat_minor": 2
}
