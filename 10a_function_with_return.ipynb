{
 "cells": [
  {
   "cell_type": "code",
   "execution_count": 3,
   "id": "64b522df-39dd-476a-a0e3-71f88ccf9c7b",
   "metadata": {},
   "outputs": [],
   "source": [
    "def addition():\n",
    "    x = 10\n",
    "    y = 10\n",
    "    # print(\"added value of x + y is \", x+y)\n",
    "    print(x+y)"
   ]
  },
  {
   "cell_type": "code",
   "execution_count": 5,
   "id": "2c4b4f1a",
   "metadata": {},
   "outputs": [
    {
     "name": "stdout",
     "output_type": "stream",
     "text": [
      "20\n"
     ]
    }
   ],
   "source": [
    "addition() "
   ]
  },
  {
   "cell_type": "code",
   "execution_count": 4,
   "id": "6c3f9413",
   "metadata": {},
   "outputs": [
    {
     "name": "stdout",
     "output_type": "stream",
     "text": [
      "20\n"
     ]
    },
    {
     "data": {
      "text/plain": [
       "False"
      ]
     },
     "execution_count": 4,
     "metadata": {},
     "output_type": "execute_result"
    }
   ],
   "source": [
    "20 == addition()"
   ]
  },
  {
   "cell_type": "code",
   "execution_count": 6,
   "id": "7c210585",
   "metadata": {},
   "outputs": [],
   "source": [
    "def additionwithreturn():\n",
    "    x = 10\n",
    "    y = 10\n",
    "    return x+y"
   ]
  },
  {
   "cell_type": "code",
   "execution_count": 7,
   "id": "930099bd",
   "metadata": {},
   "outputs": [
    {
     "data": {
      "text/plain": [
       "True"
      ]
     },
     "execution_count": 7,
     "metadata": {},
     "output_type": "execute_result"
    }
   ],
   "source": [
    "20 == additionwithreturn()"
   ]
  },
  {
   "cell_type": "code",
   "execution_count": 13,
   "id": "b090c9b0",
   "metadata": {},
   "outputs": [
    {
     "name": "stdout",
     "output_type": "stream",
     "text": [
      "added value of x + y is  20\n"
     ]
    }
   ],
   "source": [
    "print(\"added value of x + y is \", additionwithreturn())"
   ]
  },
  {
   "cell_type": "code",
   "execution_count": 8,
   "id": "7e3b0856",
   "metadata": {},
   "outputs": [],
   "source": [
    "def additionwithreturn(x,y):\n",
    "    return x+y\n",
    "def multiplywithreturn(x,y):\n",
    "    return x*y"
   ]
  },
  {
   "cell_type": "code",
   "execution_count": 9,
   "id": "bb2ff839",
   "metadata": {},
   "outputs": [
    {
     "name": "stdout",
     "output_type": "stream",
     "text": [
      "added value of x + y is  30\n",
      "Multiplication of x and y is  200\n"
     ]
    }
   ],
   "source": [
    "print(\"added value of x + y is \", additionwithreturn(10,20))\n",
    "print(\"Multiplication of x and y is \", multiplywithreturn(10,20))"
   ]
  },
  {
   "cell_type": "code",
   "execution_count": 34,
   "id": "48274743",
   "metadata": {},
   "outputs": [],
   "source": [
    "# checking the same with string type"
   ]
  },
  {
   "cell_type": "code",
   "execution_count": 1,
   "id": "485ae788",
   "metadata": {},
   "outputs": [],
   "source": [
    "def car():\n",
    "    print(\"i have car\")\n"
   ]
  },
  {
   "cell_type": "code",
   "execution_count": 2,
   "id": "5a37581e-c3d6-4a84-a4a0-62589e2576da",
   "metadata": {},
   "outputs": [],
   "source": [
    "def car1():\n",
    "    return \"i have car\""
   ]
  },
  {
   "cell_type": "code",
   "execution_count": null,
   "id": "25fc3a23-8fa1-4b4a-bec6-056306522409",
   "metadata": {},
   "outputs": [
    {
     "name": "stdout",
     "output_type": "stream",
     "text": [
      "i have car\n",
      "i have car\n",
      "\n",
      "i have car\n",
      "False\n",
      "\n",
      "True\n"
     ]
    }
   ],
   "source": [
    "car()\n",
    "print(car1())\n",
    "# trying to assign the output to variable without return type\n",
    "print(\"\")\n",
    "print(car() == \"i have car\")\n",
    "print(\"\")\n",
    "print( car1()== \"i have car\")\n"
   ]
  },
  {
   "cell_type": "code",
   "execution_count": null,
   "id": "32af6e18",
   "metadata": {},
   "outputs": [],
   "source": []
  },
  {
   "cell_type": "code",
   "execution_count": null,
   "id": "32e6c081",
   "metadata": {},
   "outputs": [],
   "source": []
  },
  {
   "cell_type": "code",
   "execution_count": null,
   "id": "682d41e8",
   "metadata": {},
   "outputs": [],
   "source": []
  },
  {
   "cell_type": "code",
   "execution_count": 15,
   "id": "2e906358",
   "metadata": {},
   "outputs": [],
   "source": [
    "students={\"name\":\"Rajesh\", \"location\":\"Trichy\"}"
   ]
  },
  {
   "cell_type": "code",
   "execution_count": 7,
   "id": "fa135342",
   "metadata": {},
   "outputs": [
    {
     "name": "stdout",
     "output_type": "stream",
     "text": [
      "Not found Rajesh\n"
     ]
    }
   ],
   "source": []
  },
  {
   "cell_type": "code",
   "execution_count": 17,
   "id": "ba4dc5b0",
   "metadata": {},
   "outputs": [
    {
     "name": "stdout",
     "output_type": "stream",
     "text": [
      "Found Rajesh\n",
      "Found his location as Trichy\n"
     ]
    }
   ],
   "source": [
    "for key in students:\n",
    "    # print(students[key])\n",
    "\n",
    "    if students[key] == \"Rajesh\":\n",
    "        print(\"Found Rajesh\")\n",
    "    elif students[key] == \"Trichy\":\n",
    "        print(\"Found his location as Trichy\")\n",
    "    else:\n",
    "        print(\"Not found Rajesh\")"
   ]
  },
  {
   "cell_type": "code",
   "execution_count": 18,
   "id": "8a820ca9",
   "metadata": {},
   "outputs": [
    {
     "name": "stdout",
     "output_type": "stream",
     "text": [
      "Found Rajesh\n",
      "found his location as Trichy\n"
     ]
    }
   ],
   "source": [
    "for key, value in students.items():\n",
    "    if value == \"Rajesh\":\n",
    "        print(\"Found Rajesh\")\n",
    "    elif value == \"Trichy\":\n",
    "        print(\"found his location as Trichy\")\n",
    "    else:\n",
    "        print(\"Not Found Rajesh and his location\")"
   ]
  },
  {
   "cell_type": "code",
   "execution_count": 19,
   "id": "ff8f6c8c",
   "metadata": {},
   "outputs": [
    {
     "name": "stdout",
     "output_type": "stream",
     "text": [
      "Found Rajesh\n",
      "found his location as Trichy\n"
     ]
    }
   ],
   "source": [
    "for key, value in students.items():\n",
    "\n",
    "\n",
    "    if key == \"name\":\n",
    "       if students[\"name\"]:\n",
    "            print(\"Found Rajesh\")\n",
    "    elif key == \"location\":\n",
    "        if students[\"location\"] == \"Trichy\":\n",
    "            print(\"found his location as Trichy\")\n",
    "    else:\n",
    "        print(\"Not Found Rajesh and his location\")"
   ]
  }
 ],
 "metadata": {
  "kernelspec": {
   "display_name": "base",
   "language": "python",
   "name": "python3"
  },
  "language_info": {
   "codemirror_mode": {
    "name": "ipython",
    "version": 3
   },
   "file_extension": ".py",
   "mimetype": "text/x-python",
   "name": "python",
   "nbconvert_exporter": "python",
   "pygments_lexer": "ipython3",
   "version": "3.11.7"
  }
 },
 "nbformat": 4,
 "nbformat_minor": 5
}
