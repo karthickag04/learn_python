{
 "cells": [
  {
   "cell_type": "markdown",
   "metadata": {},
   "source": [
    "## set"
   ]
  },
  {
   "cell_type": "code",
   "execution_count": 1,
   "metadata": {},
   "outputs": [
    {
     "name": "stdout",
     "output_type": "stream",
     "text": [
      "Set: {'cherry', 'banana', 'apple'}\n"
     ]
    }
   ],
   "source": [
    "# Creating a set\n",
    "fruit_set = {\"apple\", \"banana\", \"cherry\"}\n",
    "print(\"Set:\", fruit_set)\n",
    "\n"
   ]
  },
  {
   "cell_type": "code",
   "execution_count": 2,
   "metadata": {},
   "outputs": [
    {
     "ename": "TypeError",
     "evalue": "'set' object is not subscriptable",
     "output_type": "error",
     "traceback": [
      "\u001b[31m---------------------------------------------------------------------------\u001b[39m",
      "\u001b[31mTypeError\u001b[39m                                 Traceback (most recent call last)",
      "\u001b[36mCell\u001b[39m\u001b[36m \u001b[39m\u001b[32mIn[2]\u001b[39m\u001b[32m, line 1\u001b[39m\n\u001b[32m----> \u001b[39m\u001b[32m1\u001b[39m \u001b[38;5;28mprint\u001b[39m(\u001b[43mfruit_set\u001b[49m\u001b[43m[\u001b[49m\u001b[32;43m0\u001b[39;49m\u001b[43m]\u001b[49m)\n",
      "\u001b[31mTypeError\u001b[39m: 'set' object is not subscriptable"
     ]
    }
   ],
   "source": [
    "print(fruit_set[0])"
   ]
  },
  {
   "cell_type": "code",
   "execution_count": 3,
   "metadata": {},
   "outputs": [
    {
     "name": "stdout",
     "output_type": "stream",
     "text": [
      "Set after add: {'Mango', 'cherry', 'banana', 'apple'}\n"
     ]
    }
   ],
   "source": [
    "fruit_set.add(\"Mango\")\n",
    "print(\"Set after add:\", fruit_set)"
   ]
  },
  {
   "cell_type": "code",
   "execution_count": 4,
   "metadata": {},
   "outputs": [
    {
     "name": "stdout",
     "output_type": "stream",
     "text": [
      "Set after add: {'Orange', 'cherry', 'apple', 'banana', 'Mango'}\n"
     ]
    }
   ],
   "source": [
    "fruit_set.add(\"Orange\")\n",
    "print(\"Set after add:\", fruit_set)"
   ]
  },
  {
   "cell_type": "code",
   "execution_count": null,
   "metadata": {},
   "outputs": [
    {
     "name": "stdout",
     "output_type": "stream",
     "text": [
      "Union: {1, 2, 3, 4, 5, 6}\n",
      "Intersection: {3, 4}\n",
      "Difference: {1, 2}\n",
      "Difference: {5, 6}\n",
      "Difference: {1, 2, 5, 6}\n",
      "Symmetric Difference: {1, 2, 5, 6}\n"
     ]
    }
   ],
   "source": [
    "set1 = {1, 2, 3, 4}\n",
    "set2 = {3, 4, 5, 6}\n",
    "\n",
    "print(\"Union:\", set1.union(set2))\n",
    "print(\"Intersection:\", set1.intersection(set2))\n",
    "print(\"Difference:\", set1.difference(set2))\n",
    "print(\"Difference:\", set2.difference(set1))\n",
    "# print(\"Difference:\", (set1.union(set2)).difference(set1.intersection(set2)))\n",
    "print(\"Symmetric Difference:\", set1.symmetric_difference(set2))\n"
   ]
  },
  {
   "cell_type": "code",
   "execution_count": null,
   "metadata": {},
   "outputs": [],
   "source": [
    "# List of methods in set\n",
    "\n",
    "    # \"add\",\n",
    "    # \"clear\",\n",
    "    # \"copy\",\n",
    "    # \"difference\",\n",
    "    # \"difference_update\",\n",
    "    # \"discard\",\n",
    "    # \"intersection\",\n",
    "    # \"intersection_update\",\n",
    "    # \"isdisjoint\",\n",
    "    # \"issubset\",\n",
    "    # \"issuperset\",\n",
    "    # \"pop\",\n",
    "    # \"remove\",\n",
    "    # \"symmetric_difference\",\n",
    "    # \"symmetric_difference_update\",\n",
    "    # \"union\",\n",
    "    # \"update\"\n"
   ]
  },
  {
   "cell_type": "code",
   "execution_count": 6,
   "metadata": {},
   "outputs": [
    {
     "name": "stdout",
     "output_type": "stream",
     "text": [
      "Fruit: Orange\n",
      "Fruit: cherry\n",
      "Fruit: apple\n",
      "Fruit: banana\n",
      "Fruit: Mango\n"
     ]
    }
   ],
   "source": [
    "# for loot in set\n",
    "for fruit in fruit_set:\n",
    "    print(\"Fruit:\", fruit)"
   ]
  }
 ],
 "metadata": {
  "kernelspec": {
   "display_name": "myenv_Django",
   "language": "python",
   "name": "python3"
  },
  "language_info": {
   "codemirror_mode": {
    "name": "ipython",
    "version": 3
   },
   "file_extension": ".py",
   "mimetype": "text/x-python",
   "name": "python",
   "nbconvert_exporter": "python",
   "pygments_lexer": "ipython3",
   "version": "3.13.2"
  }
 },
 "nbformat": 4,
 "nbformat_minor": 2
}
