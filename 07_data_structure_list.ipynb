{
 "cells": [
  {
   "cell_type": "markdown",
   "id": "1e8e19b3",
   "metadata": {},
   "source": [
    "## Data Structures in Python"
   ]
  },
  {
   "cell_type": "code",
   "execution_count": null,
   "id": "f0811bab",
   "metadata": {},
   "outputs": [],
   "source": [
    "# list all the data structures in python (names)\n",
    "# List of data structures:\n",
    "\n",
    "    # \"list\"\n",
    "    # \"tuple\"\n",
    "    # \"set\"\n",
    "    # \"dict\"\n",
    "    \n"
   ]
  },
  {
   "cell_type": "markdown",
   "id": "2406a21a",
   "metadata": {},
   "source": [
    "# List"
   ]
  },
  {
   "cell_type": "code",
   "execution_count": 19,
   "id": "94a83657",
   "metadata": {},
   "outputs": [
    {
     "name": "stdout",
     "output_type": "stream",
     "text": [
      "List of names: ['raguvaran', 'karthik', 'suresh', 'sathish', 'karthik', 'ravi', 'ram', 'ravi']\n",
      "first name: raguvaran\n",
      "first name: karthik\n",
      "first name: suresh\n",
      "last name: ravi\n",
      "last name: ram\n",
      "Updated fname list: ['rajesh', 'karthik', 'suresh', 'sathish', 'karthik', 'ravi', 'ram', 'ravi']\n"
     ]
    }
   ],
   "source": [
    "names = [\"raguvaran\", \"karthik\", \"suresh\", \"sathish\", \"karthik\", \"ravi\", \"ram\", \"ravi\"]\n",
    "print(\"List of names:\", names)\n",
    "print(\"first name:\", names[0])\n",
    "print(\"first name:\", names[1])\n",
    "print(\"first name:\", names[2])\n",
    "print(\"last name:\", names[-1])\n",
    "print(\"last name:\", names[-2])\n",
    "names[0] =\"rajesh\"\n",
    "print(\"Updated fname list:\", names)"
   ]
  },
  {
   "cell_type": "code",
   "execution_count": 20,
   "id": "a882ba64",
   "metadata": {},
   "outputs": [
    {
     "name": "stdout",
     "output_type": "stream",
     "text": [
      "List of names: ['rajesh', 'karthik', 'suresh', 'sathish', 'karthik', 'ravi', 'ram', 'ravi']\n",
      "Updated fname list: ['rajesh', 'karthik', 'suresh', 'sathish', 'karthik', 'ravi', 'ram', 'ravi', 'ramkumar']\n"
     ]
    }
   ],
   "source": [
    "# use of Append function under list\n",
    "print(\"List of names:\", names)\n",
    "names.append(\"ramkumar\")\n",
    "print(\"Updated fname list:\", names)"
   ]
  },
  {
   "cell_type": "code",
   "execution_count": null,
   "id": "7ebb4940",
   "metadata": {},
   "outputs": [],
   "source": [
    "#imes x appears in the list.\n",
    "# sort(key=None, reverse=False): Sorts the items of the list in place.\n",
    "# reverse(): Reverses the elements of the list in place.\n",
    "# copy(): Returns a shallow copy of the list. list of functions under list\n",
    "# append(x): Adds an item x to the end of the list.\n",
    "# extend(iterable): Extends the list by appending all the items from the iterable.\n",
    "# insert(i, x): Inserts an item x at a given position i.\n",
    "# remove(x): Removes the first item from the list whose value is x.\n",
    "# pop([i]): Removes and returns the item at the given position i (default is the last item).\n",
    "# clear(): Removes all items from the list.\n",
    "# index(x[, start[, end]]): Returns the index of the first item whose value is x (raises a ValueError if not found).\n",
    "# count(x): Returns the number of t"
   ]
  },
  {
   "cell_type": "code",
   "execution_count": null,
   "id": "e3a8f722",
   "metadata": {},
   "outputs": [
    {
     "name": "stdout",
     "output_type": "stream",
     "text": [
      "nested_list1: [[123, [2, 1]], [789, 101112], [131415, 161718]]\n",
      "nested_list1[0]: [123, [2, 1]]\n",
      "nested_list1[0][0]: 123\n",
      "nested_list1[0][1]: [2, 1]\n",
      "nested_list1[0][1][0]: 2\n"
     ]
    }
   ],
   "source": [
    "# nested list\n",
    "\n",
    "nested_list1=[[123, [2,1]], [789, 101112], [131415, 161718]]\n",
    "\n",
    "print(\"nested_list1:\", nested_list1)\n",
    "print(\"nested_list1[0]:\", nested_list1[0])  # Accessing the first element of the nested list\n",
    "print(\"nested_list1[0][0]:\", nested_list1[0][0])  # Accessing the first element of the nested list\n",
    "print(\"nested_list1[0][1]:\", nested_list1[0][1])  # Accessing the second element of the first element of the nested list\n",
    "# Accessing elements in a nested list\n",
    "print(\"nested_list1[0][1][0]:\", nested_list1[0][1][0])  # Accessing the first element of the second element of the first element of the nested list\n"
   ]
  },
  {
   "cell_type": "code",
   "execution_count": 25,
   "id": "b4a9e31a",
   "metadata": {},
   "outputs": [
    {
     "name": "stdout",
     "output_type": "stream",
     "text": [
      "List of names: ['rajesh', 'karthik', 'suresh', 'sathish', 'karthik', 'ravi', 'ram', 'ravi', 'ramkumar']\n",
      "rajesh\n",
      "karthik\n",
      "suresh\n",
      "sathish\n",
      "karthik\n",
      "ravi\n",
      "ram\n",
      "ravi\n",
      "ramkumar\n"
     ]
    }
   ],
   "source": [
    "print(\"List of names:\", names)\n",
    "\n",
    "for n in names:\n",
    "    print(n)"
   ]
  },
  {
   "cell_type": "code",
   "execution_count": 26,
   "id": "9672b39f",
   "metadata": {},
   "outputs": [
    {
     "name": "stdout",
     "output_type": "stream",
     "text": [
      "List of names: ['rajesh', 'karthik', 'suresh', 'sathish', 'karthik', 'ravi', 'ram', 'ravi', 'ramkumar']\n",
      "Not found karthik\n",
      "Found karthik\n",
      "Not found karthik\n",
      "Not found karthik\n",
      "Found karthik\n",
      "Not found karthik\n",
      "Not found karthik\n",
      "Not found karthik\n",
      "Not found karthik\n"
     ]
    }
   ],
   "source": [
    "print(\"List of names:\", names)\n",
    "\n",
    "for n in names:\n",
    "    # print(n)\n",
    "    if n == \"karthik\":\n",
    "        print(\"Found karthik\")\n",
    "    else:\n",
    "        print(\"Not found karthik\")"
   ]
  }
 ],
 "metadata": {
  "kernelspec": {
   "display_name": "Python 3",
   "language": "python",
   "name": "python3"
  },
  "language_info": {
   "codemirror_mode": {
    "name": "ipython",
    "version": 3
   },
   "file_extension": ".py",
   "mimetype": "text/x-python",
   "name": "python",
   "nbconvert_exporter": "python",
   "pygments_lexer": "ipython3",
   "version": "3.11.6"
  }
 },
 "nbformat": 4,
 "nbformat_minor": 5
}
