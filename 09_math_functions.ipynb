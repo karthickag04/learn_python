{
 "cells": [
  {
   "cell_type": "markdown",
   "id": "e105cf5f",
   "metadata": {},
   "source": [
    "\"\"\"\n",
    "Math Functions in Python\n",
    "========================\n",
    "\n",
    "Python supports a variety of mathematical functions, ranging from basic arithmetic operations to advanced mathematical computations. The `math` and `numpy` libraries provide many built-in functions to perform these calculations efficiently.\n",
    "\n",
    "Basic Arithmetic Operations:\n",
    "-----------------------------\n",
    "- Addition (+)\n",
    "- Subtraction (-)\n",
    "- Multiplication (*)\n",
    "- Division (/)\n",
    "- Modulus (%)\n",
    "- Exponentiation (**)\n",
    "- Floor Division (//)\n",
    "\n",
    "Examples:\n",
    "\"\"\"\n",
    "\n"
   ]
  },
  {
   "cell_type": "code",
   "execution_count": null,
   "id": "627e9fe8",
   "metadata": {},
   "outputs": [],
   "source": [
    "# Basic Arithmetic Operations\n",
    "a = 10\n",
    "b = 3\n",
    "\n",
    "print(\"Addition:\", a + b)\n",
    "print(\"Subtraction:\", a - b)\n",
    "print(\"Multiplication:\", a * b)\n",
    "print(\"Division:\", a / b)\n",
    "print(\"Modulus:\", a % b)\n",
    "print(\"Exponentiation:\", a ** b)\n",
    "print(\"Floor Division:\", a // b)"
   ]
  },
  {
   "cell_type": "code",
   "execution_count": null,
   "id": "272d2ebb",
   "metadata": {},
   "outputs": [],
   "source": [
    "\n",
    "\"\"\"\n",
    "Math Module Functions:\n",
    "----------------------\n",
    "- The `math` module provides access to many mathematical functions and constants.\n",
    "\n",
    "Examples:\n",
    "\"\"\"\n",
    "import math\n",
    "\n",
    "# Constants\n",
    "print(\"Pi:\", math.pi)\n",
    "print(\"Euler's Number:\", math.e)\n",
    "print(\"Tau:\", math.tau)\n",
    "\n",
    "# Trigonometric Functions\n",
    "print(\"Sine of 90 degrees:\", math.sin(math.radians(90)))\n",
    "print(\"Cosine of 0 degrees:\", math.cos(math.radians(0)))\n",
    "print(\"Tangent of 45 degrees:\", math.tan(math.radians(45)))\n",
    "\n",
    "# Inverse Trigonometric Functions\n",
    "print(\"Arcsine of 1:\", math.degrees(math.asin(1)))\n",
    "print(\"Arccosine of 0:\", math.degrees(math.acos(0)))\n",
    "print(\"Arctangent of 1:\", math.degrees(math.atan(1)))\n",
    "\n",
    "# Hyperbolic Functions\n",
    "print(\"Hyperbolic sine of 1:\", math.sinh(1))\n",
    "print(\"Hyperbolic cosine of 1:\", math.cosh(1))\n",
    "print(\"Hyperbolic tangent of 1:\", math.tanh(1))\n",
    "\n",
    "# Exponential and Logarithmic Functions\n",
    "print(\"Exponential of 2:\", math.exp(2))\n",
    "print(\"Natural logarithm of 2:\", math.log(2))\n",
    "print(\"Logarithm base 10 of 1000:\", math.log10(1000))\n",
    "print(\"Logarithm base 2 of 8:\", math.log2(8))\n",
    "\n",
    "# Power and Square Root Functions\n",
    "print(\"Square root of 16:\", math.sqrt(16))\n",
    "print(\"3 raised to the power of 4:\", math.pow(3, 4))\n",
    "\n",
    "# Rounding Functions\n",
    "print(\"Ceiling of 2.3:\", math.ceil(2.3))\n",
    "print(\"Floor of 2.7:\", math.floor(2.7))\n",
    "print(\"Absolute value of -5:\", math.fabs(-5))\n"
   ]
  },
  {
   "cell_type": "code",
   "execution_count": 14,
   "id": "2d124630",
   "metadata": {},
   "outputs": [
    {
     "name": "stdout",
     "output_type": "stream",
     "text": [
      "Random number between 0 and 1: 0.27294706137363633\n"
     ]
    }
   ],
   "source": [
    "\"\"\"\n",
    "Random Number Generation:\n",
    "-------------------------\n",
    "- The `random` module and `numpy.random` provide functions to generate random numbers and perform random operations.\n",
    "\n",
    "Examples:\n",
    "\"\"\"\n",
    "import random\n",
    "\n",
    "# Random number between 0 and 1\n",
    "print(\"Random number between 0 and 1:\", random.random())\n"
   ]
  },
  {
   "cell_type": "code",
   "execution_count": 33,
   "id": "5e65582a",
   "metadata": {},
   "outputs": [
    {
     "name": "stdout",
     "output_type": "stream",
     "text": [
      "Random integer between 1 and 10: 991520\n"
     ]
    }
   ],
   "source": [
    "\n",
    "# Random integer between 1 and 10\n",
    "print(\"Random integer between 1 and 10:\", random.randint(100000, 999999))\n",
    "\n"
   ]
  },
  {
   "cell_type": "code",
   "execution_count": 41,
   "id": "5ec9fc0e",
   "metadata": {},
   "outputs": [
    {
     "name": "stdout",
     "output_type": "stream",
     "text": [
      "Random choice from list: 5\n"
     ]
    }
   ],
   "source": [
    "\n",
    "# Random choice from a list\n",
    "ddd = [1, 2, 3, 4, 5]\n",
    "print(\"Random choice from list:\", random.choice(ddd))\n"
   ]
  },
  {
   "cell_type": "code",
   "execution_count": 1,
   "id": "fe722be5",
   "metadata": {},
   "outputs": [],
   "source": [
    "import numpy as np"
   ]
  },
  {
   "cell_type": "code",
   "execution_count": 21,
   "id": "f1da39b4",
   "metadata": {},
   "outputs": [
    {
     "name": "stdout",
     "output_type": "stream",
     "text": [
      "Random number from normal distribution: 1.1055188869436332\n"
     ]
    }
   ],
   "source": [
    "\n",
    "# # Shuffling a list\n",
    "# random.shuffle(ddd)\n",
    "# print(\"Shuffled list:\", ddd)\n",
    "\n",
    "# # Using numpy.random\n",
    "print(\"Random number from normal distribution:\", np.random.normal())\n",
    "# print(\"Random integer between 1 and 10:\", np.random.randint(1, 10))\n",
    "# print(\"Random choice from array:\", np.random.choice(arr))\n",
    "# print(\"Random sample from array:\", np.random.choice(arr, size=3, replace=False))"
   ]
  }
 ],
 "metadata": {
  "kernelspec": {
   "display_name": "base",
   "language": "python",
   "name": "python3"
  },
  "language_info": {
   "codemirror_mode": {
    "name": "ipython",
    "version": 3
   },
   "file_extension": ".py",
   "mimetype": "text/x-python",
   "name": "python",
   "nbconvert_exporter": "python",
   "pygments_lexer": "ipython3",
   "version": "3.11.7"
  }
 },
 "nbformat": 4,
 "nbformat_minor": 5
}
