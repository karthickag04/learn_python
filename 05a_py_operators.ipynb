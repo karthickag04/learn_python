{
 "cells": [
  {
   "cell_type": "code",
   "execution_count": 5,
   "id": "9106467e",
   "metadata": {},
   "outputs": [],
   "source": [
    "# arithmetic operators list\n",
    "arithmetic_operators = [\n",
    "    '+',  # addition\n",
    "    '-',  # subtraction\n",
    "    '*',  # multiplication\n",
    "    '/',  # division\n",
    "    '%',  # modulus\n",
    "    '**', # exponentiation\n",
    "    '//', # floor division\n",
    "]\n"
   ]
  },
  {
   "cell_type": "code",
   "execution_count": null,
   "id": "1ac2a5f3",
   "metadata": {},
   "outputs": [],
   "source": [
    "# comparison operators list\n",
    "comparison_operators = [\n",
    "    '==',  # equal\n",
    "    '!=',  # not equal\n",
    "    '>',   # greater than\n",
    "    '<',   # less than\n",
    "    '>=',  # greater than or equal to\n",
    "    '<=',  # less than or equal to\n",
    "]\n"
   ]
  },
  {
   "cell_type": "code",
   "execution_count": null,
   "id": "b38b8e37",
   "metadata": {},
   "outputs": [],
   "source": [
    "# logical operators list\n",
    "logical_operators = [\n",
    "    'and',  # logical AND\n",
    "    'or',   # logical OR\n",
    "    'not',  # logical NOT\n",
    "]"
   ]
  },
  {
   "cell_type": "code",
   "execution_count": null,
   "id": "6442a83a",
   "metadata": {},
   "outputs": [],
   "source": [
    "\n",
    "# assignment operators list\n",
    "assignment_operators = [\n",
    "    '=',   # assignment\n",
    "    '+=',  # add and assign\n",
    "    '-=',  # subtract and assign\n",
    "    '*=',  # multiply and assign\n",
    "    '/=',  # divide and assign\n",
    "    '%=',  # modulus and assign\n",
    "    '**=', # exponentiation and assign\n",
    "    '//=', # floor division and assign\n",
    "]"
   ]
  },
  {
   "cell_type": "code",
   "execution_count": null,
   "id": "2d2f0718",
   "metadata": {},
   "outputs": [],
   "source": [
    "\n",
    "# bitwise operators list\n",
    "bitwise_operators = [\n",
    "    '&',   # bitwise AND\n",
    "    '|',   # bitwise OR\n",
    "    '^',   # bitwise XOR\n",
    "    '~',   # bitwise NOT\n",
    "    '<<',  # left shift\n",
    "    '>>',  # right shift\n",
    "]"
   ]
  },
  {
   "cell_type": "code",
   "execution_count": null,
   "id": "a3deac84",
   "metadata": {},
   "outputs": [],
   "source": [
    "\n",
    "# identity operators list\n",
    "identity_operators = [\n",
    "    'is',   # identity\n",
    "    'is not', # not identity\n",
    "]"
   ]
  },
  {
   "cell_type": "code",
   "execution_count": null,
   "id": "9486b811",
   "metadata": {},
   "outputs": [],
   "source": [
    "\n",
    "# membership operators list\n",
    "membership_operators = [\n",
    "    'in',   # membership\n",
    "    'not in', # not membership\n",
    "]"
   ]
  },
  {
   "cell_type": "code",
   "execution_count": null,
   "id": "62af516c",
   "metadata": {},
   "outputs": [],
   "source": [
    "\n",
    "# ternary operator\n",
    "ternary_operator = 'x if condition else y'  # conditional expression\n",
    "\n"
   ]
  }
 ],
 "metadata": {
  "kernelspec": {
   "display_name": "base",
   "language": "python",
   "name": "python3"
  },
  "language_info": {
   "codemirror_mode": {
    "name": "ipython",
    "version": 3
   },
   "file_extension": ".py",
   "mimetype": "text/x-python",
   "name": "python",
   "nbconvert_exporter": "python",
   "pygments_lexer": "ipython3",
   "version": "3.11.7"
  }
 },
 "nbformat": 4,
 "nbformat_minor": 5
}
