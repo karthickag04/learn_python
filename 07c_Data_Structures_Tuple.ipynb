{
 "cells": [
  {
   "cell_type": "markdown",
   "metadata": {},
   "source": [
    "\"\"\"\n",
    "Tuple:\n",
    "------\n",
    "- Tuples are ordered, immutable collections of items.\n",
    "- They are defined using parentheses ().\n",
    "\n",
    "Examples:\n",
    "\"\"\""
   ]
  },
  {
   "cell_type": "code",
   "execution_count": null,
   "metadata": {},
   "outputs": [],
   "source": [
    "# Tuple example"
   ]
  },
  {
   "cell_type": "code",
   "execution_count": 9,
   "metadata": {},
   "outputs": [
    {
     "name": "stdout",
     "output_type": "stream",
     "text": [
      "Tuple: ('red', 'green', 'blue')\n",
      "First color: red\n"
     ]
    }
   ],
   "source": [
    "colors = (\"red\", \"green\", \"blue\")\n",
    "print(\"Tuple:\", colors)\n",
    "print(\"First color:\", colors[0])\n"
   ]
  },
  {
   "cell_type": "code",
   "execution_count": 10,
   "metadata": {},
   "outputs": [],
   "source": [
    "colors=list(colors)"
   ]
  },
  {
   "cell_type": "code",
   "execution_count": 11,
   "metadata": {},
   "outputs": [],
   "source": [
    "colors[0]=\"yellow\""
   ]
  },
  {
   "cell_type": "code",
   "execution_count": 12,
   "metadata": {},
   "outputs": [],
   "source": [
    "colors=tuple(colors)"
   ]
  },
  {
   "cell_type": "code",
   "execution_count": null,
   "metadata": {},
   "outputs": [],
   "source": [
    "# list of  methods under tuple only names and description\n",
    "# Tuples are immutable sequences in Python, meaning they cannot be changed after creation.\n",
    "# Tuples support various methods, but they are limited compared to lists since tuples cannot be modified.\n",
    "# Methods available for tuples:\n",
    "# count(x): Returns the number of occurrences of x in the tuple.\n",
    "# index(x[, start[, end]]): Returns the index of the first occurrence of x in the tuple (raises ValueError if not found).\n",
    "\n"
   ]
  }
 ],
 "metadata": {
  "kernelspec": {
   "display_name": "Python 3",
   "language": "python",
   "name": "python3"
  },
  "language_info": {
   "codemirror_mode": {
    "name": "ipython",
    "version": 3
   },
   "file_extension": ".py",
   "mimetype": "text/x-python",
   "name": "python",
   "nbconvert_exporter": "python",
   "pygments_lexer": "ipython3",
   "version": "3.13.2"
  }
 },
 "nbformat": 4,
 "nbformat_minor": 2
}
