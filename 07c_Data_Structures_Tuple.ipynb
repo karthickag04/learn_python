{
 "cells": [
  {
   "cell_type": "markdown",
   "metadata": {},
   "source": [
    "\"\"\"\n",
    "Tuple:\n",
    "------\n",
    "- Tuples are ordered, immutable collections of items.\n",
    "- They are defined using parentheses ().\n",
    "\n",
    "Examples:\n",
    "\"\"\""
   ]
  },
  {
   "cell_type": "code",
   "execution_count": null,
   "metadata": {},
   "outputs": [],
   "source": [
    "# Tuple example"
   ]
  },
  {
   "cell_type": "code",
   "execution_count": 8,
   "metadata": {},
   "outputs": [
    {
     "name": "stdout",
     "output_type": "stream",
     "text": [
      "Tuple: ('red', 'green', 'blue')\n",
      "First color: red\n",
      "Last color: blue\n"
     ]
    }
   ],
   "source": [
    "colors = (\"red\", \"green\", \"blue\")\n",
    "print(\"Tuple:\", colors)\n",
    "print(\"First color:\", colors[0])\n",
    "print(\"Last color:\", colors[-1])\n",
    "# colors[0] =\"White\" # This will raise an error because tuples are immutable\n"
   ]
  },
  {
   "cell_type": "code",
   "execution_count": 4,
   "metadata": {},
   "outputs": [],
   "source": [
    "colors=list(colors)"
   ]
  },
  {
   "cell_type": "code",
   "execution_count": 5,
   "metadata": {},
   "outputs": [],
   "source": [
    "colors[0]=\"yellow\""
   ]
  },
  {
   "cell_type": "code",
   "execution_count": 7,
   "metadata": {},
   "outputs": [
    {
     "name": "stdout",
     "output_type": "stream",
     "text": [
      "Modified Tuple: ('yellow', 'green', 'blue')\n"
     ]
    }
   ],
   "source": [
    "colors=tuple(colors)\n",
    "print(\"Modified Tuple:\", colors)"
   ]
  },
  {
   "cell_type": "code",
   "execution_count": null,
   "metadata": {},
   "outputs": [],
   "source": [
    "# list of  methods under tuple only names and description\n",
    "# Tuples are immutable sequences in Python, meaning they cannot be changed after creation.\n",
    "# Tuples support various methods, but they are limited compared to lists since tuples cannot be modified.\n",
    "# Methods available for tuples:\n",
    "# count(x): Returns the number of occurrences of x in the tuple.\n",
    "# index(x[, start[, end]]): Returns the index of the first occurrence of x in the tuple (raises ValueError if not found).\n",
    "\n"
   ]
  }
 ],
 "metadata": {
  "kernelspec": {
   "display_name": "myenv_Django",
   "language": "python",
   "name": "python3"
  },
  "language_info": {
   "codemirror_mode": {
    "name": "ipython",
    "version": 3
   },
   "file_extension": ".py",
   "mimetype": "text/x-python",
   "name": "python",
   "nbconvert_exporter": "python",
   "pygments_lexer": "ipython3",
   "version": "3.13.2"
  }
 },
 "nbformat": 4,
 "nbformat_minor": 2
}
