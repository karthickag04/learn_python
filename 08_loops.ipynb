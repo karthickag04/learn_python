{
 "cells": [
  {
   "cell_type": "markdown",
   "id": "c3b12857",
   "metadata": {},
   "source": [
    "## **Loops under Python**"
   ]
  },
  {
   "cell_type": "markdown",
   "id": "f4eb6e42",
   "metadata": {},
   "source": [
    "# For Loop"
   ]
  },
  {
   "cell_type": "code",
   "execution_count": 2,
   "id": "035feb24",
   "metadata": {},
   "outputs": [
    {
     "name": "stdout",
     "output_type": "stream",
     "text": [
      "1\n",
      "2\n",
      "3\n",
      "4\n",
      "5\n"
     ]
    }
   ],
   "source": [
    "# For loop in Python\n",
    "# This script demonstrates how to use a for loop to iterate over a list of numbers\n",
    "numbers = [1, 2, 3, 4, 5]\n",
    "\n",
    "print(numbers[0])\n",
    "print(numbers[1])\n",
    "print(numbers[2])\n",
    "print(numbers[3])\n",
    "print(numbers[4])\n"
   ]
  },
  {
   "cell_type": "code",
   "execution_count": 3,
   "id": "e4d10a3b",
   "metadata": {},
   "outputs": [
    {
     "name": "stdout",
     "output_type": "stream",
     "text": [
      "1\n",
      "2\n",
      "3\n",
      "4\n",
      "5\n"
     ]
    }
   ],
   "source": [
    "# using a for loop to iterate through the list\n",
    "\n",
    "for n in numbers:\n",
    "    print(n)"
   ]
  },
  {
   "cell_type": "code",
   "execution_count": 10,
   "id": "bed68e29",
   "metadata": {},
   "outputs": [
    {
     "name": "stdout",
     "output_type": "stream",
     "text": [
      "Not found 3!\n",
      "Not found 3!\n",
      "Found 3!\n",
      "Not found 3!\n",
      "Not found 3!\n"
     ]
    }
   ],
   "source": [
    "for n in numbers:\n",
    "    if n == 3:\n",
    "        print(\"Found 3!\")\n",
    "    else:\n",
    "        print(\"Not found 3!\")"
   ]
  },
  {
   "cell_type": "code",
   "execution_count": 11,
   "id": "31f06a63",
   "metadata": {},
   "outputs": [
    {
     "name": "stdout",
     "output_type": "stream",
     "text": [
      "range(0, 5)\n"
     ]
    }
   ],
   "source": [
    "print(range(5))  # range(5) generates numbers from 0 to 4"
   ]
  },
  {
   "cell_type": "code",
   "execution_count": 12,
   "id": "e12f7c04",
   "metadata": {},
   "outputs": [
    {
     "name": "stdout",
     "output_type": "stream",
     "text": [
      "0\n",
      "1\n",
      "2\n",
      "3\n",
      "4\n"
     ]
    }
   ],
   "source": [
    "for n in range(5):\n",
    "    print(n)\n",
    "    "
   ]
  },
  {
   "cell_type": "code",
   "execution_count": 18,
   "id": "52bba447",
   "metadata": {},
   "outputs": [
    {
     "name": "stdout",
     "output_type": "stream",
     "text": [
      "i: 0 j: 0\n",
      "i: 0 j: 1\n",
      "i: 1 j: 0\n",
      "i: 1 j: 1\n",
      "i: 2 j: 0\n",
      "i: 2 j: 1\n"
     ]
    }
   ],
   "source": [
    "# Example of nested for loops\n",
    "for i in range(3):\n",
    "    for j in range(2):\n",
    "        print(\"i:\", i, \"j:\", j)\n"
   ]
  },
  {
   "cell_type": "code",
   "execution_count": null,
   "id": "b5be7403",
   "metadata": {},
   "outputs": [],
   "source": [
    "## try with different arrays instead of range\n",
    "\n"
   ]
  },
  {
   "cell_type": "code",
   "execution_count": 20,
   "id": "9ce87951",
   "metadata": {},
   "outputs": [
    {
     "name": "stdout",
     "output_type": "stream",
     "text": [
      "Break Example: 0\n",
      "Break Example: 1\n",
      "Break Example: 2\n",
      "Break Example: 3\n",
      "Break Example: 4\n",
      "\n",
      "\n",
      "\n",
      "\n",
      "Continue Example: 0\n",
      "Continue Example: 1\n",
      "Continue Example: 2\n",
      "Continue Example: 3\n",
      "Continue Example: 4\n",
      "Continue Example: 6\n",
      "Continue Example: 7\n",
      "Continue Example: 8\n",
      "Continue Example: 9\n"
     ]
    }
   ],
   "source": [
    "# Example of break statement\n",
    "for i in range(10):\n",
    "    if i == 5:\n",
    "        break\n",
    "    print(\"Break Example:\", i)\n",
    "\n",
    "\n",
    "print(\"\\n\")  # Print a newline for better readability\n",
    "print(\"\\n\")  # Print a newline for better readability\n",
    "# Example of continue statement\n",
    "for i in range(10):\n",
    "    if i == 5:\n",
    "        continue\n",
    "    print(\"Continue Example:\", i)\n"
   ]
  },
  {
   "cell_type": "code",
   "execution_count": 22,
   "id": "bf84ba4a",
   "metadata": {},
   "outputs": [
    {
     "name": "stdout",
     "output_type": "stream",
     "text": [
      "For Loop with Else: 0\n",
      "For Loop with Else: 1\n",
      "For Loop with Else: 2\n",
      "For Loop with Else: 3\n",
      "For Loop with Else: 4\n",
      "Loop finished\n"
     ]
    }
   ],
   "source": [
    "# Examples:\n",
    "\n",
    "# Example of for loop with else\n",
    "for i in range(5):\n",
    " print(\"For Loop with Else:\", i)\n",
    "else:\n",
    "    print(\"Loop finished\")\n",
    "\n"
   ]
  },
  {
   "cell_type": "code",
   "execution_count": 27,
   "id": "5f990fdf",
   "metadata": {},
   "outputs": [
    {
     "name": "stdout",
     "output_type": "stream",
     "text": [
      "Key: name Value: John\n",
      "Key: age Value: 21\n",
      "Key: course Value: Data Science\n",
      "Found age key!\n",
      "Found Data Science course!\n"
     ]
    }
   ],
   "source": [
    "# Example of iterating over dictionary keys\n",
    "student = {\"name\": \"John\", \"age\": 21, \"course\": \"Data Science\"}\n",
    "\n",
    "for k in student:\n",
    "    print(\"Key:\", k, \"Value:\", student[k])\n",
    "\n",
    "\n",
    "for k in student:\n",
    "    if k == \"age\":\n",
    "        print(\"Found age key!\")\n",
    "        \n",
    "    elif student[k] == \"Data Science\":\n",
    "        print(\"Found Data Science course!\")\n",
    "\n"
   ]
  },
  {
   "cell_type": "code",
   "execution_count": 29,
   "id": "dbad3421",
   "metadata": {},
   "outputs": [
    {
     "name": "stdout",
     "output_type": "stream",
     "text": [
      "Key: name Value: John\n",
      "Key: age Value: 21\n",
      "Key: course Value: Data Science\n",
      "Found name key!\n"
     ]
    }
   ],
   "source": [
    "# Example of iterating over dictionary items\n",
    "for key, value in student.items():\n",
    "    print(\"Key:\", key, \"Value:\", value)\n",
    "\n",
    "\n",
    "\n",
    "for key, value in student.items():\n",
    "    if key == \"name\":\n",
    "        print(\"Found name key!\")\n",
    "    elif value == \"John\":\n",
    "        print(\"Found John as a value!\")\n"
   ]
  },
  {
   "cell_type": "markdown",
   "id": "2853e80a",
   "metadata": {},
   "source": [
    "Additional Examples"
   ]
  },
  {
   "cell_type": "code",
   "execution_count": 30,
   "id": "79aa194a",
   "metadata": {},
   "outputs": [
    {
     "name": "stdout",
     "output_type": "stream",
     "text": [
      "we have stock  apple\n",
      "this is letter a\n",
      "this is letter p\n",
      "this is letter p\n",
      "this is letter l\n",
      "this is letter e\n",
      "we do not have stock banana\n",
      "b\n",
      "a\n",
      "n\n",
      "a\n",
      "n\n",
      "a\n",
      "we have stock cherry\n",
      "c\n",
      "h\n",
      "e\n",
      "r\n",
      "r\n",
      "y\n"
     ]
    }
   ],
   "source": [
    "fruits = [\"apple\", \"banana\", \"cherry\"]\n",
    "\n",
    "\n",
    "\n",
    "for fruit in fruits:\n",
    "    # print(fruit)\n",
    "    if(fruit=='apple'):\n",
    "        print(\"we have stock \", fruit)\n",
    "        for f in fruit:\n",
    "            if(f==\"a\"):\n",
    "                print(\"this is letter a\")\n",
    "            elif(f==\"l\"):\n",
    "                print(\"this is letter l\")\n",
    "            elif(f==\"p\"):\n",
    "                print(\"this is letter p\")\n",
    "            elif(f==\"e\"):\n",
    "                print(\"this is letter e\")\n",
    "    elif(fruit==\"banana\"):\n",
    "        print(\"we do not have stock\", fruit)\n",
    "        for f in fruit:\n",
    "            print(f)\n",
    "    elif(fruit==\"cherry\"):\n",
    "        print(\"we have stock\", fruit)\n",
    "        for f in fruit:\n",
    "            print(f)\n"
   ]
  },
  {
   "cell_type": "markdown",
   "id": "0580febb",
   "metadata": {},
   "source": [
    "# While Loop"
   ]
  },
  {
   "cell_type": "code",
   "execution_count": 14,
   "id": "22003131",
   "metadata": {},
   "outputs": [
    {
     "data": {
      "text/plain": [
       "5"
      ]
     },
     "execution_count": 14,
     "metadata": {},
     "output_type": "execute_result"
    }
   ],
   "source": [
    "numbers = [1, 2, 3, 4, 5]\n",
    "len(numbers)  # len() returns the number of elements in the list"
   ]
  },
  {
   "cell_type": "code",
   "execution_count": 17,
   "id": "974f9042",
   "metadata": {},
   "outputs": [
    {
     "name": "stdout",
     "output_type": "stream",
     "text": [
      "1\n",
      "2\n",
      "3\n",
      "4\n",
      "5\n"
     ]
    }
   ],
   "source": [
    "i = 0\n",
    "while i < len(numbers):\n",
    "    print(numbers[i])\n",
    "    i += 1  # increment i to avoid infinite loop"
   ]
  },
  {
   "cell_type": "code",
   "execution_count": null,
   "id": "44c3285a",
   "metadata": {},
   "outputs": [],
   "source": [
    "# Example of nested while loops\n",
    "i = 0\n",
    "while i < 3:\n",
    "    j = 0\n",
    "    while j < 2:\n",
    "        print(\"i:\", i, \"j:\", j)\n",
    "        j += 1\n",
    "    i += 1\n"
   ]
  },
  {
   "cell_type": "code",
   "execution_count": 23,
   "id": "bb44246d",
   "metadata": {},
   "outputs": [
    {
     "name": "stdout",
     "output_type": "stream",
     "text": [
      "While Loop with Else: 0\n",
      "While Loop with Else: 1\n",
      "While Loop with Else: 2\n",
      "While Loop with Else: 3\n",
      "While Loop with Else: 4\n",
      "Loop finished\n"
     ]
    }
   ],
   "source": [
    "# Example of while loop with else\n",
    "count = 0\n",
    "while count < 5:\n",
    "    print(\"While Loop with Else:\", count)\n",
    "    count += 1\n",
    "else:\n",
    "    print(\"Loop finished\")"
   ]
  }
 ],
 "metadata": {
  "kernelspec": {
   "display_name": "Python 3",
   "language": "python",
   "name": "python3"
  },
  "language_info": {
   "codemirror_mode": {
    "name": "ipython",
    "version": 3
   },
   "file_extension": ".py",
   "mimetype": "text/x-python",
   "name": "python",
   "nbconvert_exporter": "python",
   "pygments_lexer": "ipython3",
   "version": "3.11.6"
  }
 },
 "nbformat": 4,
 "nbformat_minor": 5
}
