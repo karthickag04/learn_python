{
 "cells": [
  {
   "cell_type": "code",
   "execution_count": 7,
   "id": "00428827",
   "metadata": {},
   "outputs": [],
   "source": [
    "class ClassWithStaticMethod:\n",
    "    variable = \"This is a class variable.\"\n",
    "\n",
    "    @staticmethod\n",
    "    def static_method():\n",
    "        return ClassWithStaticMethod.variable"
   ]
  },
  {
   "cell_type": "code",
   "execution_count": 8,
   "id": "2e2dfce4",
   "metadata": {},
   "outputs": [
    {
     "name": "stdout",
     "output_type": "stream",
     "text": [
      "This is a class variable.\n"
     ]
    }
   ],
   "source": [
    "print(ClassWithStaticMethod.static_method())"
   ]
  }
 ],
 "metadata": {
  "kernelspec": {
   "display_name": "Python 3",
   "language": "python",
   "name": "python3"
  },
  "language_info": {
   "codemirror_mode": {
    "name": "ipython",
    "version": 3
   },
   "file_extension": ".py",
   "mimetype": "text/x-python",
   "name": "python",
   "nbconvert_exporter": "python",
   "pygments_lexer": "ipython3",
   "version": "3.13.5"
  }
 },
 "nbformat": 4,
 "nbformat_minor": 5
}
