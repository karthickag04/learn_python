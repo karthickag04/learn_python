{
 "cells": [
  {
   "cell_type": "code",
   "execution_count": null,
   "id": "00d8f682",
   "metadata": {},
   "outputs": [],
   "source": [
    "class ClassWithVariable:\n",
    "    # class variable\n",
    "    variable = 100\n",
    "\n",
    "    # instance variable\n",
    "    def __init__(self, username):\n",
    "        self.variable = 42\n",
    "\n",
    "    # instance method to get the instance variable\n",
    "    def get_variable(self):\n",
    "        return self.variable\n",
    "    \n",
    "    def get_class_variable(self):\n",
    "        return ClassWithVariable.variable"
   ]
  },
  {
   "cell_type": "code",
   "execution_count": 11,
   "id": "bd5e68b5",
   "metadata": {},
   "outputs": [
    {
     "name": "stdout",
     "output_type": "stream",
     "text": [
      "42\n",
      "100\n",
      "100\n",
      "42\n"
     ]
    }
   ],
   "source": [
    "x = ClassWithVariable()\n",
    "# Accessing the instance variable\n",
    "print(x.get_variable())  # Output: 42\n",
    "# Accessing the class variable\n",
    "print(x.get_class_variable())  # Output: 100\n",
    "\n",
    "print(ClassWithVariable.variable)  # Output: 100\n",
    "print(x.variable)  # Output: 42"
   ]
  }
 ],
 "metadata": {
  "kernelspec": {
   "display_name": "Python 3",
   "language": "python",
   "name": "python3"
  },
  "language_info": {
   "codemirror_mode": {
    "name": "ipython",
    "version": 3
   },
   "file_extension": ".py",
   "mimetype": "text/x-python",
   "name": "python",
   "nbconvert_exporter": "python",
   "pygments_lexer": "ipython3",
   "version": "3.13.5"
  }
 },
 "nbformat": 4,
 "nbformat_minor": 5
}
