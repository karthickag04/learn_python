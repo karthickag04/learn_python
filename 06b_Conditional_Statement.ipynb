{
 "cells": [
  {
   "cell_type": "code",
   "execution_count": 6,
   "id": "51fa5832",
   "metadata": {},
   "outputs": [
    {
     "name": "stdout",
     "output_type": "stream",
     "text": [
      "The sum is: 55\n"
     ]
    }
   ],
   "source": [
    "# Prompt the user for two numbers and an arithmetic operator\n",
    "getvalue01 = int(input(\"Enter value 01: \"))\n",
    "getvalue02 = int(input(\"Enter value 02: \"))\n",
    "\n",
    "operator = input(\"Enter an operator (+, -, *, /): \")\n",
    "\n",
    "if operator == '+':\n",
    "    result = getvalue01 + getvalue02\n",
    "    print(\"The sum is:\", result)\n",
    "\n",
    "elif operator == '-':\n",
    "    result = getvalue01 - getvalue02\n",
    "    print(\"The difference is:\", result)\n",
    "\n",
    "elif operator == '*':\n",
    "    result = getvalue01 * getvalue02\n",
    "    print(\"The product is:\", result)\n",
    "\n",
    "elif operator == '/':\n",
    "    if getvalue02 != 0:\n",
    "        result = getvalue01 / getvalue02\n",
    "        print(\"The quotient is:\", result)\n",
    "    else:\n",
    "        print(\"Error: Division by zero is not allowed.\")\n",
    "\n",
    "else:\n",
    "    print(\"Invalid operator. Please enter one of +, -, *, or /.\")"
   ]
  },
  {
   "cell_type": "code",
   "execution_count": null,
   "id": "8a656dd4",
   "metadata": {},
   "outputs": [],
   "source": [
    "# Prompt the user for two numbers and an arithmetic operator\n",
    "getvalue01 = int(input(\"Enter value 01: \"))\n",
    "getvalue02 = int(input(\"Enter value 02: \"))\n",
    "\n",
    "operator = input(\"Enter an operator (+, -, *, /): \")\n",
    "\n",
    "if operator == '+':\n",
    "    result = getvalue01 + getvalue02\n",
    "    print(\"The sum is:\", result)\n",
    "\n",
    "elif operator == '-':\n",
    "    result = getvalue01 - getvalue02\n",
    "    print(\"The difference is:\", result)\n",
    "\n",
    "elif operator == '*':\n",
    "    result = getvalue01 * getvalue02\n",
    "    print(\"The product is:\", result)\n",
    "\n",
    "elif operator == '/':\n",
    "    if getvalue02 != 0:\n",
    "        result = getvalue01 / getvalue02\n",
    "        print(\"The quotient is:\", result)\n",
    "    else:\n",
    "        print(\"Error: Division by zero is not allowed.\")\n",
    "\n",
    "else:\n",
    "    print(\"Invalid operator. Please enter one of +, -, *, or /.\")"
   ]
  },
  {
   "cell_type": "code",
   "execution_count": null,
   "id": "3ded2de5",
   "metadata": {},
   "outputs": [],
   "source": []
  },
  {
   "cell_type": "code",
   "execution_count": null,
   "id": "08ff7cae",
   "metadata": {},
   "outputs": [],
   "source": [
    "# Prompt the user for two numbers and an arithmetic operator\n",
    "getvalue01 = int(input(\"Enter value 01: \"))\n",
    "getvalue02 = int(input(\"Enter value 02: \"))\n",
    "\n",
    "operator = input(\"Enter an operator (+, -, *, /): \")\n",
    "\n",
    "# Change if-else logic to match-case\n",
    "match operator:\n",
    "    case '+':\n",
    "        result = getvalue01 + getvalue02\n",
    "        print(\"The sum is:\", result)\n",
    "\n",
    "    case '-':\n",
    "        result = getvalue01 - getvalue02\n",
    "        print(\"The difference is:\", result)\n",
    "\n",
    "    case '*':\n",
    "        result = getvalue01 * getvalue02\n",
    "        print(\"The product is:\", result)\n",
    "\n",
    "    case '/':\n",
    "        if getvalue02 != 0:\n",
    "            result = getvalue01 / getvalue02\n",
    "            print(\"The quotient is:\", result)\n",
    "        else:\n",
    "            print(\"Error: Division by zero is not allowed.\")\n",
    "\n",
    "    case _:\n",
    "        print(\"Invalid operator. Please enter one of +, -, *, or /.\")"
   ]
  }
 ],
 "metadata": {
  "kernelspec": {
   "display_name": "Python 3",
   "language": "python",
   "name": "python3"
  },
  "language_info": {
   "codemirror_mode": {
    "name": "ipython",
    "version": 3
   },
   "file_extension": ".py",
   "mimetype": "text/x-python",
   "name": "python",
   "nbconvert_exporter": "python",
   "pygments_lexer": "ipython3",
   "version": "3.13.5"
  }
 },
 "nbformat": 4,
 "nbformat_minor": 5
}
